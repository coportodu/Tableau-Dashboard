{
  "nbformat": 4,
  "nbformat_minor": 0,
  "metadata": {
    "colab": {
      "name": "Dashboard Tableau_Data Preprocessing.ipynb",
      "provenance": [],
      "collapsed_sections": [],
      "toc_visible": true
    },
    "kernelspec": {
      "name": "python3",
      "display_name": "Python 3"
    },
    "language_info": {
      "name": "python"
    }
  },
  "cells": [
    {
      "cell_type": "markdown",
      "source": [
        "#Importar Librerías"
      ],
      "metadata": {
        "id": "0mVlUV3-q4ls"
      }
    },
    {
      "cell_type": "code",
      "source": [
        "import pandas as pd \n",
        "import numpy as np\n",
        "import glob, os"
      ],
      "metadata": {
        "id": "EwgMaYxDBfpL"
      },
      "execution_count": 1,
      "outputs": []
    },
    {
      "cell_type": "markdown",
      "source": [
        "Conectar con Google Colab"
      ],
      "metadata": {
        "id": "61NJcNsJq8dT"
      }
    },
    {
      "cell_type": "code",
      "source": [
        "from google.colab import drive\n",
        "drive.mount('/content/drive')"
      ],
      "metadata": {
        "colab": {
          "base_uri": "https://localhost:8080/"
        },
        "id": "AaOtMw6CBQBx",
        "outputId": "b8e47574-493b-417c-9290-e4c96d914adf"
      },
      "execution_count": 2,
      "outputs": [
        {
          "output_type": "stream",
          "name": "stdout",
          "text": [
            "Drive already mounted at /content/drive; to attempt to forcibly remount, call drive.mount(\"/content/drive\", force_remount=True).\n"
          ]
        }
      ]
    },
    {
      "cell_type": "markdown",
      "source": [
        "Dar Estilo a las visualizaciones de los DataFrame como tablas de Google"
      ],
      "metadata": {
        "id": "WoXRNLwEq_bm"
      }
    },
    {
      "cell_type": "code",
      "source": [
        "%load_ext google.colab.data_table"
      ],
      "metadata": {
        "id": "oLoJVhqvrIG6"
      },
      "execution_count": 3,
      "outputs": []
    },
    {
      "cell_type": "markdown",
      "source": [
        "# Datos de Anemia en Perú - SIEN (Sistema de Información del Estado Nutricional)"
      ],
      "metadata": {
        "id": "cESivoT6Gkjl"
      }
    },
    {
      "cell_type": "markdown",
      "source": [
        "* url: https://www.datosabiertos.gob.pe/dataset/poblaci%C3%B3n-peru\n",
        "* fuente: Instituto Nacional de Salud\n",
        "* Fecha Lanzamiento: Resultados 2020"
      ],
      "metadata": {
        "id": "YhhwWKE9rObU"
      }
    },
    {
      "cell_type": "markdown",
      "source": [
        "Al descargar los datos se obtiene un ZIP con carpetas para la evaluacion de Desnutrición y Anemia. En este notebook se toman sólo los datos de anemia los cuales están separados en 29 archivos csv (1 por cada departamento, a excepción de Lima que cuenta con 4 archivos)"
      ],
      "metadata": {
        "id": "21pxzz-qrgb7"
      }
    },
    {
      "cell_type": "markdown",
      "source": [
        "## Importación de los datos"
      ],
      "metadata": {
        "id": "puzWzCEOuJ8_"
      }
    },
    {
      "cell_type": "markdown",
      "source": [
        "Se establece la ruta de la cual se leerán los archivos. En este caso, desde una carpeta de Google Drive"
      ],
      "metadata": {
        "id": "IOZKGSajsDzX"
      }
    },
    {
      "cell_type": "code",
      "source": [
        "path = '/content/drive/MyDrive/Colab Notebooks/Portafolio/Data/SIEN_Hemoglobina/'\n",
        "os.chdir(path)"
      ],
      "metadata": {
        "id": "Puc8rcJhGob3"
      },
      "execution_count": 4,
      "outputs": []
    },
    {
      "cell_type": "markdown",
      "source": [
        "Se obtienen todos los nombres de archivo con extensión .csv"
      ],
      "metadata": {
        "id": "H4XIwqtasMT4"
      }
    },
    {
      "cell_type": "code",
      "source": [
        "extension = 'csv'\n",
        "all_filenames = [i for i in glob.glob('*.{}'.format(extension))]"
      ],
      "metadata": {
        "id": "zbdLsZ75Gob3"
      },
      "execution_count": 5,
      "outputs": []
    },
    {
      "cell_type": "markdown",
      "source": [
        "El siguiente método lee cada archivo .csv, los convierte en un DataFrame y los almacena en un conjunto de DataFrames."
      ],
      "metadata": {
        "id": "X873wRw8sT37"
      }
    },
    {
      "cell_type": "markdown",
      "source": [
        "Se intenta leer cada archivo con la codificación utf-8 en caso no sea posible se intenta con la codificación latin-1"
      ],
      "metadata": {
        "id": "4937vyaXsnDe"
      }
    },
    {
      "cell_type": "code",
      "source": [
        "i=1\n",
        "combined_csv=[]\n",
        "for f in all_filenames:\n",
        "  r=''\n",
        "  df = pd.DataFrame()\n",
        "  try:\n",
        "    df = pd.read_csv(f, encoding = 'utf-8')\n",
        "    r='utf-8 - ok'\n",
        "  #except ValueError:\n",
        "  except:\n",
        "    try:\n",
        "      df = pd.read_csv(f, encoding = 'latin-1')\n",
        "      r='latin-1 - ok'\n",
        "    except:\n",
        "      r='error'\n",
        "  print(i,'.-',f,'-------',r)\n",
        "  i+=1\n",
        "  if len(df) > 0:\n",
        "    combined_csv.append(df)"
      ],
      "metadata": {
        "id": "yNQlvuKnGob4",
        "colab": {
          "base_uri": "https://localhost:8080/"
        },
        "outputId": "0d7f6768-3c98-4c51-86ce-fc960ac711f3"
      },
      "execution_count": 6,
      "outputs": [
        {
          "output_type": "stream",
          "name": "stdout",
          "text": [
            "1 .- ANCASH.csv ------- utf-8 - ok\n",
            "2 .- APURIMAC.csv ------- utf-8 - ok\n",
            "3 .- AREQUIPA.csv ------- utf-8 - ok\n",
            "4 .- AYACUCHO.csv ------- utf-8 - ok\n",
            "5 .- CAJAMARCA.csv ------- utf-8 - ok\n",
            "6 .- CALLAO.csv ------- utf-8 - ok\n",
            "7 .- CUSCO.csv ------- utf-8 - ok\n",
            "8 .- HUANCAVELICA.csv ------- utf-8 - ok\n",
            "9 .- AMAZONAS.csv ------- utf-8 - ok\n",
            "10 .- UCAYALI.csv ------- utf-8 - ok\n",
            "11 .- TUMBES.csv ------- utf-8 - ok\n",
            "12 .- TACNA.csv ------- utf-8 - ok\n",
            "13 .- SAN MARTIN.csv ------- utf-8 - ok\n",
            "14 .- PUNO.csv ------- utf-8 - ok\n",
            "15 .- PIURA.csv ------- utf-8 - ok\n",
            "16 .- PASCO.csv ------- utf-8 - ok\n",
            "17 .- MOQUEGUA.csv ------- utf-8 - ok\n",
            "18 .- MADRE DE DIOS.csv ------- utf-8 - ok\n",
            "19 .- LORETO.csv ------- utf-8 - ok\n",
            "20 .- LIMA DIRIS SUR.csv ------- utf-8 - ok\n",
            "21 .- LIMA.csv ------- utf-8 - ok\n",
            "22 .- LIMA DIRIS NORTE.csv ------- utf-8 - ok\n",
            "23 .- LIMA DIRIS ESTE.csv ------- utf-8 - ok\n",
            "24 .- LIMA DIRIS CENTRO.csv ------- utf-8 - ok\n",
            "25 .- LAMBAYEQUE.csv ------- utf-8 - ok\n",
            "26 .- LA LIBERTAD.csv ------- utf-8 - ok\n",
            "27 .- JUNIN.csv ------- utf-8 - ok\n",
            "28 .- ICA.csv ------- utf-8 - ok\n",
            "29 .- HUANUCO.csv ------- latin-1 - ok\n"
          ]
        }
      ]
    },
    {
      "cell_type": "markdown",
      "source": [
        "**Sólo HUANUCO se lee con codificación latin-1**"
      ],
      "metadata": {
        "id": "X9JEAOPPs0Xf"
      }
    },
    {
      "cell_type": "markdown",
      "source": [
        "Se consolida todos los dataframes en 1 solo"
      ],
      "metadata": {
        "id": "cUQOkknEs7wu"
      }
    },
    {
      "cell_type": "code",
      "source": [
        "combined_csv = pd.concat([f for f in combined_csv])"
      ],
      "metadata": {
        "id": "FfXTp8K8Gob4"
      },
      "execution_count": 7,
      "outputs": []
    },
    {
      "cell_type": "code",
      "source": [
        "combined_csv.columns"
      ],
      "metadata": {
        "id": "jG5Qso_AxN6x",
        "colab": {
          "base_uri": "https://localhost:8080/"
        },
        "outputId": "e8c4d4cf-779a-4800-8a5e-32ffd3012711"
      },
      "execution_count": 8,
      "outputs": [
        {
          "output_type": "execute_result",
          "data": {
            "text/plain": [
              "Index(['Diresa', 'Red', 'Microred', 'EESS', 'Dpto_EESS', 'Prov_EESS',\n",
              "       'Dist_EESS', 'Renipress', 'FechaAtencion', 'Sexo', 'FechaNacimiento',\n",
              "       'EdadMeses', 'UbigeoPN', 'DepartamentoPN', 'ProvinciaPN', 'DistritoPN',\n",
              "       'CentroPobladoPN', 'Juntos', 'SIS', 'Pin', 'Qaliwarma', 'Peso', 'Talla',\n",
              "       'Hemoglobina', 'FechaHemoglobina', 'Cred', 'Suplementacion',\n",
              "       'Consejeria', 'Sesion', 'UbigeoREN', 'DepartamentoREN', 'ProvinciaREN',\n",
              "       'DistritoREN', 'AlturaREN', 'HBC', 'Dx_Anemia', 'ï»¿Diresa'],\n",
              "      dtype='object')"
            ]
          },
          "metadata": {},
          "execution_count": 8
        }
      ]
    },
    {
      "cell_type": "markdown",
      "source": [
        "Se detectan errores en los nombres de distritos y provincias de HUANUCO. (Ej. BAÃ\\x91OS, PUÃ\\x91OS')"
      ],
      "metadata": {
        "id": "VJ7BKvzDtEK6"
      }
    },
    {
      "cell_type": "code",
      "source": [
        "field = 'DistritoREN'\n",
        "print([d for d in combined_csv[combined_csv['Dpto_EESS']=='HUANUCO'].sort_values(by=field)[field].unique()] )"
      ],
      "metadata": {
        "id": "7zlYt-V8qD7o",
        "colab": {
          "base_uri": "https://localhost:8080/"
        },
        "outputId": "36db5bcf-dc3a-4af6-ddbf-857a424a12bf"
      },
      "execution_count": 9,
      "outputs": [
        {
          "output_type": "stream",
          "name": "stdout",
          "text": [
            "['AMARILIS', 'AMBO', 'APARICIO POMARES', 'ARANCAY', 'BAÃ\\x91OS', 'CAHUAC', 'CANCHABAMBA', 'CASTILLO GRANDE', 'CAYNA', 'CHACABAMBA', 'CHAGLLA', 'CHAVIN DE PARIARCA', 'CHAVINILLO', 'CHINCHAO', 'CHOLON', 'CHORAS', 'CHUQUIS', 'CHURUBAMBA', 'COCHABAMBA', 'CODO DEL POZUZO', 'COLPAS', 'CONCHAMARCA', 'DANIEL ALOMIA ROBLES', 'HERMILIO VALDIZAN', 'HONORIA', 'HUACAR', 'HUACAYBAMBA', 'HUACRACHUCO', 'HUANUCO', 'JACAS CHICO', 'JACAS GRANDE', 'JESUS', 'JIRCAN', 'JIVIA', 'JOSE CRESPO Y CASTILLO', 'LA MORADA', 'LA UNION', 'LLATA', 'LUYANDO', 'MARGOS', 'MARIANO DAMASO BERAUN', 'MARIAS', 'MIRAFLORES', 'MOLINO', 'MONZON', 'OBAS', 'PACHAS', 'PAMPAMARCA', 'PANAO', 'PILLCO MARCA', 'PINRA', 'PUCAYACU', 'PUEBLO NUEVO', 'PUERTO INCA', 'PUNCHAO', 'PUÃ\\x91OS', 'QUISQUI', 'QUIVILLA', 'RIPAN', 'RONDOS', 'RUPA-RUPA', 'SAN BUENAVENTURA', 'SAN FRANCISCO', 'SAN FRANCISCO DE ASIS', 'SAN FRANCISCO DE CAYRAN', 'SAN MIGUEL DE CAURI', 'SAN PABLO DE PILLAO', 'SAN PEDRO DE CHAULAN', 'SAN RAFAEL', 'SANTA MARIA DEL VALLE', 'SANTA ROSA DE ALTO YANAJANCA', 'SANTO DOMINGO DE ANDA', 'SHUNQUI', 'SILLAPATA', 'SINGA', 'TANTAMAYO', 'TOMAY-KICHWA', 'TOURNAVISTA', 'UMARI', 'YACUS', 'YANAS', 'YARUMAYO', 'YUYAPICHIS']\n"
          ]
        }
      ]
    },
    {
      "cell_type": "markdown",
      "source": [
        "Estos errores se pueden corregir reemplazando las cadenas de texto con las siguientes líneas de código"
      ],
      "metadata": {
        "id": "CDqK54LotXJS"
      }
    },
    {
      "cell_type": "code",
      "source": [
        "# combined_csv = combined_csv.replace(r'Ã\\x91', 'Ñ', regex=True)\n",
        "# combined_csv = combined_csv.replace(r'Ã\\x83â\\x80\\x98', 'Ñ', regex=True)\n",
        "# combined_csv = combined_csv.replace(r'Ã\\x90', 'Ñ', regex=True)\n",
        "# combined_csv = combined_csv.replace(r'Ã\\x83Æ\\x92Ã¢â\\x82¬Ë\\x9c', 'Ñ', regex=True)"
      ],
      "metadata": {
        "id": "VLk5-ue2y1O2"
      },
      "execution_count": 10,
      "outputs": []
    },
    {
      "cell_type": "markdown",
      "source": [
        "Sin embargo, dado que este proceso toma algo de tiempo y que se importará una tabla de ubigeos de la cual se pueden obtener estos datos con nomenclaturas correctas, estos campos no se tomarán en cuenta"
      ],
      "metadata": {
        "id": "Ypfv-3kLtnzP"
      }
    },
    {
      "cell_type": "code",
      "source": [
        "combined_csv.head(5)"
      ],
      "metadata": {
        "id": "C_NSUgdJ75gN",
        "colab": {
          "base_uri": "https://localhost:8080/",
          "height": 577
        },
        "outputId": "99e87b22-2870-4968-9acb-391a5aae8d66"
      },
      "execution_count": 11,
      "outputs": [
        {
          "output_type": "stream",
          "name": "stdout",
          "text": [
            "Warning: Total number of columns (37) exceeds max_columns (20). Falling back to pandas display.\n"
          ]
        },
        {
          "output_type": "execute_result",
          "data": {
            "text/plain": [
              "   Diresa            Red    Microred  \\\n",
              "0  ANCASH    HUAYLAS SUR    CHIQUIAN   \n",
              "1  ANCASH  CONCHUCOS SUR  SAN MARCOS   \n",
              "2  ANCASH  CONCHUCOS SUR  SAN MARCOS   \n",
              "3  ANCASH  CONCHUCOS SUR  SAN MARCOS   \n",
              "4  ANCASH    HUAYLAS SUR  HUARUPAMPA   \n",
              "\n",
              "                                                EESS Dpto_EESS  Prov_EESS  \\\n",
              "0           I-1   - 00001498 - PUESTO DE SALUD QUERO    ANCASH  BOLOGNESI   \n",
              "1  I-1   - 00025623 - PUESTO DE SALUD AYASH DE HU...    ANCASH      HUARI   \n",
              "2  I-1   - 00025623 - PUESTO DE SALUD AYASH DE HU...    ANCASH      HUARI   \n",
              "3  I-1   - 00025623 - PUESTO DE SALUD AYASH DE HU...    ANCASH      HUARI   \n",
              "4      I-3   - 00001562 - CENTRO DE SALUD HUARUPAMPA    ANCASH     HUARAZ   \n",
              "\n",
              "    Dist_EESS  Renipress FechaAtencion Sexo  ... Consejeria  Sesion UbigeoREN  \\\n",
              "0      HUASTA       1498    11/21/2020    M  ...          0       0     20509   \n",
              "1  SAN MARCOS      25623     10/5/2020    M  ...          0       0     21014   \n",
              "2  SAN MARCOS      25623    10/16/2020    M  ...          0       0     21014   \n",
              "3  SAN MARCOS      25623    11/29/2020    M  ...          0       0     21014   \n",
              "4      HUARAZ       1562     11/8/2020    M  ...          1       0     20101   \n",
              "\n",
              "  DepartamentoREN ProvinciaREN DistritoREN AlturaREN        HBC  \\\n",
              "0          ANCASH    BOLOGNESI      HUASTA      3385  10.112294   \n",
              "1          ANCASH        HUARI  SAN MARCOS      2964  12.308217   \n",
              "2          ANCASH        HUARI  SAN MARCOS      2964  12.008217   \n",
              "3          ANCASH        HUARI  SAN MARCOS      2964  12.208217   \n",
              "4          ANCASH       HUARAZ      HUARAZ      3052   9.890674   \n",
              "\n",
              "         Dx_Anemia ï»¿Diresa  \n",
              "0      Anemia Leve       NaN  \n",
              "1           Normal       NaN  \n",
              "2           Normal       NaN  \n",
              "3           Normal       NaN  \n",
              "4  Anemia Moderada       NaN  \n",
              "\n",
              "[5 rows x 37 columns]"
            ],
            "text/html": [
              "\n",
              "  <div id=\"df-1c7dc518-7fd6-4ada-ab69-4e17c2a2e077\">\n",
              "    <div class=\"colab-df-container\">\n",
              "      <div>\n",
              "<style scoped>\n",
              "    .dataframe tbody tr th:only-of-type {\n",
              "        vertical-align: middle;\n",
              "    }\n",
              "\n",
              "    .dataframe tbody tr th {\n",
              "        vertical-align: top;\n",
              "    }\n",
              "\n",
              "    .dataframe thead th {\n",
              "        text-align: right;\n",
              "    }\n",
              "</style>\n",
              "<table border=\"1\" class=\"dataframe\">\n",
              "  <thead>\n",
              "    <tr style=\"text-align: right;\">\n",
              "      <th></th>\n",
              "      <th>Diresa</th>\n",
              "      <th>Red</th>\n",
              "      <th>Microred</th>\n",
              "      <th>EESS</th>\n",
              "      <th>Dpto_EESS</th>\n",
              "      <th>Prov_EESS</th>\n",
              "      <th>Dist_EESS</th>\n",
              "      <th>Renipress</th>\n",
              "      <th>FechaAtencion</th>\n",
              "      <th>Sexo</th>\n",
              "      <th>...</th>\n",
              "      <th>Consejeria</th>\n",
              "      <th>Sesion</th>\n",
              "      <th>UbigeoREN</th>\n",
              "      <th>DepartamentoREN</th>\n",
              "      <th>ProvinciaREN</th>\n",
              "      <th>DistritoREN</th>\n",
              "      <th>AlturaREN</th>\n",
              "      <th>HBC</th>\n",
              "      <th>Dx_Anemia</th>\n",
              "      <th>ï»¿Diresa</th>\n",
              "    </tr>\n",
              "  </thead>\n",
              "  <tbody>\n",
              "    <tr>\n",
              "      <th>0</th>\n",
              "      <td>ANCASH</td>\n",
              "      <td>HUAYLAS SUR</td>\n",
              "      <td>CHIQUIAN</td>\n",
              "      <td>I-1   - 00001498 - PUESTO DE SALUD QUERO</td>\n",
              "      <td>ANCASH</td>\n",
              "      <td>BOLOGNESI</td>\n",
              "      <td>HUASTA</td>\n",
              "      <td>1498</td>\n",
              "      <td>11/21/2020</td>\n",
              "      <td>M</td>\n",
              "      <td>...</td>\n",
              "      <td>0</td>\n",
              "      <td>0</td>\n",
              "      <td>20509</td>\n",
              "      <td>ANCASH</td>\n",
              "      <td>BOLOGNESI</td>\n",
              "      <td>HUASTA</td>\n",
              "      <td>3385</td>\n",
              "      <td>10.112294</td>\n",
              "      <td>Anemia Leve</td>\n",
              "      <td>NaN</td>\n",
              "    </tr>\n",
              "    <tr>\n",
              "      <th>1</th>\n",
              "      <td>ANCASH</td>\n",
              "      <td>CONCHUCOS SUR</td>\n",
              "      <td>SAN MARCOS</td>\n",
              "      <td>I-1   - 00025623 - PUESTO DE SALUD AYASH DE HU...</td>\n",
              "      <td>ANCASH</td>\n",
              "      <td>HUARI</td>\n",
              "      <td>SAN MARCOS</td>\n",
              "      <td>25623</td>\n",
              "      <td>10/5/2020</td>\n",
              "      <td>M</td>\n",
              "      <td>...</td>\n",
              "      <td>0</td>\n",
              "      <td>0</td>\n",
              "      <td>21014</td>\n",
              "      <td>ANCASH</td>\n",
              "      <td>HUARI</td>\n",
              "      <td>SAN MARCOS</td>\n",
              "      <td>2964</td>\n",
              "      <td>12.308217</td>\n",
              "      <td>Normal</td>\n",
              "      <td>NaN</td>\n",
              "    </tr>\n",
              "    <tr>\n",
              "      <th>2</th>\n",
              "      <td>ANCASH</td>\n",
              "      <td>CONCHUCOS SUR</td>\n",
              "      <td>SAN MARCOS</td>\n",
              "      <td>I-1   - 00025623 - PUESTO DE SALUD AYASH DE HU...</td>\n",
              "      <td>ANCASH</td>\n",
              "      <td>HUARI</td>\n",
              "      <td>SAN MARCOS</td>\n",
              "      <td>25623</td>\n",
              "      <td>10/16/2020</td>\n",
              "      <td>M</td>\n",
              "      <td>...</td>\n",
              "      <td>0</td>\n",
              "      <td>0</td>\n",
              "      <td>21014</td>\n",
              "      <td>ANCASH</td>\n",
              "      <td>HUARI</td>\n",
              "      <td>SAN MARCOS</td>\n",
              "      <td>2964</td>\n",
              "      <td>12.008217</td>\n",
              "      <td>Normal</td>\n",
              "      <td>NaN</td>\n",
              "    </tr>\n",
              "    <tr>\n",
              "      <th>3</th>\n",
              "      <td>ANCASH</td>\n",
              "      <td>CONCHUCOS SUR</td>\n",
              "      <td>SAN MARCOS</td>\n",
              "      <td>I-1   - 00025623 - PUESTO DE SALUD AYASH DE HU...</td>\n",
              "      <td>ANCASH</td>\n",
              "      <td>HUARI</td>\n",
              "      <td>SAN MARCOS</td>\n",
              "      <td>25623</td>\n",
              "      <td>11/29/2020</td>\n",
              "      <td>M</td>\n",
              "      <td>...</td>\n",
              "      <td>0</td>\n",
              "      <td>0</td>\n",
              "      <td>21014</td>\n",
              "      <td>ANCASH</td>\n",
              "      <td>HUARI</td>\n",
              "      <td>SAN MARCOS</td>\n",
              "      <td>2964</td>\n",
              "      <td>12.208217</td>\n",
              "      <td>Normal</td>\n",
              "      <td>NaN</td>\n",
              "    </tr>\n",
              "    <tr>\n",
              "      <th>4</th>\n",
              "      <td>ANCASH</td>\n",
              "      <td>HUAYLAS SUR</td>\n",
              "      <td>HUARUPAMPA</td>\n",
              "      <td>I-3   - 00001562 - CENTRO DE SALUD HUARUPAMPA</td>\n",
              "      <td>ANCASH</td>\n",
              "      <td>HUARAZ</td>\n",
              "      <td>HUARAZ</td>\n",
              "      <td>1562</td>\n",
              "      <td>11/8/2020</td>\n",
              "      <td>M</td>\n",
              "      <td>...</td>\n",
              "      <td>1</td>\n",
              "      <td>0</td>\n",
              "      <td>20101</td>\n",
              "      <td>ANCASH</td>\n",
              "      <td>HUARAZ</td>\n",
              "      <td>HUARAZ</td>\n",
              "      <td>3052</td>\n",
              "      <td>9.890674</td>\n",
              "      <td>Anemia Moderada</td>\n",
              "      <td>NaN</td>\n",
              "    </tr>\n",
              "  </tbody>\n",
              "</table>\n",
              "<p>5 rows × 37 columns</p>\n",
              "</div>\n",
              "      <button class=\"colab-df-convert\" onclick=\"convertToInteractive('df-1c7dc518-7fd6-4ada-ab69-4e17c2a2e077')\"\n",
              "              title=\"Convert this dataframe to an interactive table.\"\n",
              "              style=\"display:none;\">\n",
              "        \n",
              "  <svg xmlns=\"http://www.w3.org/2000/svg\" height=\"24px\"viewBox=\"0 0 24 24\"\n",
              "       width=\"24px\">\n",
              "    <path d=\"M0 0h24v24H0V0z\" fill=\"none\"/>\n",
              "    <path d=\"M18.56 5.44l.94 2.06.94-2.06 2.06-.94-2.06-.94-.94-2.06-.94 2.06-2.06.94zm-11 1L8.5 8.5l.94-2.06 2.06-.94-2.06-.94L8.5 2.5l-.94 2.06-2.06.94zm10 10l.94 2.06.94-2.06 2.06-.94-2.06-.94-.94-2.06-.94 2.06-2.06.94z\"/><path d=\"M17.41 7.96l-1.37-1.37c-.4-.4-.92-.59-1.43-.59-.52 0-1.04.2-1.43.59L10.3 9.45l-7.72 7.72c-.78.78-.78 2.05 0 2.83L4 21.41c.39.39.9.59 1.41.59.51 0 1.02-.2 1.41-.59l7.78-7.78 2.81-2.81c.8-.78.8-2.07 0-2.86zM5.41 20L4 18.59l7.72-7.72 1.47 1.35L5.41 20z\"/>\n",
              "  </svg>\n",
              "      </button>\n",
              "      \n",
              "  <style>\n",
              "    .colab-df-container {\n",
              "      display:flex;\n",
              "      flex-wrap:wrap;\n",
              "      gap: 12px;\n",
              "    }\n",
              "\n",
              "    .colab-df-convert {\n",
              "      background-color: #E8F0FE;\n",
              "      border: none;\n",
              "      border-radius: 50%;\n",
              "      cursor: pointer;\n",
              "      display: none;\n",
              "      fill: #1967D2;\n",
              "      height: 32px;\n",
              "      padding: 0 0 0 0;\n",
              "      width: 32px;\n",
              "    }\n",
              "\n",
              "    .colab-df-convert:hover {\n",
              "      background-color: #E2EBFA;\n",
              "      box-shadow: 0px 1px 2px rgba(60, 64, 67, 0.3), 0px 1px 3px 1px rgba(60, 64, 67, 0.15);\n",
              "      fill: #174EA6;\n",
              "    }\n",
              "\n",
              "    [theme=dark] .colab-df-convert {\n",
              "      background-color: #3B4455;\n",
              "      fill: #D2E3FC;\n",
              "    }\n",
              "\n",
              "    [theme=dark] .colab-df-convert:hover {\n",
              "      background-color: #434B5C;\n",
              "      box-shadow: 0px 1px 3px 1px rgba(0, 0, 0, 0.15);\n",
              "      filter: drop-shadow(0px 1px 2px rgba(0, 0, 0, 0.3));\n",
              "      fill: #FFFFFF;\n",
              "    }\n",
              "  </style>\n",
              "\n",
              "      <script>\n",
              "        const buttonEl =\n",
              "          document.querySelector('#df-1c7dc518-7fd6-4ada-ab69-4e17c2a2e077 button.colab-df-convert');\n",
              "        buttonEl.style.display =\n",
              "          google.colab.kernel.accessAllowed ? 'block' : 'none';\n",
              "\n",
              "        async function convertToInteractive(key) {\n",
              "          const element = document.querySelector('#df-1c7dc518-7fd6-4ada-ab69-4e17c2a2e077');\n",
              "          const dataTable =\n",
              "            await google.colab.kernel.invokeFunction('convertToInteractive',\n",
              "                                                     [key], {});\n",
              "          if (!dataTable) return;\n",
              "\n",
              "          const docLinkHtml = 'Like what you see? Visit the ' +\n",
              "            '<a target=\"_blank\" href=https://colab.research.google.com/notebooks/data_table.ipynb>data table notebook</a>'\n",
              "            + ' to learn more about interactive tables.';\n",
              "          element.innerHTML = '';\n",
              "          dataTable['output_type'] = 'display_data';\n",
              "          await google.colab.output.renderOutput(dataTable, element);\n",
              "          const docLink = document.createElement('div');\n",
              "          docLink.innerHTML = docLinkHtml;\n",
              "          element.appendChild(docLink);\n",
              "        }\n",
              "      </script>\n",
              "    </div>\n",
              "  </div>\n",
              "  "
            ]
          },
          "metadata": {},
          "execution_count": 11
        }
      ]
    },
    {
      "cell_type": "code",
      "source": [
        "combined_csv.Dx_Anemia.value_counts()"
      ],
      "metadata": {
        "colab": {
          "base_uri": "https://localhost:8080/"
        },
        "id": "AfyfYkWW-b69",
        "outputId": "cd7c6f83-7c7a-4605-92da-d5cc6168661b"
      },
      "execution_count": 12,
      "outputs": [
        {
          "output_type": "execute_result",
          "data": {
            "text/plain": [
              "Normal             420197\n",
              "Anemia Leve        102457\n",
              "Anemia Moderada     54578\n",
              "Anemia Severa        1344\n",
              "Name: Dx_Anemia, dtype: int64"
            ]
          },
          "metadata": {},
          "execution_count": 12
        }
      ]
    },
    {
      "cell_type": "markdown",
      "source": [
        "## Validar Nulos"
      ],
      "metadata": {
        "id": "wHuuGUNruAIa"
      }
    },
    {
      "cell_type": "code",
      "source": [
        "def Nulls_By_Var(df_):\n",
        "  return pd.DataFrame([(c,df_[c].isnull().sum(),'{:.2f}%'.format(df_[c].isnull().sum()/df_.shape[0]*100)) for c in df_.columns if df_[c].isnull().sum() > 0],\n",
        "             columns={'Variable','Nulos','% Nulos'})"
      ],
      "metadata": {
        "id": "KflqufpRvmfi"
      },
      "execution_count": 13,
      "outputs": []
    },
    {
      "cell_type": "code",
      "source": [
        "Nulls_By_Var(combined_csv)"
      ],
      "metadata": {
        "colab": {
          "base_uri": "https://localhost:8080/",
          "height": 134
        },
        "id": "KQN-TJdx_wmI",
        "outputId": "5c74f811-7557-43fe-c38b-72a1509211bd"
      },
      "execution_count": 14,
      "outputs": [
        {
          "output_type": "execute_result",
          "data": {
            "text/plain": [
              "       Nulos  Variable % Nulos\n",
              "0     Diresa     18402   3.18%\n",
              "1  ï»¿Diresa    560174  96.82%"
            ],
            "text/html": [
              "\n",
              "  <div id=\"df-12d11938-1dd0-499c-9ce5-c5ad062c5b11\">\n",
              "    <div class=\"colab-df-container\">\n",
              "      <div>\n",
              "<style scoped>\n",
              "    .dataframe tbody tr th:only-of-type {\n",
              "        vertical-align: middle;\n",
              "    }\n",
              "\n",
              "    .dataframe tbody tr th {\n",
              "        vertical-align: top;\n",
              "    }\n",
              "\n",
              "    .dataframe thead th {\n",
              "        text-align: right;\n",
              "    }\n",
              "</style>\n",
              "<table border=\"1\" class=\"dataframe\">\n",
              "  <thead>\n",
              "    <tr style=\"text-align: right;\">\n",
              "      <th></th>\n",
              "      <th>Nulos</th>\n",
              "      <th>Variable</th>\n",
              "      <th>% Nulos</th>\n",
              "    </tr>\n",
              "  </thead>\n",
              "  <tbody>\n",
              "    <tr>\n",
              "      <th>0</th>\n",
              "      <td>Diresa</td>\n",
              "      <td>18402</td>\n",
              "      <td>3.18%</td>\n",
              "    </tr>\n",
              "    <tr>\n",
              "      <th>1</th>\n",
              "      <td>ï»¿Diresa</td>\n",
              "      <td>560174</td>\n",
              "      <td>96.82%</td>\n",
              "    </tr>\n",
              "  </tbody>\n",
              "</table>\n",
              "</div>\n",
              "      <button class=\"colab-df-convert\" onclick=\"convertToInteractive('df-12d11938-1dd0-499c-9ce5-c5ad062c5b11')\"\n",
              "              title=\"Convert this dataframe to an interactive table.\"\n",
              "              style=\"display:none;\">\n",
              "        \n",
              "  <svg xmlns=\"http://www.w3.org/2000/svg\" height=\"24px\"viewBox=\"0 0 24 24\"\n",
              "       width=\"24px\">\n",
              "    <path d=\"M0 0h24v24H0V0z\" fill=\"none\"/>\n",
              "    <path d=\"M18.56 5.44l.94 2.06.94-2.06 2.06-.94-2.06-.94-.94-2.06-.94 2.06-2.06.94zm-11 1L8.5 8.5l.94-2.06 2.06-.94-2.06-.94L8.5 2.5l-.94 2.06-2.06.94zm10 10l.94 2.06.94-2.06 2.06-.94-2.06-.94-.94-2.06-.94 2.06-2.06.94z\"/><path d=\"M17.41 7.96l-1.37-1.37c-.4-.4-.92-.59-1.43-.59-.52 0-1.04.2-1.43.59L10.3 9.45l-7.72 7.72c-.78.78-.78 2.05 0 2.83L4 21.41c.39.39.9.59 1.41.59.51 0 1.02-.2 1.41-.59l7.78-7.78 2.81-2.81c.8-.78.8-2.07 0-2.86zM5.41 20L4 18.59l7.72-7.72 1.47 1.35L5.41 20z\"/>\n",
              "  </svg>\n",
              "      </button>\n",
              "      \n",
              "  <style>\n",
              "    .colab-df-container {\n",
              "      display:flex;\n",
              "      flex-wrap:wrap;\n",
              "      gap: 12px;\n",
              "    }\n",
              "\n",
              "    .colab-df-convert {\n",
              "      background-color: #E8F0FE;\n",
              "      border: none;\n",
              "      border-radius: 50%;\n",
              "      cursor: pointer;\n",
              "      display: none;\n",
              "      fill: #1967D2;\n",
              "      height: 32px;\n",
              "      padding: 0 0 0 0;\n",
              "      width: 32px;\n",
              "    }\n",
              "\n",
              "    .colab-df-convert:hover {\n",
              "      background-color: #E2EBFA;\n",
              "      box-shadow: 0px 1px 2px rgba(60, 64, 67, 0.3), 0px 1px 3px 1px rgba(60, 64, 67, 0.15);\n",
              "      fill: #174EA6;\n",
              "    }\n",
              "\n",
              "    [theme=dark] .colab-df-convert {\n",
              "      background-color: #3B4455;\n",
              "      fill: #D2E3FC;\n",
              "    }\n",
              "\n",
              "    [theme=dark] .colab-df-convert:hover {\n",
              "      background-color: #434B5C;\n",
              "      box-shadow: 0px 1px 3px 1px rgba(0, 0, 0, 0.15);\n",
              "      filter: drop-shadow(0px 1px 2px rgba(0, 0, 0, 0.3));\n",
              "      fill: #FFFFFF;\n",
              "    }\n",
              "  </style>\n",
              "\n",
              "      <script>\n",
              "        const buttonEl =\n",
              "          document.querySelector('#df-12d11938-1dd0-499c-9ce5-c5ad062c5b11 button.colab-df-convert');\n",
              "        buttonEl.style.display =\n",
              "          google.colab.kernel.accessAllowed ? 'block' : 'none';\n",
              "\n",
              "        async function convertToInteractive(key) {\n",
              "          const element = document.querySelector('#df-12d11938-1dd0-499c-9ce5-c5ad062c5b11');\n",
              "          const dataTable =\n",
              "            await google.colab.kernel.invokeFunction('convertToInteractive',\n",
              "                                                     [key], {});\n",
              "          if (!dataTable) return;\n",
              "\n",
              "          const docLinkHtml = 'Like what you see? Visit the ' +\n",
              "            '<a target=\"_blank\" href=https://colab.research.google.com/notebooks/data_table.ipynb>data table notebook</a>'\n",
              "            + ' to learn more about interactive tables.';\n",
              "          element.innerHTML = '';\n",
              "          dataTable['output_type'] = 'display_data';\n",
              "          await google.colab.output.renderOutput(dataTable, element);\n",
              "          const docLink = document.createElement('div');\n",
              "          docLink.innerHTML = docLinkHtml;\n",
              "          element.appendChild(docLink);\n",
              "        }\n",
              "      </script>\n",
              "    </div>\n",
              "  </div>\n",
              "  "
            ],
            "application/vnd.google.colaboratory.module+javascript": "\n      import \"https://ssl.gstatic.com/colaboratory/data_table/f872b2c2305463fd/data_table.js\";\n\n      window.createDataTable({\n        data: [[{\n            'v': 0,\n            'f': \"0\",\n        },\n\"Diresa\",\n{\n            'v': 18402,\n            'f': \"18402\",\n        },\n\"3.18%\"],\n [{\n            'v': 1,\n            'f': \"1\",\n        },\n\"\\u00ef\\u00bb\\u00bfDiresa\",\n{\n            'v': 560174,\n            'f': \"560174\",\n        },\n\"96.82%\"]],\n        columns: [[\"number\", \"index\"], [\"string\", \"Nulos\"], [\"number\", \"Variable\"], [\"string\", \"% Nulos\"]],\n        columnOptions: [{\"width\": \"1px\", \"className\": \"index_column\"}],\n        rowsPerPage: 25,\n        helpUrl: \"https://colab.research.google.com/notebooks/data_table.ipynb\",\n        suppressOutputScrolling: true,\n        minimumWidth: undefined,\n      });\n    "
          },
          "metadata": {},
          "execution_count": 14
        }
      ]
    },
    {
      "cell_type": "markdown",
      "source": [
        "Se encontró campos con valores nulos que no se detectan como tal"
      ],
      "metadata": {
        "id": "Xt4l7ma6ujaX"
      }
    },
    {
      "cell_type": "code",
      "source": [
        "combined_csv['DepartamentoPN'].value_counts"
      ],
      "metadata": {
        "colab": {
          "base_uri": "https://localhost:8080/"
        },
        "id": "-t_NWfHMuwFn",
        "outputId": "cad0d3ed-ac2b-4941-e4e8-ecc8b3e888cd"
      },
      "execution_count": 15,
      "outputs": [
        {
          "output_type": "execute_result",
          "data": {
            "text/plain": [
              "<bound method IndexOpsMixin.value_counts of 0               \n",
              "1               \n",
              "2               \n",
              "3               \n",
              "4         ANCASH\n",
              "          ...   \n",
              "18397    HUANUCO\n",
              "18398    HUANUCO\n",
              "18399    HUANUCO\n",
              "18400     LORETO\n",
              "18401    HUANUCO\n",
              "Name: DepartamentoPN, Length: 578576, dtype: object>"
            ]
          },
          "metadata": {},
          "execution_count": 15
        }
      ]
    },
    {
      "cell_type": "markdown",
      "source": [
        "Se reemplazan dichos valores por nan"
      ],
      "metadata": {
        "id": "xU9CQh0NvPeu"
      }
    },
    {
      "cell_type": "code",
      "source": [
        "combined_csv =combined_csv.replace(r'^\\s*$', np.nan, regex=True)"
      ],
      "metadata": {
        "id": "pGTKxlSJuqhq"
      },
      "execution_count": 16,
      "outputs": []
    },
    {
      "cell_type": "code",
      "source": [
        "Nulls_By_Var(combined_csv)"
      ],
      "metadata": {
        "colab": {
          "base_uri": "https://localhost:8080/",
          "height": 395
        },
        "id": "ULXGJA5WwBLx",
        "outputId": "39958d2a-ac82-4a1a-d78f-9674100201bb"
      },
      "execution_count": 17,
      "outputs": [
        {
          "output_type": "execute_result",
          "data": {
            "text/plain": [
              "               Nulos  Variable % Nulos\n",
              "0             Diresa     18402   3.18%\n",
              "1           UbigeoPN     21536   3.72%\n",
              "2     DepartamentoPN     21536   3.72%\n",
              "3        ProvinciaPN     21536   3.72%\n",
              "4         DistritoPN     21536   3.72%\n",
              "5    CentroPobladoPN     21536   3.72%\n",
              "6             Juntos     21536   3.72%\n",
              "7                SIS     21536   3.72%\n",
              "8                Pin     21536   3.72%\n",
              "9          Qaliwarma     21536   3.72%\n",
              "10              Peso    281724  48.69%\n",
              "11             Talla    285645  49.37%\n",
              "12  FechaHemoglobina    526144  90.94%\n",
              "13         ï»¿Diresa    560174  96.82%"
            ],
            "text/html": [
              "\n",
              "  <div id=\"df-26d9126d-8471-427d-8d90-f995f85afe32\">\n",
              "    <div class=\"colab-df-container\">\n",
              "      <div>\n",
              "<style scoped>\n",
              "    .dataframe tbody tr th:only-of-type {\n",
              "        vertical-align: middle;\n",
              "    }\n",
              "\n",
              "    .dataframe tbody tr th {\n",
              "        vertical-align: top;\n",
              "    }\n",
              "\n",
              "    .dataframe thead th {\n",
              "        text-align: right;\n",
              "    }\n",
              "</style>\n",
              "<table border=\"1\" class=\"dataframe\">\n",
              "  <thead>\n",
              "    <tr style=\"text-align: right;\">\n",
              "      <th></th>\n",
              "      <th>Nulos</th>\n",
              "      <th>Variable</th>\n",
              "      <th>% Nulos</th>\n",
              "    </tr>\n",
              "  </thead>\n",
              "  <tbody>\n",
              "    <tr>\n",
              "      <th>0</th>\n",
              "      <td>Diresa</td>\n",
              "      <td>18402</td>\n",
              "      <td>3.18%</td>\n",
              "    </tr>\n",
              "    <tr>\n",
              "      <th>1</th>\n",
              "      <td>UbigeoPN</td>\n",
              "      <td>21536</td>\n",
              "      <td>3.72%</td>\n",
              "    </tr>\n",
              "    <tr>\n",
              "      <th>2</th>\n",
              "      <td>DepartamentoPN</td>\n",
              "      <td>21536</td>\n",
              "      <td>3.72%</td>\n",
              "    </tr>\n",
              "    <tr>\n",
              "      <th>3</th>\n",
              "      <td>ProvinciaPN</td>\n",
              "      <td>21536</td>\n",
              "      <td>3.72%</td>\n",
              "    </tr>\n",
              "    <tr>\n",
              "      <th>4</th>\n",
              "      <td>DistritoPN</td>\n",
              "      <td>21536</td>\n",
              "      <td>3.72%</td>\n",
              "    </tr>\n",
              "    <tr>\n",
              "      <th>5</th>\n",
              "      <td>CentroPobladoPN</td>\n",
              "      <td>21536</td>\n",
              "      <td>3.72%</td>\n",
              "    </tr>\n",
              "    <tr>\n",
              "      <th>6</th>\n",
              "      <td>Juntos</td>\n",
              "      <td>21536</td>\n",
              "      <td>3.72%</td>\n",
              "    </tr>\n",
              "    <tr>\n",
              "      <th>7</th>\n",
              "      <td>SIS</td>\n",
              "      <td>21536</td>\n",
              "      <td>3.72%</td>\n",
              "    </tr>\n",
              "    <tr>\n",
              "      <th>8</th>\n",
              "      <td>Pin</td>\n",
              "      <td>21536</td>\n",
              "      <td>3.72%</td>\n",
              "    </tr>\n",
              "    <tr>\n",
              "      <th>9</th>\n",
              "      <td>Qaliwarma</td>\n",
              "      <td>21536</td>\n",
              "      <td>3.72%</td>\n",
              "    </tr>\n",
              "    <tr>\n",
              "      <th>10</th>\n",
              "      <td>Peso</td>\n",
              "      <td>281724</td>\n",
              "      <td>48.69%</td>\n",
              "    </tr>\n",
              "    <tr>\n",
              "      <th>11</th>\n",
              "      <td>Talla</td>\n",
              "      <td>285645</td>\n",
              "      <td>49.37%</td>\n",
              "    </tr>\n",
              "    <tr>\n",
              "      <th>12</th>\n",
              "      <td>FechaHemoglobina</td>\n",
              "      <td>526144</td>\n",
              "      <td>90.94%</td>\n",
              "    </tr>\n",
              "    <tr>\n",
              "      <th>13</th>\n",
              "      <td>ï»¿Diresa</td>\n",
              "      <td>560174</td>\n",
              "      <td>96.82%</td>\n",
              "    </tr>\n",
              "  </tbody>\n",
              "</table>\n",
              "</div>\n",
              "      <button class=\"colab-df-convert\" onclick=\"convertToInteractive('df-26d9126d-8471-427d-8d90-f995f85afe32')\"\n",
              "              title=\"Convert this dataframe to an interactive table.\"\n",
              "              style=\"display:none;\">\n",
              "        \n",
              "  <svg xmlns=\"http://www.w3.org/2000/svg\" height=\"24px\"viewBox=\"0 0 24 24\"\n",
              "       width=\"24px\">\n",
              "    <path d=\"M0 0h24v24H0V0z\" fill=\"none\"/>\n",
              "    <path d=\"M18.56 5.44l.94 2.06.94-2.06 2.06-.94-2.06-.94-.94-2.06-.94 2.06-2.06.94zm-11 1L8.5 8.5l.94-2.06 2.06-.94-2.06-.94L8.5 2.5l-.94 2.06-2.06.94zm10 10l.94 2.06.94-2.06 2.06-.94-2.06-.94-.94-2.06-.94 2.06-2.06.94z\"/><path d=\"M17.41 7.96l-1.37-1.37c-.4-.4-.92-.59-1.43-.59-.52 0-1.04.2-1.43.59L10.3 9.45l-7.72 7.72c-.78.78-.78 2.05 0 2.83L4 21.41c.39.39.9.59 1.41.59.51 0 1.02-.2 1.41-.59l7.78-7.78 2.81-2.81c.8-.78.8-2.07 0-2.86zM5.41 20L4 18.59l7.72-7.72 1.47 1.35L5.41 20z\"/>\n",
              "  </svg>\n",
              "      </button>\n",
              "      \n",
              "  <style>\n",
              "    .colab-df-container {\n",
              "      display:flex;\n",
              "      flex-wrap:wrap;\n",
              "      gap: 12px;\n",
              "    }\n",
              "\n",
              "    .colab-df-convert {\n",
              "      background-color: #E8F0FE;\n",
              "      border: none;\n",
              "      border-radius: 50%;\n",
              "      cursor: pointer;\n",
              "      display: none;\n",
              "      fill: #1967D2;\n",
              "      height: 32px;\n",
              "      padding: 0 0 0 0;\n",
              "      width: 32px;\n",
              "    }\n",
              "\n",
              "    .colab-df-convert:hover {\n",
              "      background-color: #E2EBFA;\n",
              "      box-shadow: 0px 1px 2px rgba(60, 64, 67, 0.3), 0px 1px 3px 1px rgba(60, 64, 67, 0.15);\n",
              "      fill: #174EA6;\n",
              "    }\n",
              "\n",
              "    [theme=dark] .colab-df-convert {\n",
              "      background-color: #3B4455;\n",
              "      fill: #D2E3FC;\n",
              "    }\n",
              "\n",
              "    [theme=dark] .colab-df-convert:hover {\n",
              "      background-color: #434B5C;\n",
              "      box-shadow: 0px 1px 3px 1px rgba(0, 0, 0, 0.15);\n",
              "      filter: drop-shadow(0px 1px 2px rgba(0, 0, 0, 0.3));\n",
              "      fill: #FFFFFF;\n",
              "    }\n",
              "  </style>\n",
              "\n",
              "      <script>\n",
              "        const buttonEl =\n",
              "          document.querySelector('#df-26d9126d-8471-427d-8d90-f995f85afe32 button.colab-df-convert');\n",
              "        buttonEl.style.display =\n",
              "          google.colab.kernel.accessAllowed ? 'block' : 'none';\n",
              "\n",
              "        async function convertToInteractive(key) {\n",
              "          const element = document.querySelector('#df-26d9126d-8471-427d-8d90-f995f85afe32');\n",
              "          const dataTable =\n",
              "            await google.colab.kernel.invokeFunction('convertToInteractive',\n",
              "                                                     [key], {});\n",
              "          if (!dataTable) return;\n",
              "\n",
              "          const docLinkHtml = 'Like what you see? Visit the ' +\n",
              "            '<a target=\"_blank\" href=https://colab.research.google.com/notebooks/data_table.ipynb>data table notebook</a>'\n",
              "            + ' to learn more about interactive tables.';\n",
              "          element.innerHTML = '';\n",
              "          dataTable['output_type'] = 'display_data';\n",
              "          await google.colab.output.renderOutput(dataTable, element);\n",
              "          const docLink = document.createElement('div');\n",
              "          docLink.innerHTML = docLinkHtml;\n",
              "          element.appendChild(docLink);\n",
              "        }\n",
              "      </script>\n",
              "    </div>\n",
              "  </div>\n",
              "  "
            ],
            "application/vnd.google.colaboratory.module+javascript": "\n      import \"https://ssl.gstatic.com/colaboratory/data_table/f872b2c2305463fd/data_table.js\";\n\n      window.createDataTable({\n        data: [[{\n            'v': 0,\n            'f': \"0\",\n        },\n\"Diresa\",\n{\n            'v': 18402,\n            'f': \"18402\",\n        },\n\"3.18%\"],\n [{\n            'v': 1,\n            'f': \"1\",\n        },\n\"UbigeoPN\",\n{\n            'v': 21536,\n            'f': \"21536\",\n        },\n\"3.72%\"],\n [{\n            'v': 2,\n            'f': \"2\",\n        },\n\"DepartamentoPN\",\n{\n            'v': 21536,\n            'f': \"21536\",\n        },\n\"3.72%\"],\n [{\n            'v': 3,\n            'f': \"3\",\n        },\n\"ProvinciaPN\",\n{\n            'v': 21536,\n            'f': \"21536\",\n        },\n\"3.72%\"],\n [{\n            'v': 4,\n            'f': \"4\",\n        },\n\"DistritoPN\",\n{\n            'v': 21536,\n            'f': \"21536\",\n        },\n\"3.72%\"],\n [{\n            'v': 5,\n            'f': \"5\",\n        },\n\"CentroPobladoPN\",\n{\n            'v': 21536,\n            'f': \"21536\",\n        },\n\"3.72%\"],\n [{\n            'v': 6,\n            'f': \"6\",\n        },\n\"Juntos\",\n{\n            'v': 21536,\n            'f': \"21536\",\n        },\n\"3.72%\"],\n [{\n            'v': 7,\n            'f': \"7\",\n        },\n\"SIS\",\n{\n            'v': 21536,\n            'f': \"21536\",\n        },\n\"3.72%\"],\n [{\n            'v': 8,\n            'f': \"8\",\n        },\n\"Pin\",\n{\n            'v': 21536,\n            'f': \"21536\",\n        },\n\"3.72%\"],\n [{\n            'v': 9,\n            'f': \"9\",\n        },\n\"Qaliwarma\",\n{\n            'v': 21536,\n            'f': \"21536\",\n        },\n\"3.72%\"],\n [{\n            'v': 10,\n            'f': \"10\",\n        },\n\"Peso\",\n{\n            'v': 281724,\n            'f': \"281724\",\n        },\n\"48.69%\"],\n [{\n            'v': 11,\n            'f': \"11\",\n        },\n\"Talla\",\n{\n            'v': 285645,\n            'f': \"285645\",\n        },\n\"49.37%\"],\n [{\n            'v': 12,\n            'f': \"12\",\n        },\n\"FechaHemoglobina\",\n{\n            'v': 526144,\n            'f': \"526144\",\n        },\n\"90.94%\"],\n [{\n            'v': 13,\n            'f': \"13\",\n        },\n\"\\u00ef\\u00bb\\u00bfDiresa\",\n{\n            'v': 560174,\n            'f': \"560174\",\n        },\n\"96.82%\"]],\n        columns: [[\"number\", \"index\"], [\"string\", \"Nulos\"], [\"number\", \"Variable\"], [\"string\", \"% Nulos\"]],\n        columnOptions: [{\"width\": \"1px\", \"className\": \"index_column\"}],\n        rowsPerPage: 25,\n        helpUrl: \"https://colab.research.google.com/notebooks/data_table.ipynb\",\n        suppressOutputScrolling: true,\n        minimumWidth: undefined,\n      });\n    "
          },
          "metadata": {},
          "execution_count": 17
        }
      ]
    },
    {
      "cell_type": "markdown",
      "source": [
        "Se encuentra que los campos Peso, Talla, FechaHemoglobina y ï»¿Diresa tienen muchos valores faltantes por lo que se omitirán en el estudio"
      ],
      "metadata": {
        "id": "06Imk24kwSX9"
      }
    },
    {
      "cell_type": "markdown",
      "source": [
        "**Nulos en DepartamentoPN por Departamento del establecimiento de Salud**"
      ],
      "metadata": {
        "id": "4Ilv6hrOwudb"
      }
    },
    {
      "cell_type": "code",
      "source": [
        "combined_csv['DepartamentoPN'].isnull().groupby(combined_csv['Dpto_EESS']).sum().astype(int).reset_index(name='count')"
      ],
      "metadata": {
        "colab": {
          "base_uri": "https://localhost:8080/",
          "height": 634
        },
        "id": "vdh0wgjBD7C1",
        "outputId": "ffa96055-668e-4d6f-e49b-709f076458fe"
      },
      "execution_count": 18,
      "outputs": [
        {
          "output_type": "execute_result",
          "data": {
            "text/plain": [
              "        Dpto_EESS  count\n",
              "0        AMAZONAS    231\n",
              "1          ANCASH   1045\n",
              "2        APURIMAC    400\n",
              "3        AREQUIPA    505\n",
              "4        AYACUCHO    790\n",
              "5       CAJAMARCA    791\n",
              "6          CALLAO    573\n",
              "7           CUSCO    685\n",
              "8    HUANCAVELICA    273\n",
              "9         HUANUCO    548\n",
              "10            ICA    414\n",
              "11          JUNIN    817\n",
              "12    LA LIBERTAD   2013\n",
              "13     LAMBAYEQUE    852\n",
              "14           LIMA   7349\n",
              "15         LORETO    947\n",
              "16  MADRE DE DIOS    201\n",
              "17       MOQUEGUA    116\n",
              "18          PASCO    231\n",
              "19          PIURA    915\n",
              "20           PUNO    619\n",
              "21     SAN MARTIN    601\n",
              "22          TACNA    156\n",
              "23         TUMBES    191\n",
              "24        UCAYALI    273"
            ],
            "text/html": [
              "\n",
              "  <div id=\"df-743aaa00-b1db-4e56-b5ff-45f19a4018f9\">\n",
              "    <div class=\"colab-df-container\">\n",
              "      <div>\n",
              "<style scoped>\n",
              "    .dataframe tbody tr th:only-of-type {\n",
              "        vertical-align: middle;\n",
              "    }\n",
              "\n",
              "    .dataframe tbody tr th {\n",
              "        vertical-align: top;\n",
              "    }\n",
              "\n",
              "    .dataframe thead th {\n",
              "        text-align: right;\n",
              "    }\n",
              "</style>\n",
              "<table border=\"1\" class=\"dataframe\">\n",
              "  <thead>\n",
              "    <tr style=\"text-align: right;\">\n",
              "      <th></th>\n",
              "      <th>Dpto_EESS</th>\n",
              "      <th>count</th>\n",
              "    </tr>\n",
              "  </thead>\n",
              "  <tbody>\n",
              "    <tr>\n",
              "      <th>0</th>\n",
              "      <td>AMAZONAS</td>\n",
              "      <td>231</td>\n",
              "    </tr>\n",
              "    <tr>\n",
              "      <th>1</th>\n",
              "      <td>ANCASH</td>\n",
              "      <td>1045</td>\n",
              "    </tr>\n",
              "    <tr>\n",
              "      <th>2</th>\n",
              "      <td>APURIMAC</td>\n",
              "      <td>400</td>\n",
              "    </tr>\n",
              "    <tr>\n",
              "      <th>3</th>\n",
              "      <td>AREQUIPA</td>\n",
              "      <td>505</td>\n",
              "    </tr>\n",
              "    <tr>\n",
              "      <th>4</th>\n",
              "      <td>AYACUCHO</td>\n",
              "      <td>790</td>\n",
              "    </tr>\n",
              "    <tr>\n",
              "      <th>5</th>\n",
              "      <td>CAJAMARCA</td>\n",
              "      <td>791</td>\n",
              "    </tr>\n",
              "    <tr>\n",
              "      <th>6</th>\n",
              "      <td>CALLAO</td>\n",
              "      <td>573</td>\n",
              "    </tr>\n",
              "    <tr>\n",
              "      <th>7</th>\n",
              "      <td>CUSCO</td>\n",
              "      <td>685</td>\n",
              "    </tr>\n",
              "    <tr>\n",
              "      <th>8</th>\n",
              "      <td>HUANCAVELICA</td>\n",
              "      <td>273</td>\n",
              "    </tr>\n",
              "    <tr>\n",
              "      <th>9</th>\n",
              "      <td>HUANUCO</td>\n",
              "      <td>548</td>\n",
              "    </tr>\n",
              "    <tr>\n",
              "      <th>10</th>\n",
              "      <td>ICA</td>\n",
              "      <td>414</td>\n",
              "    </tr>\n",
              "    <tr>\n",
              "      <th>11</th>\n",
              "      <td>JUNIN</td>\n",
              "      <td>817</td>\n",
              "    </tr>\n",
              "    <tr>\n",
              "      <th>12</th>\n",
              "      <td>LA LIBERTAD</td>\n",
              "      <td>2013</td>\n",
              "    </tr>\n",
              "    <tr>\n",
              "      <th>13</th>\n",
              "      <td>LAMBAYEQUE</td>\n",
              "      <td>852</td>\n",
              "    </tr>\n",
              "    <tr>\n",
              "      <th>14</th>\n",
              "      <td>LIMA</td>\n",
              "      <td>7349</td>\n",
              "    </tr>\n",
              "    <tr>\n",
              "      <th>15</th>\n",
              "      <td>LORETO</td>\n",
              "      <td>947</td>\n",
              "    </tr>\n",
              "    <tr>\n",
              "      <th>16</th>\n",
              "      <td>MADRE DE DIOS</td>\n",
              "      <td>201</td>\n",
              "    </tr>\n",
              "    <tr>\n",
              "      <th>17</th>\n",
              "      <td>MOQUEGUA</td>\n",
              "      <td>116</td>\n",
              "    </tr>\n",
              "    <tr>\n",
              "      <th>18</th>\n",
              "      <td>PASCO</td>\n",
              "      <td>231</td>\n",
              "    </tr>\n",
              "    <tr>\n",
              "      <th>19</th>\n",
              "      <td>PIURA</td>\n",
              "      <td>915</td>\n",
              "    </tr>\n",
              "    <tr>\n",
              "      <th>20</th>\n",
              "      <td>PUNO</td>\n",
              "      <td>619</td>\n",
              "    </tr>\n",
              "    <tr>\n",
              "      <th>21</th>\n",
              "      <td>SAN MARTIN</td>\n",
              "      <td>601</td>\n",
              "    </tr>\n",
              "    <tr>\n",
              "      <th>22</th>\n",
              "      <td>TACNA</td>\n",
              "      <td>156</td>\n",
              "    </tr>\n",
              "    <tr>\n",
              "      <th>23</th>\n",
              "      <td>TUMBES</td>\n",
              "      <td>191</td>\n",
              "    </tr>\n",
              "    <tr>\n",
              "      <th>24</th>\n",
              "      <td>UCAYALI</td>\n",
              "      <td>273</td>\n",
              "    </tr>\n",
              "  </tbody>\n",
              "</table>\n",
              "</div>\n",
              "      <button class=\"colab-df-convert\" onclick=\"convertToInteractive('df-743aaa00-b1db-4e56-b5ff-45f19a4018f9')\"\n",
              "              title=\"Convert this dataframe to an interactive table.\"\n",
              "              style=\"display:none;\">\n",
              "        \n",
              "  <svg xmlns=\"http://www.w3.org/2000/svg\" height=\"24px\"viewBox=\"0 0 24 24\"\n",
              "       width=\"24px\">\n",
              "    <path d=\"M0 0h24v24H0V0z\" fill=\"none\"/>\n",
              "    <path d=\"M18.56 5.44l.94 2.06.94-2.06 2.06-.94-2.06-.94-.94-2.06-.94 2.06-2.06.94zm-11 1L8.5 8.5l.94-2.06 2.06-.94-2.06-.94L8.5 2.5l-.94 2.06-2.06.94zm10 10l.94 2.06.94-2.06 2.06-.94-2.06-.94-.94-2.06-.94 2.06-2.06.94z\"/><path d=\"M17.41 7.96l-1.37-1.37c-.4-.4-.92-.59-1.43-.59-.52 0-1.04.2-1.43.59L10.3 9.45l-7.72 7.72c-.78.78-.78 2.05 0 2.83L4 21.41c.39.39.9.59 1.41.59.51 0 1.02-.2 1.41-.59l7.78-7.78 2.81-2.81c.8-.78.8-2.07 0-2.86zM5.41 20L4 18.59l7.72-7.72 1.47 1.35L5.41 20z\"/>\n",
              "  </svg>\n",
              "      </button>\n",
              "      \n",
              "  <style>\n",
              "    .colab-df-container {\n",
              "      display:flex;\n",
              "      flex-wrap:wrap;\n",
              "      gap: 12px;\n",
              "    }\n",
              "\n",
              "    .colab-df-convert {\n",
              "      background-color: #E8F0FE;\n",
              "      border: none;\n",
              "      border-radius: 50%;\n",
              "      cursor: pointer;\n",
              "      display: none;\n",
              "      fill: #1967D2;\n",
              "      height: 32px;\n",
              "      padding: 0 0 0 0;\n",
              "      width: 32px;\n",
              "    }\n",
              "\n",
              "    .colab-df-convert:hover {\n",
              "      background-color: #E2EBFA;\n",
              "      box-shadow: 0px 1px 2px rgba(60, 64, 67, 0.3), 0px 1px 3px 1px rgba(60, 64, 67, 0.15);\n",
              "      fill: #174EA6;\n",
              "    }\n",
              "\n",
              "    [theme=dark] .colab-df-convert {\n",
              "      background-color: #3B4455;\n",
              "      fill: #D2E3FC;\n",
              "    }\n",
              "\n",
              "    [theme=dark] .colab-df-convert:hover {\n",
              "      background-color: #434B5C;\n",
              "      box-shadow: 0px 1px 3px 1px rgba(0, 0, 0, 0.15);\n",
              "      filter: drop-shadow(0px 1px 2px rgba(0, 0, 0, 0.3));\n",
              "      fill: #FFFFFF;\n",
              "    }\n",
              "  </style>\n",
              "\n",
              "      <script>\n",
              "        const buttonEl =\n",
              "          document.querySelector('#df-743aaa00-b1db-4e56-b5ff-45f19a4018f9 button.colab-df-convert');\n",
              "        buttonEl.style.display =\n",
              "          google.colab.kernel.accessAllowed ? 'block' : 'none';\n",
              "\n",
              "        async function convertToInteractive(key) {\n",
              "          const element = document.querySelector('#df-743aaa00-b1db-4e56-b5ff-45f19a4018f9');\n",
              "          const dataTable =\n",
              "            await google.colab.kernel.invokeFunction('convertToInteractive',\n",
              "                                                     [key], {});\n",
              "          if (!dataTable) return;\n",
              "\n",
              "          const docLinkHtml = 'Like what you see? Visit the ' +\n",
              "            '<a target=\"_blank\" href=https://colab.research.google.com/notebooks/data_table.ipynb>data table notebook</a>'\n",
              "            + ' to learn more about interactive tables.';\n",
              "          element.innerHTML = '';\n",
              "          dataTable['output_type'] = 'display_data';\n",
              "          await google.colab.output.renderOutput(dataTable, element);\n",
              "          const docLink = document.createElement('div');\n",
              "          docLink.innerHTML = docLinkHtml;\n",
              "          element.appendChild(docLink);\n",
              "        }\n",
              "      </script>\n",
              "    </div>\n",
              "  </div>\n",
              "  "
            ],
            "application/vnd.google.colaboratory.module+javascript": "\n      import \"https://ssl.gstatic.com/colaboratory/data_table/f872b2c2305463fd/data_table.js\";\n\n      window.createDataTable({\n        data: [[{\n            'v': 0,\n            'f': \"0\",\n        },\n\"AMAZONAS\",\n{\n            'v': 231,\n            'f': \"231\",\n        }],\n [{\n            'v': 1,\n            'f': \"1\",\n        },\n\"ANCASH\",\n{\n            'v': 1045,\n            'f': \"1045\",\n        }],\n [{\n            'v': 2,\n            'f': \"2\",\n        },\n\"APURIMAC\",\n{\n            'v': 400,\n            'f': \"400\",\n        }],\n [{\n            'v': 3,\n            'f': \"3\",\n        },\n\"AREQUIPA\",\n{\n            'v': 505,\n            'f': \"505\",\n        }],\n [{\n            'v': 4,\n            'f': \"4\",\n        },\n\"AYACUCHO\",\n{\n            'v': 790,\n            'f': \"790\",\n        }],\n [{\n            'v': 5,\n            'f': \"5\",\n        },\n\"CAJAMARCA\",\n{\n            'v': 791,\n            'f': \"791\",\n        }],\n [{\n            'v': 6,\n            'f': \"6\",\n        },\n\"CALLAO\",\n{\n            'v': 573,\n            'f': \"573\",\n        }],\n [{\n            'v': 7,\n            'f': \"7\",\n        },\n\"CUSCO\",\n{\n            'v': 685,\n            'f': \"685\",\n        }],\n [{\n            'v': 8,\n            'f': \"8\",\n        },\n\"HUANCAVELICA\",\n{\n            'v': 273,\n            'f': \"273\",\n        }],\n [{\n            'v': 9,\n            'f': \"9\",\n        },\n\"HUANUCO\",\n{\n            'v': 548,\n            'f': \"548\",\n        }],\n [{\n            'v': 10,\n            'f': \"10\",\n        },\n\"ICA\",\n{\n            'v': 414,\n            'f': \"414\",\n        }],\n [{\n            'v': 11,\n            'f': \"11\",\n        },\n\"JUNIN\",\n{\n            'v': 817,\n            'f': \"817\",\n        }],\n [{\n            'v': 12,\n            'f': \"12\",\n        },\n\"LA LIBERTAD\",\n{\n            'v': 2013,\n            'f': \"2013\",\n        }],\n [{\n            'v': 13,\n            'f': \"13\",\n        },\n\"LAMBAYEQUE\",\n{\n            'v': 852,\n            'f': \"852\",\n        }],\n [{\n            'v': 14,\n            'f': \"14\",\n        },\n\"LIMA\",\n{\n            'v': 7349,\n            'f': \"7349\",\n        }],\n [{\n            'v': 15,\n            'f': \"15\",\n        },\n\"LORETO\",\n{\n            'v': 947,\n            'f': \"947\",\n        }],\n [{\n            'v': 16,\n            'f': \"16\",\n        },\n\"MADRE DE DIOS\",\n{\n            'v': 201,\n            'f': \"201\",\n        }],\n [{\n            'v': 17,\n            'f': \"17\",\n        },\n\"MOQUEGUA\",\n{\n            'v': 116,\n            'f': \"116\",\n        }],\n [{\n            'v': 18,\n            'f': \"18\",\n        },\n\"PASCO\",\n{\n            'v': 231,\n            'f': \"231\",\n        }],\n [{\n            'v': 19,\n            'f': \"19\",\n        },\n\"PIURA\",\n{\n            'v': 915,\n            'f': \"915\",\n        }],\n [{\n            'v': 20,\n            'f': \"20\",\n        },\n\"PUNO\",\n{\n            'v': 619,\n            'f': \"619\",\n        }],\n [{\n            'v': 21,\n            'f': \"21\",\n        },\n\"SAN MARTIN\",\n{\n            'v': 601,\n            'f': \"601\",\n        }],\n [{\n            'v': 22,\n            'f': \"22\",\n        },\n\"TACNA\",\n{\n            'v': 156,\n            'f': \"156\",\n        }],\n [{\n            'v': 23,\n            'f': \"23\",\n        },\n\"TUMBES\",\n{\n            'v': 191,\n            'f': \"191\",\n        }],\n [{\n            'v': 24,\n            'f': \"24\",\n        },\n\"UCAYALI\",\n{\n            'v': 273,\n            'f': \"273\",\n        }]],\n        columns: [[\"number\", \"index\"], [\"string\", \"Dpto_EESS\"], [\"number\", \"count\"]],\n        columnOptions: [{\"width\": \"1px\", \"className\": \"index_column\"}],\n        rowsPerPage: 25,\n        helpUrl: \"https://colab.research.google.com/notebooks/data_table.ipynb\",\n        suppressOutputScrolling: true,\n        minimumWidth: undefined,\n      });\n    "
          },
          "metadata": {},
          "execution_count": 18
        }
      ]
    },
    {
      "cell_type": "markdown",
      "source": [
        "**Cantidad de Registros, cantidad de nulos y % de nulos en el Departamento de la Persona Natural según Departamento del Establecimiento de Salud**"
      ],
      "metadata": {
        "id": "BBWycgd8w9sT"
      }
    },
    {
      "cell_type": "code",
      "source": [
        "nulls_freq = combined_csv[['DepartamentoPN','Dpto_EESS', 'Dist_EESS']].groupby(['Dpto_EESS']).agg(\n",
        "    {'Dist_EESS':'count', 'DepartamentoPN': lambda x: x.isnull().sum()}).reset_index().rename(\n",
        "        {'Dist_EESS':'count', 'DepartamentoPN':'nulls'}, axis=1)    \n",
        "nulls_freq['%'] = round(nulls_freq['nulls']/nulls_freq['count']*100,2)\n",
        "nulls_freq= nulls_freq.sort_values(by='%', ascending=True)\n",
        "nulls_freq"
      ],
      "metadata": {
        "colab": {
          "base_uri": "https://localhost:8080/",
          "height": 634
        },
        "id": "Vrn5zNt3I00J",
        "outputId": "06696d99-f6e6-41ac-decb-32ea64bf0b73"
      },
      "execution_count": 19,
      "outputs": [
        {
          "output_type": "execute_result",
          "data": {
            "text/plain": [
              "        Dpto_EESS   count  nulls     %\n",
              "19          PIURA   51879    915  1.76\n",
              "5       CAJAMARCA   33520    791  2.36\n",
              "10            ICA   17323    414  2.39\n",
              "7           CUSCO   26562    685  2.58\n",
              "22          TACNA    5888    156  2.65\n",
              "3        AREQUIPA   18352    505  2.75\n",
              "0        AMAZONAS    8016    231  2.88\n",
              "2        APURIMAC   13656    400  2.93\n",
              "23         TUMBES    6460    191  2.96\n",
              "24        UCAYALI    9212    273  2.96\n",
              "9         HUANUCO   18402    548  2.98\n",
              "4        AYACUCHO   25516    790  3.10\n",
              "20           PUNO   19956    619  3.10\n",
              "11          JUNIN   25640    817  3.19\n",
              "21     SAN MARTIN   18738    601  3.21\n",
              "8    HUANCAVELICA    8121    273  3.36\n",
              "1          ANCASH   30121   1045  3.47\n",
              "6          CALLAO   14170    573  4.04\n",
              "17       MOQUEGUA    2852    116  4.07\n",
              "18          PASCO    5646    231  4.09\n",
              "13     LAMBAYEQUE   20062    852  4.25\n",
              "15         LORETO   18784    947  5.04\n",
              "14           LIMA  138369   7349  5.31\n",
              "12    LA LIBERTAD   37790   2013  5.33\n",
              "16  MADRE DE DIOS    3541    201  5.68"
            ],
            "text/html": [
              "\n",
              "  <div id=\"df-d9599328-1c11-4136-a4c4-97f4158dea69\">\n",
              "    <div class=\"colab-df-container\">\n",
              "      <div>\n",
              "<style scoped>\n",
              "    .dataframe tbody tr th:only-of-type {\n",
              "        vertical-align: middle;\n",
              "    }\n",
              "\n",
              "    .dataframe tbody tr th {\n",
              "        vertical-align: top;\n",
              "    }\n",
              "\n",
              "    .dataframe thead th {\n",
              "        text-align: right;\n",
              "    }\n",
              "</style>\n",
              "<table border=\"1\" class=\"dataframe\">\n",
              "  <thead>\n",
              "    <tr style=\"text-align: right;\">\n",
              "      <th></th>\n",
              "      <th>Dpto_EESS</th>\n",
              "      <th>count</th>\n",
              "      <th>nulls</th>\n",
              "      <th>%</th>\n",
              "    </tr>\n",
              "  </thead>\n",
              "  <tbody>\n",
              "    <tr>\n",
              "      <th>19</th>\n",
              "      <td>PIURA</td>\n",
              "      <td>51879</td>\n",
              "      <td>915</td>\n",
              "      <td>1.76</td>\n",
              "    </tr>\n",
              "    <tr>\n",
              "      <th>5</th>\n",
              "      <td>CAJAMARCA</td>\n",
              "      <td>33520</td>\n",
              "      <td>791</td>\n",
              "      <td>2.36</td>\n",
              "    </tr>\n",
              "    <tr>\n",
              "      <th>10</th>\n",
              "      <td>ICA</td>\n",
              "      <td>17323</td>\n",
              "      <td>414</td>\n",
              "      <td>2.39</td>\n",
              "    </tr>\n",
              "    <tr>\n",
              "      <th>7</th>\n",
              "      <td>CUSCO</td>\n",
              "      <td>26562</td>\n",
              "      <td>685</td>\n",
              "      <td>2.58</td>\n",
              "    </tr>\n",
              "    <tr>\n",
              "      <th>22</th>\n",
              "      <td>TACNA</td>\n",
              "      <td>5888</td>\n",
              "      <td>156</td>\n",
              "      <td>2.65</td>\n",
              "    </tr>\n",
              "    <tr>\n",
              "      <th>3</th>\n",
              "      <td>AREQUIPA</td>\n",
              "      <td>18352</td>\n",
              "      <td>505</td>\n",
              "      <td>2.75</td>\n",
              "    </tr>\n",
              "    <tr>\n",
              "      <th>0</th>\n",
              "      <td>AMAZONAS</td>\n",
              "      <td>8016</td>\n",
              "      <td>231</td>\n",
              "      <td>2.88</td>\n",
              "    </tr>\n",
              "    <tr>\n",
              "      <th>2</th>\n",
              "      <td>APURIMAC</td>\n",
              "      <td>13656</td>\n",
              "      <td>400</td>\n",
              "      <td>2.93</td>\n",
              "    </tr>\n",
              "    <tr>\n",
              "      <th>23</th>\n",
              "      <td>TUMBES</td>\n",
              "      <td>6460</td>\n",
              "      <td>191</td>\n",
              "      <td>2.96</td>\n",
              "    </tr>\n",
              "    <tr>\n",
              "      <th>24</th>\n",
              "      <td>UCAYALI</td>\n",
              "      <td>9212</td>\n",
              "      <td>273</td>\n",
              "      <td>2.96</td>\n",
              "    </tr>\n",
              "    <tr>\n",
              "      <th>9</th>\n",
              "      <td>HUANUCO</td>\n",
              "      <td>18402</td>\n",
              "      <td>548</td>\n",
              "      <td>2.98</td>\n",
              "    </tr>\n",
              "    <tr>\n",
              "      <th>4</th>\n",
              "      <td>AYACUCHO</td>\n",
              "      <td>25516</td>\n",
              "      <td>790</td>\n",
              "      <td>3.10</td>\n",
              "    </tr>\n",
              "    <tr>\n",
              "      <th>20</th>\n",
              "      <td>PUNO</td>\n",
              "      <td>19956</td>\n",
              "      <td>619</td>\n",
              "      <td>3.10</td>\n",
              "    </tr>\n",
              "    <tr>\n",
              "      <th>11</th>\n",
              "      <td>JUNIN</td>\n",
              "      <td>25640</td>\n",
              "      <td>817</td>\n",
              "      <td>3.19</td>\n",
              "    </tr>\n",
              "    <tr>\n",
              "      <th>21</th>\n",
              "      <td>SAN MARTIN</td>\n",
              "      <td>18738</td>\n",
              "      <td>601</td>\n",
              "      <td>3.21</td>\n",
              "    </tr>\n",
              "    <tr>\n",
              "      <th>8</th>\n",
              "      <td>HUANCAVELICA</td>\n",
              "      <td>8121</td>\n",
              "      <td>273</td>\n",
              "      <td>3.36</td>\n",
              "    </tr>\n",
              "    <tr>\n",
              "      <th>1</th>\n",
              "      <td>ANCASH</td>\n",
              "      <td>30121</td>\n",
              "      <td>1045</td>\n",
              "      <td>3.47</td>\n",
              "    </tr>\n",
              "    <tr>\n",
              "      <th>6</th>\n",
              "      <td>CALLAO</td>\n",
              "      <td>14170</td>\n",
              "      <td>573</td>\n",
              "      <td>4.04</td>\n",
              "    </tr>\n",
              "    <tr>\n",
              "      <th>17</th>\n",
              "      <td>MOQUEGUA</td>\n",
              "      <td>2852</td>\n",
              "      <td>116</td>\n",
              "      <td>4.07</td>\n",
              "    </tr>\n",
              "    <tr>\n",
              "      <th>18</th>\n",
              "      <td>PASCO</td>\n",
              "      <td>5646</td>\n",
              "      <td>231</td>\n",
              "      <td>4.09</td>\n",
              "    </tr>\n",
              "    <tr>\n",
              "      <th>13</th>\n",
              "      <td>LAMBAYEQUE</td>\n",
              "      <td>20062</td>\n",
              "      <td>852</td>\n",
              "      <td>4.25</td>\n",
              "    </tr>\n",
              "    <tr>\n",
              "      <th>15</th>\n",
              "      <td>LORETO</td>\n",
              "      <td>18784</td>\n",
              "      <td>947</td>\n",
              "      <td>5.04</td>\n",
              "    </tr>\n",
              "    <tr>\n",
              "      <th>14</th>\n",
              "      <td>LIMA</td>\n",
              "      <td>138369</td>\n",
              "      <td>7349</td>\n",
              "      <td>5.31</td>\n",
              "    </tr>\n",
              "    <tr>\n",
              "      <th>12</th>\n",
              "      <td>LA LIBERTAD</td>\n",
              "      <td>37790</td>\n",
              "      <td>2013</td>\n",
              "      <td>5.33</td>\n",
              "    </tr>\n",
              "    <tr>\n",
              "      <th>16</th>\n",
              "      <td>MADRE DE DIOS</td>\n",
              "      <td>3541</td>\n",
              "      <td>201</td>\n",
              "      <td>5.68</td>\n",
              "    </tr>\n",
              "  </tbody>\n",
              "</table>\n",
              "</div>\n",
              "      <button class=\"colab-df-convert\" onclick=\"convertToInteractive('df-d9599328-1c11-4136-a4c4-97f4158dea69')\"\n",
              "              title=\"Convert this dataframe to an interactive table.\"\n",
              "              style=\"display:none;\">\n",
              "        \n",
              "  <svg xmlns=\"http://www.w3.org/2000/svg\" height=\"24px\"viewBox=\"0 0 24 24\"\n",
              "       width=\"24px\">\n",
              "    <path d=\"M0 0h24v24H0V0z\" fill=\"none\"/>\n",
              "    <path d=\"M18.56 5.44l.94 2.06.94-2.06 2.06-.94-2.06-.94-.94-2.06-.94 2.06-2.06.94zm-11 1L8.5 8.5l.94-2.06 2.06-.94-2.06-.94L8.5 2.5l-.94 2.06-2.06.94zm10 10l.94 2.06.94-2.06 2.06-.94-2.06-.94-.94-2.06-.94 2.06-2.06.94z\"/><path d=\"M17.41 7.96l-1.37-1.37c-.4-.4-.92-.59-1.43-.59-.52 0-1.04.2-1.43.59L10.3 9.45l-7.72 7.72c-.78.78-.78 2.05 0 2.83L4 21.41c.39.39.9.59 1.41.59.51 0 1.02-.2 1.41-.59l7.78-7.78 2.81-2.81c.8-.78.8-2.07 0-2.86zM5.41 20L4 18.59l7.72-7.72 1.47 1.35L5.41 20z\"/>\n",
              "  </svg>\n",
              "      </button>\n",
              "      \n",
              "  <style>\n",
              "    .colab-df-container {\n",
              "      display:flex;\n",
              "      flex-wrap:wrap;\n",
              "      gap: 12px;\n",
              "    }\n",
              "\n",
              "    .colab-df-convert {\n",
              "      background-color: #E8F0FE;\n",
              "      border: none;\n",
              "      border-radius: 50%;\n",
              "      cursor: pointer;\n",
              "      display: none;\n",
              "      fill: #1967D2;\n",
              "      height: 32px;\n",
              "      padding: 0 0 0 0;\n",
              "      width: 32px;\n",
              "    }\n",
              "\n",
              "    .colab-df-convert:hover {\n",
              "      background-color: #E2EBFA;\n",
              "      box-shadow: 0px 1px 2px rgba(60, 64, 67, 0.3), 0px 1px 3px 1px rgba(60, 64, 67, 0.15);\n",
              "      fill: #174EA6;\n",
              "    }\n",
              "\n",
              "    [theme=dark] .colab-df-convert {\n",
              "      background-color: #3B4455;\n",
              "      fill: #D2E3FC;\n",
              "    }\n",
              "\n",
              "    [theme=dark] .colab-df-convert:hover {\n",
              "      background-color: #434B5C;\n",
              "      box-shadow: 0px 1px 3px 1px rgba(0, 0, 0, 0.15);\n",
              "      filter: drop-shadow(0px 1px 2px rgba(0, 0, 0, 0.3));\n",
              "      fill: #FFFFFF;\n",
              "    }\n",
              "  </style>\n",
              "\n",
              "      <script>\n",
              "        const buttonEl =\n",
              "          document.querySelector('#df-d9599328-1c11-4136-a4c4-97f4158dea69 button.colab-df-convert');\n",
              "        buttonEl.style.display =\n",
              "          google.colab.kernel.accessAllowed ? 'block' : 'none';\n",
              "\n",
              "        async function convertToInteractive(key) {\n",
              "          const element = document.querySelector('#df-d9599328-1c11-4136-a4c4-97f4158dea69');\n",
              "          const dataTable =\n",
              "            await google.colab.kernel.invokeFunction('convertToInteractive',\n",
              "                                                     [key], {});\n",
              "          if (!dataTable) return;\n",
              "\n",
              "          const docLinkHtml = 'Like what you see? Visit the ' +\n",
              "            '<a target=\"_blank\" href=https://colab.research.google.com/notebooks/data_table.ipynb>data table notebook</a>'\n",
              "            + ' to learn more about interactive tables.';\n",
              "          element.innerHTML = '';\n",
              "          dataTable['output_type'] = 'display_data';\n",
              "          await google.colab.output.renderOutput(dataTable, element);\n",
              "          const docLink = document.createElement('div');\n",
              "          docLink.innerHTML = docLinkHtml;\n",
              "          element.appendChild(docLink);\n",
              "        }\n",
              "      </script>\n",
              "    </div>\n",
              "  </div>\n",
              "  "
            ],
            "application/vnd.google.colaboratory.module+javascript": "\n      import \"https://ssl.gstatic.com/colaboratory/data_table/f872b2c2305463fd/data_table.js\";\n\n      window.createDataTable({\n        data: [[{\n            'v': 19,\n            'f': \"19\",\n        },\n\"PIURA\",\n{\n            'v': 51879,\n            'f': \"51879\",\n        },\n{\n            'v': 915,\n            'f': \"915\",\n        },\n{\n            'v': 1.76,\n            'f': \"1.76\",\n        }],\n [{\n            'v': 5,\n            'f': \"5\",\n        },\n\"CAJAMARCA\",\n{\n            'v': 33520,\n            'f': \"33520\",\n        },\n{\n            'v': 791,\n            'f': \"791\",\n        },\n{\n            'v': 2.36,\n            'f': \"2.36\",\n        }],\n [{\n            'v': 10,\n            'f': \"10\",\n        },\n\"ICA\",\n{\n            'v': 17323,\n            'f': \"17323\",\n        },\n{\n            'v': 414,\n            'f': \"414\",\n        },\n{\n            'v': 2.39,\n            'f': \"2.39\",\n        }],\n [{\n            'v': 7,\n            'f': \"7\",\n        },\n\"CUSCO\",\n{\n            'v': 26562,\n            'f': \"26562\",\n        },\n{\n            'v': 685,\n            'f': \"685\",\n        },\n{\n            'v': 2.58,\n            'f': \"2.58\",\n        }],\n [{\n            'v': 22,\n            'f': \"22\",\n        },\n\"TACNA\",\n{\n            'v': 5888,\n            'f': \"5888\",\n        },\n{\n            'v': 156,\n            'f': \"156\",\n        },\n{\n            'v': 2.65,\n            'f': \"2.65\",\n        }],\n [{\n            'v': 3,\n            'f': \"3\",\n        },\n\"AREQUIPA\",\n{\n            'v': 18352,\n            'f': \"18352\",\n        },\n{\n            'v': 505,\n            'f': \"505\",\n        },\n{\n            'v': 2.75,\n            'f': \"2.75\",\n        }],\n [{\n            'v': 0,\n            'f': \"0\",\n        },\n\"AMAZONAS\",\n{\n            'v': 8016,\n            'f': \"8016\",\n        },\n{\n            'v': 231,\n            'f': \"231\",\n        },\n{\n            'v': 2.88,\n            'f': \"2.88\",\n        }],\n [{\n            'v': 2,\n            'f': \"2\",\n        },\n\"APURIMAC\",\n{\n            'v': 13656,\n            'f': \"13656\",\n        },\n{\n            'v': 400,\n            'f': \"400\",\n        },\n{\n            'v': 2.93,\n            'f': \"2.93\",\n        }],\n [{\n            'v': 23,\n            'f': \"23\",\n        },\n\"TUMBES\",\n{\n            'v': 6460,\n            'f': \"6460\",\n        },\n{\n            'v': 191,\n            'f': \"191\",\n        },\n{\n            'v': 2.96,\n            'f': \"2.96\",\n        }],\n [{\n            'v': 24,\n            'f': \"24\",\n        },\n\"UCAYALI\",\n{\n            'v': 9212,\n            'f': \"9212\",\n        },\n{\n            'v': 273,\n            'f': \"273\",\n        },\n{\n            'v': 2.96,\n            'f': \"2.96\",\n        }],\n [{\n            'v': 9,\n            'f': \"9\",\n        },\n\"HUANUCO\",\n{\n            'v': 18402,\n            'f': \"18402\",\n        },\n{\n            'v': 548,\n            'f': \"548\",\n        },\n{\n            'v': 2.98,\n            'f': \"2.98\",\n        }],\n [{\n            'v': 4,\n            'f': \"4\",\n        },\n\"AYACUCHO\",\n{\n            'v': 25516,\n            'f': \"25516\",\n        },\n{\n            'v': 790,\n            'f': \"790\",\n        },\n{\n            'v': 3.1,\n            'f': \"3.1\",\n        }],\n [{\n            'v': 20,\n            'f': \"20\",\n        },\n\"PUNO\",\n{\n            'v': 19956,\n            'f': \"19956\",\n        },\n{\n            'v': 619,\n            'f': \"619\",\n        },\n{\n            'v': 3.1,\n            'f': \"3.1\",\n        }],\n [{\n            'v': 11,\n            'f': \"11\",\n        },\n\"JUNIN\",\n{\n            'v': 25640,\n            'f': \"25640\",\n        },\n{\n            'v': 817,\n            'f': \"817\",\n        },\n{\n            'v': 3.19,\n            'f': \"3.19\",\n        }],\n [{\n            'v': 21,\n            'f': \"21\",\n        },\n\"SAN MARTIN\",\n{\n            'v': 18738,\n            'f': \"18738\",\n        },\n{\n            'v': 601,\n            'f': \"601\",\n        },\n{\n            'v': 3.21,\n            'f': \"3.21\",\n        }],\n [{\n            'v': 8,\n            'f': \"8\",\n        },\n\"HUANCAVELICA\",\n{\n            'v': 8121,\n            'f': \"8121\",\n        },\n{\n            'v': 273,\n            'f': \"273\",\n        },\n{\n            'v': 3.36,\n            'f': \"3.36\",\n        }],\n [{\n            'v': 1,\n            'f': \"1\",\n        },\n\"ANCASH\",\n{\n            'v': 30121,\n            'f': \"30121\",\n        },\n{\n            'v': 1045,\n            'f': \"1045\",\n        },\n{\n            'v': 3.47,\n            'f': \"3.47\",\n        }],\n [{\n            'v': 6,\n            'f': \"6\",\n        },\n\"CALLAO\",\n{\n            'v': 14170,\n            'f': \"14170\",\n        },\n{\n            'v': 573,\n            'f': \"573\",\n        },\n{\n            'v': 4.04,\n            'f': \"4.04\",\n        }],\n [{\n            'v': 17,\n            'f': \"17\",\n        },\n\"MOQUEGUA\",\n{\n            'v': 2852,\n            'f': \"2852\",\n        },\n{\n            'v': 116,\n            'f': \"116\",\n        },\n{\n            'v': 4.07,\n            'f': \"4.07\",\n        }],\n [{\n            'v': 18,\n            'f': \"18\",\n        },\n\"PASCO\",\n{\n            'v': 5646,\n            'f': \"5646\",\n        },\n{\n            'v': 231,\n            'f': \"231\",\n        },\n{\n            'v': 4.09,\n            'f': \"4.09\",\n        }],\n [{\n            'v': 13,\n            'f': \"13\",\n        },\n\"LAMBAYEQUE\",\n{\n            'v': 20062,\n            'f': \"20062\",\n        },\n{\n            'v': 852,\n            'f': \"852\",\n        },\n{\n            'v': 4.25,\n            'f': \"4.25\",\n        }],\n [{\n            'v': 15,\n            'f': \"15\",\n        },\n\"LORETO\",\n{\n            'v': 18784,\n            'f': \"18784\",\n        },\n{\n            'v': 947,\n            'f': \"947\",\n        },\n{\n            'v': 5.04,\n            'f': \"5.04\",\n        }],\n [{\n            'v': 14,\n            'f': \"14\",\n        },\n\"LIMA\",\n{\n            'v': 138369,\n            'f': \"138369\",\n        },\n{\n            'v': 7349,\n            'f': \"7349\",\n        },\n{\n            'v': 5.31,\n            'f': \"5.31\",\n        }],\n [{\n            'v': 12,\n            'f': \"12\",\n        },\n\"LA LIBERTAD\",\n{\n            'v': 37790,\n            'f': \"37790\",\n        },\n{\n            'v': 2013,\n            'f': \"2013\",\n        },\n{\n            'v': 5.33,\n            'f': \"5.33\",\n        }],\n [{\n            'v': 16,\n            'f': \"16\",\n        },\n\"MADRE DE DIOS\",\n{\n            'v': 3541,\n            'f': \"3541\",\n        },\n{\n            'v': 201,\n            'f': \"201\",\n        },\n{\n            'v': 5.68,\n            'f': \"5.68\",\n        }]],\n        columns: [[\"number\", \"index\"], [\"string\", \"Dpto_EESS\"], [\"number\", \"count\"], [\"number\", \"nulls\"], [\"number\", \"%\"]],\n        columnOptions: [{\"width\": \"1px\", \"className\": \"index_column\"}],\n        rowsPerPage: 25,\n        helpUrl: \"https://colab.research.google.com/notebooks/data_table.ipynb\",\n        suppressOutputScrolling: true,\n        minimumWidth: undefined,\n      });\n    "
          },
          "metadata": {},
          "execution_count": 19
        }
      ]
    },
    {
      "cell_type": "markdown",
      "source": [
        "Se validad que no hay provincias con una cantidad relativamente importante de nulos en este campo."
      ],
      "metadata": {
        "id": "OwZ2nEvQxYeD"
      }
    },
    {
      "cell_type": "code",
      "source": [
        "import matplotlib.pyplot as plt"
      ],
      "metadata": {
        "id": "Am3wlySCKwrx"
      },
      "execution_count": 20,
      "outputs": []
    },
    {
      "cell_type": "code",
      "source": [
        "plt.figure(figsize=(20,10))\n",
        "plt.barh(nulls_freq['Dpto_EESS'],nulls_freq['%'])"
      ],
      "metadata": {
        "colab": {
          "base_uri": "https://localhost:8080/",
          "height": 609
        },
        "id": "fk5PW59QLf2u",
        "outputId": "d6231762-0c8d-489e-e6b2-1bb162a80577"
      },
      "execution_count": 21,
      "outputs": [
        {
          "output_type": "execute_result",
          "data": {
            "text/plain": [
              "<BarContainer object of 25 artists>"
            ]
          },
          "metadata": {},
          "execution_count": 21
        },
        {
          "output_type": "display_data",
          "data": {
            "text/plain": [
              "<Figure size 1440x720 with 1 Axes>"
            ],
            "image/png": "[encoded data removed]"
          },
          "metadata": {
            "needs_background": "light"
          }
        }
      ]
    },
    {
      "cell_type": "markdown",
      "source": [
        "## Crear tabla con data de establecimientos de salud"
      ],
      "metadata": {
        "id": "zfg8tl6ROtmQ"
      }
    },
    {
      "cell_type": "markdown",
      "source": [
        "Se validó que el campo 'Renipress' es un valor único por cada EESS por lo que se procede a retirar los campos: 'Diresa', 'Red', 'Microred', 'EESS', 'Dpto_EESS', 'Prov_EESS','Dist_EESS'; ya que no aportarán valor al análisis"
      ],
      "metadata": {
        "id": "B2LAXE0KP13Y"
      }
    },
    {
      "cell_type": "code",
      "source": [
        "est_salud = combined_csv[['Diresa', 'Red', 'Microred', 'EESS', 'Dpto_EESS', 'Prov_EESS','Dist_EESS', 'Renipress', 'Dx_Anemia']].groupby(['Diresa', 'Red', 'Microred', 'EESS', 'Dpto_EESS', 'Prov_EESS','Dist_EESS', 'Renipress']).agg({'Dx_Anemia':'count'}).reset_index().rename(columns={'Dx_Anemia':'count'})\n",
        "est_salud.drop(['count'],axis=1, inplace=True)\n",
        "est_salud.head(10)"
      ],
      "metadata": {
        "colab": {
          "base_uri": "https://localhost:8080/",
          "height": 308
        },
        "id": "7tIO25aoMfcO",
        "outputId": "5f622f6c-6622-45a5-9ddb-a81dca82e97e"
      },
      "execution_count": 22,
      "outputs": [
        {
          "output_type": "execute_result",
          "data": {
            "text/plain": [
              "     Diresa    Red  Microred                                       EESS  \\\n",
              "0  AMAZONAS  BAGUA  ARAMANGO  I-1   - 00005054 - MIRAFLORES DE ARAMANGO   \n",
              "1  AMAZONAS  BAGUA  ARAMANGO                   I-1   - 00005061 - SHAIM   \n",
              "2  AMAZONAS  BAGUA  ARAMANGO               I-1   - 00007008 - CHINGANZA   \n",
              "3  AMAZONAS  BAGUA  ARAMANGO              I-1   - 00007009 - MONTENEGRO   \n",
              "4  AMAZONAS  BAGUA  ARAMANGO                   I-1   - 00007228 - NAJEM   \n",
              "5  AMAZONAS  BAGUA  ARAMANGO               I-1   - 00007263 - GUAYAQUIL   \n",
              "6  AMAZONAS  BAGUA  ARAMANGO               I-1   - 00007264 - EL CEDRON   \n",
              "7  AMAZONAS  BAGUA  ARAMANGO               I-2   - 00005058 - NUMPARKET   \n",
              "8  AMAZONAS  BAGUA  ARAMANGO              I-2   - 00005059 - TUTUMBEROS   \n",
              "9  AMAZONAS  BAGUA  ARAMANGO                I-3   - 00005053 - ARAMANGO   \n",
              "\n",
              "  Dpto_EESS Prov_EESS Dist_EESS  Renipress  \n",
              "0  AMAZONAS     BAGUA  ARAMANGO       5054  \n",
              "1  AMAZONAS     BAGUA  ARAMANGO       5061  \n",
              "2  AMAZONAS     BAGUA  ARAMANGO       7008  \n",
              "3  AMAZONAS     BAGUA  ARAMANGO       7009  \n",
              "4  AMAZONAS     BAGUA  ARAMANGO       7228  \n",
              "5  AMAZONAS     BAGUA  ARAMANGO       7263  \n",
              "6  AMAZONAS     BAGUA  ARAMANGO       7264  \n",
              "7  AMAZONAS     BAGUA  ARAMANGO       5058  \n",
              "8  AMAZONAS     BAGUA  ARAMANGO       5059  \n",
              "9  AMAZONAS     BAGUA  ARAMANGO       5053  "
            ],
            "text/html": [
              "\n",
              "  <div id=\"df-974e87ed-3903-406b-852a-8555b25fb480\">\n",
              "    <div class=\"colab-df-container\">\n",
              "      <div>\n",
              "<style scoped>\n",
              "    .dataframe tbody tr th:only-of-type {\n",
              "        vertical-align: middle;\n",
              "    }\n",
              "\n",
              "    .dataframe tbody tr th {\n",
              "        vertical-align: top;\n",
              "    }\n",
              "\n",
              "    .dataframe thead th {\n",
              "        text-align: right;\n",
              "    }\n",
              "</style>\n",
              "<table border=\"1\" class=\"dataframe\">\n",
              "  <thead>\n",
              "    <tr style=\"text-align: right;\">\n",
              "      <th></th>\n",
              "      <th>Diresa</th>\n",
              "      <th>Red</th>\n",
              "      <th>Microred</th>\n",
              "      <th>EESS</th>\n",
              "      <th>Dpto_EESS</th>\n",
              "      <th>Prov_EESS</th>\n",
              "      <th>Dist_EESS</th>\n",
              "      <th>Renipress</th>\n",
              "    </tr>\n",
              "  </thead>\n",
              "  <tbody>\n",
              "    <tr>\n",
              "      <th>0</th>\n",
              "      <td>AMAZONAS</td>\n",
              "      <td>BAGUA</td>\n",
              "      <td>ARAMANGO</td>\n",
              "      <td>I-1   - 00005054 - MIRAFLORES DE ARAMANGO</td>\n",
              "      <td>AMAZONAS</td>\n",
              "      <td>BAGUA</td>\n",
              "      <td>ARAMANGO</td>\n",
              "      <td>5054</td>\n",
              "    </tr>\n",
              "    <tr>\n",
              "      <th>1</th>\n",
              "      <td>AMAZONAS</td>\n",
              "      <td>BAGUA</td>\n",
              "      <td>ARAMANGO</td>\n",
              "      <td>I-1   - 00005061 - SHAIM</td>\n",
              "      <td>AMAZONAS</td>\n",
              "      <td>BAGUA</td>\n",
              "      <td>ARAMANGO</td>\n",
              "      <td>5061</td>\n",
              "    </tr>\n",
              "    <tr>\n",
              "      <th>2</th>\n",
              "      <td>AMAZONAS</td>\n",
              "      <td>BAGUA</td>\n",
              "      <td>ARAMANGO</td>\n",
              "      <td>I-1   - 00007008 - CHINGANZA</td>\n",
              "      <td>AMAZONAS</td>\n",
              "      <td>BAGUA</td>\n",
              "      <td>ARAMANGO</td>\n",
              "      <td>7008</td>\n",
              "    </tr>\n",
              "    <tr>\n",
              "      <th>3</th>\n",
              "      <td>AMAZONAS</td>\n",
              "      <td>BAGUA</td>\n",
              "      <td>ARAMANGO</td>\n",
              "      <td>I-1   - 00007009 - MONTENEGRO</td>\n",
              "      <td>AMAZONAS</td>\n",
              "      <td>BAGUA</td>\n",
              "      <td>ARAMANGO</td>\n",
              "      <td>7009</td>\n",
              "    </tr>\n",
              "    <tr>\n",
              "      <th>4</th>\n",
              "      <td>AMAZONAS</td>\n",
              "      <td>BAGUA</td>\n",
              "      <td>ARAMANGO</td>\n",
              "      <td>I-1   - 00007228 - NAJEM</td>\n",
              "      <td>AMAZONAS</td>\n",
              "      <td>BAGUA</td>\n",
              "      <td>ARAMANGO</td>\n",
              "      <td>7228</td>\n",
              "    </tr>\n",
              "    <tr>\n",
              "      <th>5</th>\n",
              "      <td>AMAZONAS</td>\n",
              "      <td>BAGUA</td>\n",
              "      <td>ARAMANGO</td>\n",
              "      <td>I-1   - 00007263 - GUAYAQUIL</td>\n",
              "      <td>AMAZONAS</td>\n",
              "      <td>BAGUA</td>\n",
              "      <td>ARAMANGO</td>\n",
              "      <td>7263</td>\n",
              "    </tr>\n",
              "    <tr>\n",
              "      <th>6</th>\n",
              "      <td>AMAZONAS</td>\n",
              "      <td>BAGUA</td>\n",
              "      <td>ARAMANGO</td>\n",
              "      <td>I-1   - 00007264 - EL CEDRON</td>\n",
              "      <td>AMAZONAS</td>\n",
              "      <td>BAGUA</td>\n",
              "      <td>ARAMANGO</td>\n",
              "      <td>7264</td>\n",
              "    </tr>\n",
              "    <tr>\n",
              "      <th>7</th>\n",
              "      <td>AMAZONAS</td>\n",
              "      <td>BAGUA</td>\n",
              "      <td>ARAMANGO</td>\n",
              "      <td>I-2   - 00005058 - NUMPARKET</td>\n",
              "      <td>AMAZONAS</td>\n",
              "      <td>BAGUA</td>\n",
              "      <td>ARAMANGO</td>\n",
              "      <td>5058</td>\n",
              "    </tr>\n",
              "    <tr>\n",
              "      <th>8</th>\n",
              "      <td>AMAZONAS</td>\n",
              "      <td>BAGUA</td>\n",
              "      <td>ARAMANGO</td>\n",
              "      <td>I-2   - 00005059 - TUTUMBEROS</td>\n",
              "      <td>AMAZONAS</td>\n",
              "      <td>BAGUA</td>\n",
              "      <td>ARAMANGO</td>\n",
              "      <td>5059</td>\n",
              "    </tr>\n",
              "    <tr>\n",
              "      <th>9</th>\n",
              "      <td>AMAZONAS</td>\n",
              "      <td>BAGUA</td>\n",
              "      <td>ARAMANGO</td>\n",
              "      <td>I-3   - 00005053 - ARAMANGO</td>\n",
              "      <td>AMAZONAS</td>\n",
              "      <td>BAGUA</td>\n",
              "      <td>ARAMANGO</td>\n",
              "      <td>5053</td>\n",
              "    </tr>\n",
              "  </tbody>\n",
              "</table>\n",
              "</div>\n",
              "      <button class=\"colab-df-convert\" onclick=\"convertToInteractive('df-974e87ed-3903-406b-852a-8555b25fb480')\"\n",
              "              title=\"Convert this dataframe to an interactive table.\"\n",
              "              style=\"display:none;\">\n",
              "        \n",
              "  <svg xmlns=\"http://www.w3.org/2000/svg\" height=\"24px\"viewBox=\"0 0 24 24\"\n",
              "       width=\"24px\">\n",
              "    <path d=\"M0 0h24v24H0V0z\" fill=\"none\"/>\n",
              "    <path d=\"M18.56 5.44l.94 2.06.94-2.06 2.06-.94-2.06-.94-.94-2.06-.94 2.06-2.06.94zm-11 1L8.5 8.5l.94-2.06 2.06-.94-2.06-.94L8.5 2.5l-.94 2.06-2.06.94zm10 10l.94 2.06.94-2.06 2.06-.94-2.06-.94-.94-2.06-.94 2.06-2.06.94z\"/><path d=\"M17.41 7.96l-1.37-1.37c-.4-.4-.92-.59-1.43-.59-.52 0-1.04.2-1.43.59L10.3 9.45l-7.72 7.72c-.78.78-.78 2.05 0 2.83L4 21.41c.39.39.9.59 1.41.59.51 0 1.02-.2 1.41-.59l7.78-7.78 2.81-2.81c.8-.78.8-2.07 0-2.86zM5.41 20L4 18.59l7.72-7.72 1.47 1.35L5.41 20z\"/>\n",
              "  </svg>\n",
              "      </button>\n",
              "      \n",
              "  <style>\n",
              "    .colab-df-container {\n",
              "      display:flex;\n",
              "      flex-wrap:wrap;\n",
              "      gap: 12px;\n",
              "    }\n",
              "\n",
              "    .colab-df-convert {\n",
              "      background-color: #E8F0FE;\n",
              "      border: none;\n",
              "      border-radius: 50%;\n",
              "      cursor: pointer;\n",
              "      display: none;\n",
              "      fill: #1967D2;\n",
              "      height: 32px;\n",
              "      padding: 0 0 0 0;\n",
              "      width: 32px;\n",
              "    }\n",
              "\n",
              "    .colab-df-convert:hover {\n",
              "      background-color: #E2EBFA;\n",
              "      box-shadow: 0px 1px 2px rgba(60, 64, 67, 0.3), 0px 1px 3px 1px rgba(60, 64, 67, 0.15);\n",
              "      fill: #174EA6;\n",
              "    }\n",
              "\n",
              "    [theme=dark] .colab-df-convert {\n",
              "      background-color: #3B4455;\n",
              "      fill: #D2E3FC;\n",
              "    }\n",
              "\n",
              "    [theme=dark] .colab-df-convert:hover {\n",
              "      background-color: #434B5C;\n",
              "      box-shadow: 0px 1px 3px 1px rgba(0, 0, 0, 0.15);\n",
              "      filter: drop-shadow(0px 1px 2px rgba(0, 0, 0, 0.3));\n",
              "      fill: #FFFFFF;\n",
              "    }\n",
              "  </style>\n",
              "\n",
              "      <script>\n",
              "        const buttonEl =\n",
              "          document.querySelector('#df-974e87ed-3903-406b-852a-8555b25fb480 button.colab-df-convert');\n",
              "        buttonEl.style.display =\n",
              "          google.colab.kernel.accessAllowed ? 'block' : 'none';\n",
              "\n",
              "        async function convertToInteractive(key) {\n",
              "          const element = document.querySelector('#df-974e87ed-3903-406b-852a-8555b25fb480');\n",
              "          const dataTable =\n",
              "            await google.colab.kernel.invokeFunction('convertToInteractive',\n",
              "                                                     [key], {});\n",
              "          if (!dataTable) return;\n",
              "\n",
              "          const docLinkHtml = 'Like what you see? Visit the ' +\n",
              "            '<a target=\"_blank\" href=https://colab.research.google.com/notebooks/data_table.ipynb>data table notebook</a>'\n",
              "            + ' to learn more about interactive tables.';\n",
              "          element.innerHTML = '';\n",
              "          dataTable['output_type'] = 'display_data';\n",
              "          await google.colab.output.renderOutput(dataTable, element);\n",
              "          const docLink = document.createElement('div');\n",
              "          docLink.innerHTML = docLinkHtml;\n",
              "          element.appendChild(docLink);\n",
              "        }\n",
              "      </script>\n",
              "    </div>\n",
              "  </div>\n",
              "  "
            ],
            "application/vnd.google.colaboratory.module+javascript": "\n      import \"https://ssl.gstatic.com/colaboratory/data_table/f872b2c2305463fd/data_table.js\";\n\n      window.createDataTable({\n        data: [[{\n            'v': 0,\n            'f': \"0\",\n        },\n\"AMAZONAS\",\n\"BAGUA\",\n\"ARAMANGO\",\n\"I-1   - 00005054 - MIRAFLORES DE ARAMANGO\",\n\"AMAZONAS\",\n\"BAGUA\",\n\"ARAMANGO\",\n{\n            'v': 5054,\n            'f': \"5054\",\n        }],\n [{\n            'v': 1,\n            'f': \"1\",\n        },\n\"AMAZONAS\",\n\"BAGUA\",\n\"ARAMANGO\",\n\"I-1   - 00005061 - SHAIM\",\n\"AMAZONAS\",\n\"BAGUA\",\n\"ARAMANGO\",\n{\n            'v': 5061,\n            'f': \"5061\",\n        }],\n [{\n            'v': 2,\n            'f': \"2\",\n        },\n\"AMAZONAS\",\n\"BAGUA\",\n\"ARAMANGO\",\n\"I-1   - 00007008 - CHINGANZA\",\n\"AMAZONAS\",\n\"BAGUA\",\n\"ARAMANGO\",\n{\n            'v': 7008,\n            'f': \"7008\",\n        }],\n [{\n            'v': 3,\n            'f': \"3\",\n        },\n\"AMAZONAS\",\n\"BAGUA\",\n\"ARAMANGO\",\n\"I-1   - 00007009 - MONTENEGRO\",\n\"AMAZONAS\",\n\"BAGUA\",\n\"ARAMANGO\",\n{\n            'v': 7009,\n            'f': \"7009\",\n        }],\n [{\n            'v': 4,\n            'f': \"4\",\n        },\n\"AMAZONAS\",\n\"BAGUA\",\n\"ARAMANGO\",\n\"I-1   - 00007228 - NAJEM\",\n\"AMAZONAS\",\n\"BAGUA\",\n\"ARAMANGO\",\n{\n            'v': 7228,\n            'f': \"7228\",\n        }],\n [{\n            'v': 5,\n            'f': \"5\",\n        },\n\"AMAZONAS\",\n\"BAGUA\",\n\"ARAMANGO\",\n\"I-1   - 00007263 - GUAYAQUIL\",\n\"AMAZONAS\",\n\"BAGUA\",\n\"ARAMANGO\",\n{\n            'v': 7263,\n            'f': \"7263\",\n        }],\n [{\n            'v': 6,\n            'f': \"6\",\n        },\n\"AMAZONAS\",\n\"BAGUA\",\n\"ARAMANGO\",\n\"I-1   - 00007264 - EL CEDRON\",\n\"AMAZONAS\",\n\"BAGUA\",\n\"ARAMANGO\",\n{\n            'v': 7264,\n            'f': \"7264\",\n        }],\n [{\n            'v': 7,\n            'f': \"7\",\n        },\n\"AMAZONAS\",\n\"BAGUA\",\n\"ARAMANGO\",\n\"I-2   - 00005058 - NUMPARKET\",\n\"AMAZONAS\",\n\"BAGUA\",\n\"ARAMANGO\",\n{\n            'v': 5058,\n            'f': \"5058\",\n        }],\n [{\n            'v': 8,\n            'f': \"8\",\n        },\n\"AMAZONAS\",\n\"BAGUA\",\n\"ARAMANGO\",\n\"I-2   - 00005059 - TUTUMBEROS\",\n\"AMAZONAS\",\n\"BAGUA\",\n\"ARAMANGO\",\n{\n            'v': 5059,\n            'f': \"5059\",\n        }],\n [{\n            'v': 9,\n            'f': \"9\",\n        },\n\"AMAZONAS\",\n\"BAGUA\",\n\"ARAMANGO\",\n\"I-3   - 00005053 - ARAMANGO\",\n\"AMAZONAS\",\n\"BAGUA\",\n\"ARAMANGO\",\n{\n            'v': 5053,\n            'f': \"5053\",\n        }]],\n        columns: [[\"number\", \"index\"], [\"string\", \"Diresa\"], [\"string\", \"Red\"], [\"string\", \"Microred\"], [\"string\", \"EESS\"], [\"string\", \"Dpto_EESS\"], [\"string\", \"Prov_EESS\"], [\"string\", \"Dist_EESS\"], [\"number\", \"Renipress\"]],\n        columnOptions: [{\"width\": \"1px\", \"className\": \"index_column\"}],\n        rowsPerPage: 25,\n        helpUrl: \"https://colab.research.google.com/notebooks/data_table.ipynb\",\n        suppressOutputScrolling: true,\n        minimumWidth: undefined,\n      });\n    "
          },
          "metadata": {},
          "execution_count": 22
        }
      ]
    },
    {
      "cell_type": "code",
      "source": [
        "est_salud.groupby('Renipress').agg({'Diresa':'count'}).reset_index().rename(columns={'Diresa':'count'}).sort_values(by=['count'], ascending = False).head(10)"
      ],
      "metadata": {
        "colab": {
          "base_uri": "https://localhost:8080/",
          "height": 308
        },
        "id": "Dl4LWN5VO3iJ",
        "outputId": "4f3276d1-503e-46dc-fca8-683685dc6420"
      },
      "execution_count": 23,
      "outputs": [
        {
          "output_type": "execute_result",
          "data": {
            "text/plain": [
              "      Renipress  count\n",
              "0             3      1\n",
              "4845       5612      1\n",
              "4815       5578      1\n",
              "4814       5577      1\n",
              "4813       5576      1\n",
              "4812       5575      1\n",
              "4811       5574      1\n",
              "4810       5571      1\n",
              "4809       5569      1\n",
              "4808       5568      1"
            ],
            "text/html": [
              "\n",
              "  <div id=\"df-7fcb33f7-12c6-4824-b46d-a9d3624eea66\">\n",
              "    <div class=\"colab-df-container\">\n",
              "      <div>\n",
              "<style scoped>\n",
              "    .dataframe tbody tr th:only-of-type {\n",
              "        vertical-align: middle;\n",
              "    }\n",
              "\n",
              "    .dataframe tbody tr th {\n",
              "        vertical-align: top;\n",
              "    }\n",
              "\n",
              "    .dataframe thead th {\n",
              "        text-align: right;\n",
              "    }\n",
              "</style>\n",
              "<table border=\"1\" class=\"dataframe\">\n",
              "  <thead>\n",
              "    <tr style=\"text-align: right;\">\n",
              "      <th></th>\n",
              "      <th>Renipress</th>\n",
              "      <th>count</th>\n",
              "    </tr>\n",
              "  </thead>\n",
              "  <tbody>\n",
              "    <tr>\n",
              "      <th>0</th>\n",
              "      <td>3</td>\n",
              "      <td>1</td>\n",
              "    </tr>\n",
              "    <tr>\n",
              "      <th>4845</th>\n",
              "      <td>5612</td>\n",
              "      <td>1</td>\n",
              "    </tr>\n",
              "    <tr>\n",
              "      <th>4815</th>\n",
              "      <td>5578</td>\n",
              "      <td>1</td>\n",
              "    </tr>\n",
              "    <tr>\n",
              "      <th>4814</th>\n",
              "      <td>5577</td>\n",
              "      <td>1</td>\n",
              "    </tr>\n",
              "    <tr>\n",
              "      <th>4813</th>\n",
              "      <td>5576</td>\n",
              "      <td>1</td>\n",
              "    </tr>\n",
              "    <tr>\n",
              "      <th>4812</th>\n",
              "      <td>5575</td>\n",
              "      <td>1</td>\n",
              "    </tr>\n",
              "    <tr>\n",
              "      <th>4811</th>\n",
              "      <td>5574</td>\n",
              "      <td>1</td>\n",
              "    </tr>\n",
              "    <tr>\n",
              "      <th>4810</th>\n",
              "      <td>5571</td>\n",
              "      <td>1</td>\n",
              "    </tr>\n",
              "    <tr>\n",
              "      <th>4809</th>\n",
              "      <td>5569</td>\n",
              "      <td>1</td>\n",
              "    </tr>\n",
              "    <tr>\n",
              "      <th>4808</th>\n",
              "      <td>5568</td>\n",
              "      <td>1</td>\n",
              "    </tr>\n",
              "  </tbody>\n",
              "</table>\n",
              "</div>\n",
              "      <button class=\"colab-df-convert\" onclick=\"convertToInteractive('df-7fcb33f7-12c6-4824-b46d-a9d3624eea66')\"\n",
              "              title=\"Convert this dataframe to an interactive table.\"\n",
              "              style=\"display:none;\">\n",
              "        \n",
              "  <svg xmlns=\"http://www.w3.org/2000/svg\" height=\"24px\"viewBox=\"0 0 24 24\"\n",
              "       width=\"24px\">\n",
              "    <path d=\"M0 0h24v24H0V0z\" fill=\"none\"/>\n",
              "    <path d=\"M18.56 5.44l.94 2.06.94-2.06 2.06-.94-2.06-.94-.94-2.06-.94 2.06-2.06.94zm-11 1L8.5 8.5l.94-2.06 2.06-.94-2.06-.94L8.5 2.5l-.94 2.06-2.06.94zm10 10l.94 2.06.94-2.06 2.06-.94-2.06-.94-.94-2.06-.94 2.06-2.06.94z\"/><path d=\"M17.41 7.96l-1.37-1.37c-.4-.4-.92-.59-1.43-.59-.52 0-1.04.2-1.43.59L10.3 9.45l-7.72 7.72c-.78.78-.78 2.05 0 2.83L4 21.41c.39.39.9.59 1.41.59.51 0 1.02-.2 1.41-.59l7.78-7.78 2.81-2.81c.8-.78.8-2.07 0-2.86zM5.41 20L4 18.59l7.72-7.72 1.47 1.35L5.41 20z\"/>\n",
              "  </svg>\n",
              "      </button>\n",
              "      \n",
              "  <style>\n",
              "    .colab-df-container {\n",
              "      display:flex;\n",
              "      flex-wrap:wrap;\n",
              "      gap: 12px;\n",
              "    }\n",
              "\n",
              "    .colab-df-convert {\n",
              "      background-color: #E8F0FE;\n",
              "      border: none;\n",
              "      border-radius: 50%;\n",
              "      cursor: pointer;\n",
              "      display: none;\n",
              "      fill: #1967D2;\n",
              "      height: 32px;\n",
              "      padding: 0 0 0 0;\n",
              "      width: 32px;\n",
              "    }\n",
              "\n",
              "    .colab-df-convert:hover {\n",
              "      background-color: #E2EBFA;\n",
              "      box-shadow: 0px 1px 2px rgba(60, 64, 67, 0.3), 0px 1px 3px 1px rgba(60, 64, 67, 0.15);\n",
              "      fill: #174EA6;\n",
              "    }\n",
              "\n",
              "    [theme=dark] .colab-df-convert {\n",
              "      background-color: #3B4455;\n",
              "      fill: #D2E3FC;\n",
              "    }\n",
              "\n",
              "    [theme=dark] .colab-df-convert:hover {\n",
              "      background-color: #434B5C;\n",
              "      box-shadow: 0px 1px 3px 1px rgba(0, 0, 0, 0.15);\n",
              "      filter: drop-shadow(0px 1px 2px rgba(0, 0, 0, 0.3));\n",
              "      fill: #FFFFFF;\n",
              "    }\n",
              "  </style>\n",
              "\n",
              "      <script>\n",
              "        const buttonEl =\n",
              "          document.querySelector('#df-7fcb33f7-12c6-4824-b46d-a9d3624eea66 button.colab-df-convert');\n",
              "        buttonEl.style.display =\n",
              "          google.colab.kernel.accessAllowed ? 'block' : 'none';\n",
              "\n",
              "        async function convertToInteractive(key) {\n",
              "          const element = document.querySelector('#df-7fcb33f7-12c6-4824-b46d-a9d3624eea66');\n",
              "          const dataTable =\n",
              "            await google.colab.kernel.invokeFunction('convertToInteractive',\n",
              "                                                     [key], {});\n",
              "          if (!dataTable) return;\n",
              "\n",
              "          const docLinkHtml = 'Like what you see? Visit the ' +\n",
              "            '<a target=\"_blank\" href=https://colab.research.google.com/notebooks/data_table.ipynb>data table notebook</a>'\n",
              "            + ' to learn more about interactive tables.';\n",
              "          element.innerHTML = '';\n",
              "          dataTable['output_type'] = 'display_data';\n",
              "          await google.colab.output.renderOutput(dataTable, element);\n",
              "          const docLink = document.createElement('div');\n",
              "          docLink.innerHTML = docLinkHtml;\n",
              "          element.appendChild(docLink);\n",
              "        }\n",
              "      </script>\n",
              "    </div>\n",
              "  </div>\n",
              "  "
            ],
            "application/vnd.google.colaboratory.module+javascript": "\n      import \"https://ssl.gstatic.com/colaboratory/data_table/f872b2c2305463fd/data_table.js\";\n\n      window.createDataTable({\n        data: [[{\n            'v': 0,\n            'f': \"0\",\n        },\n{\n            'v': 3,\n            'f': \"3\",\n        },\n{\n            'v': 1,\n            'f': \"1\",\n        }],\n [{\n            'v': 4845,\n            'f': \"4845\",\n        },\n{\n            'v': 5612,\n            'f': \"5612\",\n        },\n{\n            'v': 1,\n            'f': \"1\",\n        }],\n [{\n            'v': 4815,\n            'f': \"4815\",\n        },\n{\n            'v': 5578,\n            'f': \"5578\",\n        },\n{\n            'v': 1,\n            'f': \"1\",\n        }],\n [{\n            'v': 4814,\n            'f': \"4814\",\n        },\n{\n            'v': 5577,\n            'f': \"5577\",\n        },\n{\n            'v': 1,\n            'f': \"1\",\n        }],\n [{\n            'v': 4813,\n            'f': \"4813\",\n        },\n{\n            'v': 5576,\n            'f': \"5576\",\n        },\n{\n            'v': 1,\n            'f': \"1\",\n        }],\n [{\n            'v': 4812,\n            'f': \"4812\",\n        },\n{\n            'v': 5575,\n            'f': \"5575\",\n        },\n{\n            'v': 1,\n            'f': \"1\",\n        }],\n [{\n            'v': 4811,\n            'f': \"4811\",\n        },\n{\n            'v': 5574,\n            'f': \"5574\",\n        },\n{\n            'v': 1,\n            'f': \"1\",\n        }],\n [{\n            'v': 4810,\n            'f': \"4810\",\n        },\n{\n            'v': 5571,\n            'f': \"5571\",\n        },\n{\n            'v': 1,\n            'f': \"1\",\n        }],\n [{\n            'v': 4809,\n            'f': \"4809\",\n        },\n{\n            'v': 5569,\n            'f': \"5569\",\n        },\n{\n            'v': 1,\n            'f': \"1\",\n        }],\n [{\n            'v': 4808,\n            'f': \"4808\",\n        },\n{\n            'v': 5568,\n            'f': \"5568\",\n        },\n{\n            'v': 1,\n            'f': \"1\",\n        }]],\n        columns: [[\"number\", \"index\"], [\"number\", \"Renipress\"], [\"number\", \"count\"]],\n        columnOptions: [{\"width\": \"1px\", \"className\": \"index_column\"}],\n        rowsPerPage: 25,\n        helpUrl: \"https://colab.research.google.com/notebooks/data_table.ipynb\",\n        suppressOutputScrolling: true,\n        minimumWidth: undefined,\n      });\n    "
          },
          "metadata": {},
          "execution_count": 23
        }
      ]
    },
    {
      "cell_type": "markdown",
      "source": [
        "**Exportar los datos**"
      ],
      "metadata": {
        "id": "4geKrt_e0_iH"
      }
    },
    {
      "cell_type": "code",
      "source": [
        "path = '/content/drive/MyDrive/Colab Notebooks/Portafolio/Data/'#Guardar el DataSet en la carpeta ../Data\n",
        "os.chdir(path)"
      ],
      "metadata": {
        "id": "JQ98VeA11Gyo"
      },
      "execution_count": 24,
      "outputs": []
    },
    {
      "cell_type": "code",
      "source": [
        "est_salud.to_csv('EESS_utf8.csv', index=False, encoding='utf-8-sig')"
      ],
      "metadata": {
        "id": "UwC8t_wkNtBp"
      },
      "execution_count": 25,
      "outputs": []
    },
    {
      "cell_type": "markdown",
      "source": [
        "## Seleccion de Variables"
      ],
      "metadata": {
        "id": "C4lXX1pMxmjL"
      }
    },
    {
      "cell_type": "markdown",
      "source": [
        "Por tener muchos elementos vacíos se retiran los campos:\n",
        "*   ï»¿Diresa': Parece un error de la data\n",
        "* 'FechaNacimiento': Ya que se cuenta con la edad en meses\n",
        "* 'FechaHemoglobina': casi 50% sin datos\n",
        "* 'DepartamentoPN', 'ProvinciaPN', 'DistritoPN', 'CentroPobladoPN': Se tomarán valores (limpios) de la tabla ubigeo, de este grupo se conserva el campo UbigeoPN\n",
        "* 'DepartamentoREN', 'ProvinciaREN', 'DistritoREN': Se tomarán valores (limpios) de la tabla ubigeo, de este grupo se conserva el campo UbigeoREN\n",
        "* 'Diresa', 'Red', 'Microred', 'EESS', 'Dpto_EESS', 'Prov_EESS','Dist_EESS': sólo se mantendrá 'Renipress'"
      ],
      "metadata": {
        "id": "eEShJWm-yjY7"
      }
    },
    {
      "cell_type": "code",
      "source": [
        "combined_csv.columns"
      ],
      "metadata": {
        "colab": {
          "base_uri": "https://localhost:8080/"
        },
        "id": "H77cH-oqysk5",
        "outputId": "cffee66d-ef8b-45ef-ae95-52fd46814b85"
      },
      "execution_count": 26,
      "outputs": [
        {
          "output_type": "execute_result",
          "data": {
            "text/plain": [
              "Index(['Diresa', 'Red', 'Microred', 'EESS', 'Dpto_EESS', 'Prov_EESS',\n",
              "       'Dist_EESS', 'Renipress', 'FechaAtencion', 'Sexo', 'FechaNacimiento',\n",
              "       'EdadMeses', 'UbigeoPN', 'DepartamentoPN', 'ProvinciaPN', 'DistritoPN',\n",
              "       'CentroPobladoPN', 'Juntos', 'SIS', 'Pin', 'Qaliwarma', 'Peso', 'Talla',\n",
              "       'Hemoglobina', 'FechaHemoglobina', 'Cred', 'Suplementacion',\n",
              "       'Consejeria', 'Sesion', 'UbigeoREN', 'DepartamentoREN', 'ProvinciaREN',\n",
              "       'DistritoREN', 'AlturaREN', 'HBC', 'Dx_Anemia', 'ï»¿Diresa'],\n",
              "      dtype='object')"
            ]
          },
          "metadata": {},
          "execution_count": 26
        }
      ]
    },
    {
      "cell_type": "code",
      "source": [
        "combined_csv = combined_csv[['Renipress', 'FechaAtencion', 'Sexo', \n",
        "       'EdadMeses', 'UbigeoPN', 'Juntos', 'SIS', 'Pin', 'Qaliwarma', \n",
        "       'Hemoglobina','Cred', 'Suplementacion',\n",
        "       'Consejeria', 'Sesion', 'UbigeoREN','HBC', 'Dx_Anemia']]"
      ],
      "metadata": {
        "id": "kgnSKk2DffTA"
      },
      "execution_count": 27,
      "outputs": []
    },
    {
      "cell_type": "markdown",
      "source": [
        "## Eliminar Nulos\n",
        "Ya habiendo seleccionado las variables se procede a eliminar nulos"
      ],
      "metadata": {
        "id": "T_f8PXDBzTZo"
      }
    },
    {
      "cell_type": "code",
      "source": [
        "Nulls_By_Var(combined_csv)"
      ],
      "metadata": {
        "colab": {
          "base_uri": "https://localhost:8080/",
          "height": 199
        },
        "id": "Tk_lrA59zec0",
        "outputId": "b6cc0e82-a60f-42e2-d5af-aea6c78e1333"
      },
      "execution_count": 28,
      "outputs": [
        {
          "output_type": "execute_result",
          "data": {
            "text/plain": [
              "       Nulos  Variable % Nulos\n",
              "0   UbigeoPN     21536   3.72%\n",
              "1     Juntos     21536   3.72%\n",
              "2        SIS     21536   3.72%\n",
              "3        Pin     21536   3.72%\n",
              "4  Qaliwarma     21536   3.72%"
            ],
            "text/html": [
              "\n",
              "  <div id=\"df-811c1dfd-4a7e-4614-8a82-1ece6c8b9c6e\">\n",
              "    <div class=\"colab-df-container\">\n",
              "      <div>\n",
              "<style scoped>\n",
              "    .dataframe tbody tr th:only-of-type {\n",
              "        vertical-align: middle;\n",
              "    }\n",
              "\n",
              "    .dataframe tbody tr th {\n",
              "        vertical-align: top;\n",
              "    }\n",
              "\n",
              "    .dataframe thead th {\n",
              "        text-align: right;\n",
              "    }\n",
              "</style>\n",
              "<table border=\"1\" class=\"dataframe\">\n",
              "  <thead>\n",
              "    <tr style=\"text-align: right;\">\n",
              "      <th></th>\n",
              "      <th>Nulos</th>\n",
              "      <th>Variable</th>\n",
              "      <th>% Nulos</th>\n",
              "    </tr>\n",
              "  </thead>\n",
              "  <tbody>\n",
              "    <tr>\n",
              "      <th>0</th>\n",
              "      <td>UbigeoPN</td>\n",
              "      <td>21536</td>\n",
              "      <td>3.72%</td>\n",
              "    </tr>\n",
              "    <tr>\n",
              "      <th>1</th>\n",
              "      <td>Juntos</td>\n",
              "      <td>21536</td>\n",
              "      <td>3.72%</td>\n",
              "    </tr>\n",
              "    <tr>\n",
              "      <th>2</th>\n",
              "      <td>SIS</td>\n",
              "      <td>21536</td>\n",
              "      <td>3.72%</td>\n",
              "    </tr>\n",
              "    <tr>\n",
              "      <th>3</th>\n",
              "      <td>Pin</td>\n",
              "      <td>21536</td>\n",
              "      <td>3.72%</td>\n",
              "    </tr>\n",
              "    <tr>\n",
              "      <th>4</th>\n",
              "      <td>Qaliwarma</td>\n",
              "      <td>21536</td>\n",
              "      <td>3.72%</td>\n",
              "    </tr>\n",
              "  </tbody>\n",
              "</table>\n",
              "</div>\n",
              "      <button class=\"colab-df-convert\" onclick=\"convertToInteractive('df-811c1dfd-4a7e-4614-8a82-1ece6c8b9c6e')\"\n",
              "              title=\"Convert this dataframe to an interactive table.\"\n",
              "              style=\"display:none;\">\n",
              "        \n",
              "  <svg xmlns=\"http://www.w3.org/2000/svg\" height=\"24px\"viewBox=\"0 0 24 24\"\n",
              "       width=\"24px\">\n",
              "    <path d=\"M0 0h24v24H0V0z\" fill=\"none\"/>\n",
              "    <path d=\"M18.56 5.44l.94 2.06.94-2.06 2.06-.94-2.06-.94-.94-2.06-.94 2.06-2.06.94zm-11 1L8.5 8.5l.94-2.06 2.06-.94-2.06-.94L8.5 2.5l-.94 2.06-2.06.94zm10 10l.94 2.06.94-2.06 2.06-.94-2.06-.94-.94-2.06-.94 2.06-2.06.94z\"/><path d=\"M17.41 7.96l-1.37-1.37c-.4-.4-.92-.59-1.43-.59-.52 0-1.04.2-1.43.59L10.3 9.45l-7.72 7.72c-.78.78-.78 2.05 0 2.83L4 21.41c.39.39.9.59 1.41.59.51 0 1.02-.2 1.41-.59l7.78-7.78 2.81-2.81c.8-.78.8-2.07 0-2.86zM5.41 20L4 18.59l7.72-7.72 1.47 1.35L5.41 20z\"/>\n",
              "  </svg>\n",
              "      </button>\n",
              "      \n",
              "  <style>\n",
              "    .colab-df-container {\n",
              "      display:flex;\n",
              "      flex-wrap:wrap;\n",
              "      gap: 12px;\n",
              "    }\n",
              "\n",
              "    .colab-df-convert {\n",
              "      background-color: #E8F0FE;\n",
              "      border: none;\n",
              "      border-radius: 50%;\n",
              "      cursor: pointer;\n",
              "      display: none;\n",
              "      fill: #1967D2;\n",
              "      height: 32px;\n",
              "      padding: 0 0 0 0;\n",
              "      width: 32px;\n",
              "    }\n",
              "\n",
              "    .colab-df-convert:hover {\n",
              "      background-color: #E2EBFA;\n",
              "      box-shadow: 0px 1px 2px rgba(60, 64, 67, 0.3), 0px 1px 3px 1px rgba(60, 64, 67, 0.15);\n",
              "      fill: #174EA6;\n",
              "    }\n",
              "\n",
              "    [theme=dark] .colab-df-convert {\n",
              "      background-color: #3B4455;\n",
              "      fill: #D2E3FC;\n",
              "    }\n",
              "\n",
              "    [theme=dark] .colab-df-convert:hover {\n",
              "      background-color: #434B5C;\n",
              "      box-shadow: 0px 1px 3px 1px rgba(0, 0, 0, 0.15);\n",
              "      filter: drop-shadow(0px 1px 2px rgba(0, 0, 0, 0.3));\n",
              "      fill: #FFFFFF;\n",
              "    }\n",
              "  </style>\n",
              "\n",
              "      <script>\n",
              "        const buttonEl =\n",
              "          document.querySelector('#df-811c1dfd-4a7e-4614-8a82-1ece6c8b9c6e button.colab-df-convert');\n",
              "        buttonEl.style.display =\n",
              "          google.colab.kernel.accessAllowed ? 'block' : 'none';\n",
              "\n",
              "        async function convertToInteractive(key) {\n",
              "          const element = document.querySelector('#df-811c1dfd-4a7e-4614-8a82-1ece6c8b9c6e');\n",
              "          const dataTable =\n",
              "            await google.colab.kernel.invokeFunction('convertToInteractive',\n",
              "                                                     [key], {});\n",
              "          if (!dataTable) return;\n",
              "\n",
              "          const docLinkHtml = 'Like what you see? Visit the ' +\n",
              "            '<a target=\"_blank\" href=https://colab.research.google.com/notebooks/data_table.ipynb>data table notebook</a>'\n",
              "            + ' to learn more about interactive tables.';\n",
              "          element.innerHTML = '';\n",
              "          dataTable['output_type'] = 'display_data';\n",
              "          await google.colab.output.renderOutput(dataTable, element);\n",
              "          const docLink = document.createElement('div');\n",
              "          docLink.innerHTML = docLinkHtml;\n",
              "          element.appendChild(docLink);\n",
              "        }\n",
              "      </script>\n",
              "    </div>\n",
              "  </div>\n",
              "  "
            ],
            "application/vnd.google.colaboratory.module+javascript": "\n      import \"https://ssl.gstatic.com/colaboratory/data_table/f872b2c2305463fd/data_table.js\";\n\n      window.createDataTable({\n        data: [[{\n            'v': 0,\n            'f': \"0\",\n        },\n\"UbigeoPN\",\n{\n            'v': 21536,\n            'f': \"21536\",\n        },\n\"3.72%\"],\n [{\n            'v': 1,\n            'f': \"1\",\n        },\n\"Juntos\",\n{\n            'v': 21536,\n            'f': \"21536\",\n        },\n\"3.72%\"],\n [{\n            'v': 2,\n            'f': \"2\",\n        },\n\"SIS\",\n{\n            'v': 21536,\n            'f': \"21536\",\n        },\n\"3.72%\"],\n [{\n            'v': 3,\n            'f': \"3\",\n        },\n\"Pin\",\n{\n            'v': 21536,\n            'f': \"21536\",\n        },\n\"3.72%\"],\n [{\n            'v': 4,\n            'f': \"4\",\n        },\n\"Qaliwarma\",\n{\n            'v': 21536,\n            'f': \"21536\",\n        },\n\"3.72%\"]],\n        columns: [[\"number\", \"index\"], [\"string\", \"Nulos\"], [\"number\", \"Variable\"], [\"string\", \"% Nulos\"]],\n        columnOptions: [{\"width\": \"1px\", \"className\": \"index_column\"}],\n        rowsPerPage: 25,\n        helpUrl: \"https://colab.research.google.com/notebooks/data_table.ipynb\",\n        suppressOutputScrolling: true,\n        minimumWidth: undefined,\n      });\n    "
          },
          "metadata": {},
          "execution_count": 28
        }
      ]
    },
    {
      "cell_type": "code",
      "source": [
        "orig = combined_csv.shape[0]\n",
        "combined_csv.dropna(inplace=True)\n",
        "final = combined_csv.shape[0]"
      ],
      "metadata": {
        "id": "ZNBEk_x2Rmk-"
      },
      "execution_count": 29,
      "outputs": []
    },
    {
      "cell_type": "code",
      "source": [
        "print('Cantidad de datos original {},'.format(orig))\n",
        "print('Cantidad de datos final {},'.format(final))\n",
        "print('% de datos eliminados {:.2f}%'.format((orig-final)/orig*100))"
      ],
      "metadata": {
        "colab": {
          "base_uri": "https://localhost:8080/"
        },
        "id": "Wv5HlUbT0GHE",
        "outputId": "05bd1961-f262-4f55-ced5-a33c8e2a0619"
      },
      "execution_count": 30,
      "outputs": [
        {
          "output_type": "stream",
          "name": "stdout",
          "text": [
            "Cantidad de datos original 578576,\n",
            "Cantidad de datos final 557040,\n",
            "% de datos eliminados 3.72%\n"
          ]
        }
      ]
    },
    {
      "cell_type": "markdown",
      "source": [
        "## Validar tipos de datos"
      ],
      "metadata": {
        "id": "u3YUnwee0Yx0"
      }
    },
    {
      "cell_type": "code",
      "source": [
        "combined_csv.dtypes"
      ],
      "metadata": {
        "colab": {
          "base_uri": "https://localhost:8080/"
        },
        "id": "v6GFwCuz0WeU",
        "outputId": "a2ecc11f-0f3a-48c6-a24b-c81d08d17702"
      },
      "execution_count": 31,
      "outputs": [
        {
          "output_type": "execute_result",
          "data": {
            "text/plain": [
              "Renipress           int64\n",
              "FechaAtencion      object\n",
              "Sexo               object\n",
              "EdadMeses           int64\n",
              "UbigeoPN           object\n",
              "Juntos             object\n",
              "SIS                object\n",
              "Pin                object\n",
              "Qaliwarma          object\n",
              "Hemoglobina       float64\n",
              "Cred                int64\n",
              "Suplementacion      int64\n",
              "Consejeria          int64\n",
              "Sesion              int64\n",
              "UbigeoREN           int64\n",
              "HBC               float64\n",
              "Dx_Anemia          object\n",
              "dtype: object"
            ]
          },
          "metadata": {},
          "execution_count": 31
        }
      ]
    },
    {
      "cell_type": "markdown",
      "source": [
        "Se convierte el Ubigeo en un dato de tipo Float"
      ],
      "metadata": {
        "id": "jJvsbLY00fwX"
      }
    },
    {
      "cell_type": "code",
      "source": [
        "combined_csv.UbigeoPN = combined_csv.UbigeoPN.astype('float64')\n",
        "combined_csv.UbigeoREN = combined_csv.UbigeoREN.astype('float64')\n",
        "combined_csv.dtypes"
      ],
      "metadata": {
        "colab": {
          "base_uri": "https://localhost:8080/"
        },
        "id": "awKmDcbd1NIW",
        "outputId": "98c91ffe-b332-4c1e-c7b0-116b49b858d8"
      },
      "execution_count": 32,
      "outputs": [
        {
          "output_type": "execute_result",
          "data": {
            "text/plain": [
              "Renipress           int64\n",
              "FechaAtencion      object\n",
              "Sexo               object\n",
              "EdadMeses           int64\n",
              "UbigeoPN          float64\n",
              "Juntos             object\n",
              "SIS                object\n",
              "Pin                object\n",
              "Qaliwarma          object\n",
              "Hemoglobina       float64\n",
              "Cred                int64\n",
              "Suplementacion      int64\n",
              "Consejeria          int64\n",
              "Sesion              int64\n",
              "UbigeoREN         float64\n",
              "HBC               float64\n",
              "Dx_Anemia          object\n",
              "dtype: object"
            ]
          },
          "metadata": {},
          "execution_count": 32
        }
      ]
    },
    {
      "cell_type": "markdown",
      "source": [
        "## Exportar Datos"
      ],
      "metadata": {
        "id": "DLP6enQM7f_I"
      }
    },
    {
      "cell_type": "markdown",
      "source": [
        "Antes de Exportar se reduce el tamaño del DataSet agrupando todos los datos posibles. Para ello se agrega la variable temporal counter"
      ],
      "metadata": {
        "id": "KEdkHmOu7kSY"
      }
    },
    {
      "cell_type": "code",
      "source": [
        "combined_csv['counter'] = 1"
      ],
      "metadata": {
        "id": "nbtcfwCP7vCv"
      },
      "execution_count": 58,
      "outputs": []
    },
    {
      "cell_type": "code",
      "source": [
        "combined_csv.columns"
      ],
      "metadata": {
        "colab": {
          "base_uri": "https://localhost:8080/"
        },
        "id": "eIVUF7M873Yx",
        "outputId": "915ff12a-b6da-49ac-8928-aa3a37d93854"
      },
      "execution_count": 59,
      "outputs": [
        {
          "output_type": "execute_result",
          "data": {
            "text/plain": [
              "Index(['Renipress', 'FechaAtencion', 'Sexo', 'EdadMeses', 'UbigeoPN', 'Juntos',\n",
              "       'SIS', 'Pin', 'Qaliwarma', 'Hemoglobina', 'Cred', 'Suplementacion',\n",
              "       'Consejeria', 'Sesion', 'UbigeoREN', 'HBC', 'Dx_Anemia', 'counter'],\n",
              "      dtype='object')"
            ]
          },
          "metadata": {},
          "execution_count": 59
        }
      ]
    },
    {
      "cell_type": "code",
      "source": [
        "combined_lite = combined_csv.groupby(['Renipress', 'FechaAtencion', 'Sexo', 'EdadMeses', 'UbigeoPN', 'Juntos',\n",
        "       'SIS', 'Pin', 'Qaliwarma', 'Hemoglobina', 'Cred', 'Suplementacion',\n",
        "       'Consejeria', 'Sesion', 'UbigeoREN', 'HBC', 'Dx_Anemia']).agg({'counter':'count'}).reset_index()"
      ],
      "metadata": {
        "id": "rEeUuIur1GJc"
      },
      "execution_count": 60,
      "outputs": []
    },
    {
      "cell_type": "code",
      "source": [
        "print('El dataset original cuenta con {} registros'.format(combined_csv.shape[0]))\n",
        "print('El dataset lite cuenta con {} registros'.format(combined_lite.shape[0]))\n",
        "combined_lite.head()"
      ],
      "metadata": {
        "colab": {
          "base_uri": "https://localhost:8080/",
          "height": 272
        },
        "id": "PyRJnAkSd74o",
        "outputId": "00ccfd99-879c-4035-8c4b-3521947a332e"
      },
      "execution_count": 61,
      "outputs": [
        {
          "output_type": "stream",
          "name": "stdout",
          "text": [
            "El dataset original cuenta con 557040 registros\n",
            "El dataset lite cuenta con 556045 registros\n"
          ]
        },
        {
          "output_type": "execute_result",
          "data": {
            "text/plain": [
              "   Renipress FechaAtencion Sexo  EdadMeses  UbigeoPN Juntos SIS Pin Qaliwarma  \\\n",
              "0          3     1/10/2020    F         42  160108.0      0   1   0         0   \n",
              "1          3     1/10/2020    F         45  160108.0      0   1   0         0   \n",
              "2          3     1/14/2020    F         18  160108.0      0   1   0         0   \n",
              "3          3     1/14/2020    F         40  150133.0      0   1   0         0   \n",
              "4          3     1/14/2020    F         50  160101.0      0   1   0         0   \n",
              "\n",
              "   Hemoglobina  Cred  Suplementacion  Consejeria  Sesion  UbigeoREN  \\\n",
              "0         12.5     1               0           0       0   160108.0   \n",
              "1         11.4     1               1           1       0   160108.0   \n",
              "2         10.2     1               1           1       0   160108.0   \n",
              "3         11.6     1               1           1       0   160108.0   \n",
              "4         12.5     1               1           0       0   160108.0   \n",
              "\n",
              "         HBC    Dx_Anemia  counter  \n",
              "0  12.508447       Normal        1  \n",
              "1  11.408447       Normal        1  \n",
              "2  10.208447  Anemia Leve        1  \n",
              "3  11.608447       Normal        1  \n",
              "4  12.508447       Normal        1  "
            ],
            "text/html": [
              "\n",
              "  <div id=\"df-66738758-02b9-4051-b480-2066a3bbfa3b\">\n",
              "    <div class=\"colab-df-container\">\n",
              "      <div>\n",
              "<style scoped>\n",
              "    .dataframe tbody tr th:only-of-type {\n",
              "        vertical-align: middle;\n",
              "    }\n",
              "\n",
              "    .dataframe tbody tr th {\n",
              "        vertical-align: top;\n",
              "    }\n",
              "\n",
              "    .dataframe thead th {\n",
              "        text-align: right;\n",
              "    }\n",
              "</style>\n",
              "<table border=\"1\" class=\"dataframe\">\n",
              "  <thead>\n",
              "    <tr style=\"text-align: right;\">\n",
              "      <th></th>\n",
              "      <th>Renipress</th>\n",
              "      <th>FechaAtencion</th>\n",
              "      <th>Sexo</th>\n",
              "      <th>EdadMeses</th>\n",
              "      <th>UbigeoPN</th>\n",
              "      <th>Juntos</th>\n",
              "      <th>SIS</th>\n",
              "      <th>Pin</th>\n",
              "      <th>Qaliwarma</th>\n",
              "      <th>Hemoglobina</th>\n",
              "      <th>Cred</th>\n",
              "      <th>Suplementacion</th>\n",
              "      <th>Consejeria</th>\n",
              "      <th>Sesion</th>\n",
              "      <th>UbigeoREN</th>\n",
              "      <th>HBC</th>\n",
              "      <th>Dx_Anemia</th>\n",
              "      <th>counter</th>\n",
              "    </tr>\n",
              "  </thead>\n",
              "  <tbody>\n",
              "    <tr>\n",
              "      <th>0</th>\n",
              "      <td>3</td>\n",
              "      <td>1/10/2020</td>\n",
              "      <td>F</td>\n",
              "      <td>42</td>\n",
              "      <td>160108.0</td>\n",
              "      <td>0</td>\n",
              "      <td>1</td>\n",
              "      <td>0</td>\n",
              "      <td>0</td>\n",
              "      <td>12.5</td>\n",
              "      <td>1</td>\n",
              "      <td>0</td>\n",
              "      <td>0</td>\n",
              "      <td>0</td>\n",
              "      <td>160108.0</td>\n",
              "      <td>12.508447</td>\n",
              "      <td>Normal</td>\n",
              "      <td>1</td>\n",
              "    </tr>\n",
              "    <tr>\n",
              "      <th>1</th>\n",
              "      <td>3</td>\n",
              "      <td>1/10/2020</td>\n",
              "      <td>F</td>\n",
              "      <td>45</td>\n",
              "      <td>160108.0</td>\n",
              "      <td>0</td>\n",
              "      <td>1</td>\n",
              "      <td>0</td>\n",
              "      <td>0</td>\n",
              "      <td>11.4</td>\n",
              "      <td>1</td>\n",
              "      <td>1</td>\n",
              "      <td>1</td>\n",
              "      <td>0</td>\n",
              "      <td>160108.0</td>\n",
              "      <td>11.408447</td>\n",
              "      <td>Normal</td>\n",
              "      <td>1</td>\n",
              "    </tr>\n",
              "    <tr>\n",
              "      <th>2</th>\n",
              "      <td>3</td>\n",
              "      <td>1/14/2020</td>\n",
              "      <td>F</td>\n",
              "      <td>18</td>\n",
              "      <td>160108.0</td>\n",
              "      <td>0</td>\n",
              "      <td>1</td>\n",
              "      <td>0</td>\n",
              "      <td>0</td>\n",
              "      <td>10.2</td>\n",
              "      <td>1</td>\n",
              "      <td>1</td>\n",
              "      <td>1</td>\n",
              "      <td>0</td>\n",
              "      <td>160108.0</td>\n",
              "      <td>10.208447</td>\n",
              "      <td>Anemia Leve</td>\n",
              "      <td>1</td>\n",
              "    </tr>\n",
              "    <tr>\n",
              "      <th>3</th>\n",
              "      <td>3</td>\n",
              "      <td>1/14/2020</td>\n",
              "      <td>F</td>\n",
              "      <td>40</td>\n",
              "      <td>150133.0</td>\n",
              "      <td>0</td>\n",
              "      <td>1</td>\n",
              "      <td>0</td>\n",
              "      <td>0</td>\n",
              "      <td>11.6</td>\n",
              "      <td>1</td>\n",
              "      <td>1</td>\n",
              "      <td>1</td>\n",
              "      <td>0</td>\n",
              "      <td>160108.0</td>\n",
              "      <td>11.608447</td>\n",
              "      <td>Normal</td>\n",
              "      <td>1</td>\n",
              "    </tr>\n",
              "    <tr>\n",
              "      <th>4</th>\n",
              "      <td>3</td>\n",
              "      <td>1/14/2020</td>\n",
              "      <td>F</td>\n",
              "      <td>50</td>\n",
              "      <td>160101.0</td>\n",
              "      <td>0</td>\n",
              "      <td>1</td>\n",
              "      <td>0</td>\n",
              "      <td>0</td>\n",
              "      <td>12.5</td>\n",
              "      <td>1</td>\n",
              "      <td>1</td>\n",
              "      <td>0</td>\n",
              "      <td>0</td>\n",
              "      <td>160108.0</td>\n",
              "      <td>12.508447</td>\n",
              "      <td>Normal</td>\n",
              "      <td>1</td>\n",
              "    </tr>\n",
              "  </tbody>\n",
              "</table>\n",
              "</div>\n",
              "      <button class=\"colab-df-convert\" onclick=\"convertToInteractive('df-66738758-02b9-4051-b480-2066a3bbfa3b')\"\n",
              "              title=\"Convert this dataframe to an interactive table.\"\n",
              "              style=\"display:none;\">\n",
              "        \n",
              "  <svg xmlns=\"http://www.w3.org/2000/svg\" height=\"24px\"viewBox=\"0 0 24 24\"\n",
              "       width=\"24px\">\n",
              "    <path d=\"M0 0h24v24H0V0z\" fill=\"none\"/>\n",
              "    <path d=\"M18.56 5.44l.94 2.06.94-2.06 2.06-.94-2.06-.94-.94-2.06-.94 2.06-2.06.94zm-11 1L8.5 8.5l.94-2.06 2.06-.94-2.06-.94L8.5 2.5l-.94 2.06-2.06.94zm10 10l.94 2.06.94-2.06 2.06-.94-2.06-.94-.94-2.06-.94 2.06-2.06.94z\"/><path d=\"M17.41 7.96l-1.37-1.37c-.4-.4-.92-.59-1.43-.59-.52 0-1.04.2-1.43.59L10.3 9.45l-7.72 7.72c-.78.78-.78 2.05 0 2.83L4 21.41c.39.39.9.59 1.41.59.51 0 1.02-.2 1.41-.59l7.78-7.78 2.81-2.81c.8-.78.8-2.07 0-2.86zM5.41 20L4 18.59l7.72-7.72 1.47 1.35L5.41 20z\"/>\n",
              "  </svg>\n",
              "      </button>\n",
              "      \n",
              "  <style>\n",
              "    .colab-df-container {\n",
              "      display:flex;\n",
              "      flex-wrap:wrap;\n",
              "      gap: 12px;\n",
              "    }\n",
              "\n",
              "    .colab-df-convert {\n",
              "      background-color: #E8F0FE;\n",
              "      border: none;\n",
              "      border-radius: 50%;\n",
              "      cursor: pointer;\n",
              "      display: none;\n",
              "      fill: #1967D2;\n",
              "      height: 32px;\n",
              "      padding: 0 0 0 0;\n",
              "      width: 32px;\n",
              "    }\n",
              "\n",
              "    .colab-df-convert:hover {\n",
              "      background-color: #E2EBFA;\n",
              "      box-shadow: 0px 1px 2px rgba(60, 64, 67, 0.3), 0px 1px 3px 1px rgba(60, 64, 67, 0.15);\n",
              "      fill: #174EA6;\n",
              "    }\n",
              "\n",
              "    [theme=dark] .colab-df-convert {\n",
              "      background-color: #3B4455;\n",
              "      fill: #D2E3FC;\n",
              "    }\n",
              "\n",
              "    [theme=dark] .colab-df-convert:hover {\n",
              "      background-color: #434B5C;\n",
              "      box-shadow: 0px 1px 3px 1px rgba(0, 0, 0, 0.15);\n",
              "      filter: drop-shadow(0px 1px 2px rgba(0, 0, 0, 0.3));\n",
              "      fill: #FFFFFF;\n",
              "    }\n",
              "  </style>\n",
              "\n",
              "      <script>\n",
              "        const buttonEl =\n",
              "          document.querySelector('#df-66738758-02b9-4051-b480-2066a3bbfa3b button.colab-df-convert');\n",
              "        buttonEl.style.display =\n",
              "          google.colab.kernel.accessAllowed ? 'block' : 'none';\n",
              "\n",
              "        async function convertToInteractive(key) {\n",
              "          const element = document.querySelector('#df-66738758-02b9-4051-b480-2066a3bbfa3b');\n",
              "          const dataTable =\n",
              "            await google.colab.kernel.invokeFunction('convertToInteractive',\n",
              "                                                     [key], {});\n",
              "          if (!dataTable) return;\n",
              "\n",
              "          const docLinkHtml = 'Like what you see? Visit the ' +\n",
              "            '<a target=\"_blank\" href=https://colab.research.google.com/notebooks/data_table.ipynb>data table notebook</a>'\n",
              "            + ' to learn more about interactive tables.';\n",
              "          element.innerHTML = '';\n",
              "          dataTable['output_type'] = 'display_data';\n",
              "          await google.colab.output.renderOutput(dataTable, element);\n",
              "          const docLink = document.createElement('div');\n",
              "          docLink.innerHTML = docLinkHtml;\n",
              "          element.appendChild(docLink);\n",
              "        }\n",
              "      </script>\n",
              "    </div>\n",
              "  </div>\n",
              "  "
            ],
            "application/vnd.google.colaboratory.module+javascript": "\n      import \"https://ssl.gstatic.com/colaboratory/data_table/f872b2c2305463fd/data_table.js\";\n\n      window.createDataTable({\n        data: [[{\n            'v': 0,\n            'f': \"0\",\n        },\n{\n            'v': 3,\n            'f': \"3\",\n        },\n\"1/10/2020\",\n\"F\",\n{\n            'v': 42,\n            'f': \"42\",\n        },\n{\n            'v': 160108.0,\n            'f': \"160108.0\",\n        },\n\"0\",\n\"1\",\n\"0\",\n\"0\",\n{\n            'v': 12.5,\n            'f': \"12.5\",\n        },\n{\n            'v': 1,\n            'f': \"1\",\n        },\n{\n            'v': 0,\n            'f': \"0\",\n        },\n{\n            'v': 0,\n            'f': \"0\",\n        },\n{\n            'v': 0,\n            'f': \"0\",\n        },\n{\n            'v': 160108.0,\n            'f': \"160108.0\",\n        },\n{\n            'v': 12.5084466305,\n            'f': \"12.5084466305\",\n        },\n\"Normal\",\n{\n            'v': 1,\n            'f': \"1\",\n        }],\n [{\n            'v': 1,\n            'f': \"1\",\n        },\n{\n            'v': 3,\n            'f': \"3\",\n        },\n\"1/10/2020\",\n\"F\",\n{\n            'v': 45,\n            'f': \"45\",\n        },\n{\n            'v': 160108.0,\n            'f': \"160108.0\",\n        },\n\"0\",\n\"1\",\n\"0\",\n\"0\",\n{\n            'v': 11.4,\n            'f': \"11.4\",\n        },\n{\n            'v': 1,\n            'f': \"1\",\n        },\n{\n            'v': 1,\n            'f': \"1\",\n        },\n{\n            'v': 1,\n            'f': \"1\",\n        },\n{\n            'v': 0,\n            'f': \"0\",\n        },\n{\n            'v': 160108.0,\n            'f': \"160108.0\",\n        },\n{\n            'v': 11.4084466305,\n            'f': \"11.4084466305\",\n        },\n\"Normal\",\n{\n            'v': 1,\n            'f': \"1\",\n        }],\n [{\n            'v': 2,\n            'f': \"2\",\n        },\n{\n            'v': 3,\n            'f': \"3\",\n        },\n\"1/14/2020\",\n\"F\",\n{\n            'v': 18,\n            'f': \"18\",\n        },\n{\n            'v': 160108.0,\n            'f': \"160108.0\",\n        },\n\"0\",\n\"1\",\n\"0\",\n\"0\",\n{\n            'v': 10.2,\n            'f': \"10.2\",\n        },\n{\n            'v': 1,\n            'f': \"1\",\n        },\n{\n            'v': 1,\n            'f': \"1\",\n        },\n{\n            'v': 1,\n            'f': \"1\",\n        },\n{\n            'v': 0,\n            'f': \"0\",\n        },\n{\n            'v': 160108.0,\n            'f': \"160108.0\",\n        },\n{\n            'v': 10.2084466305,\n            'f': \"10.2084466305\",\n        },\n\"Anemia Leve\",\n{\n            'v': 1,\n            'f': \"1\",\n        }],\n [{\n            'v': 3,\n            'f': \"3\",\n        },\n{\n            'v': 3,\n            'f': \"3\",\n        },\n\"1/14/2020\",\n\"F\",\n{\n            'v': 40,\n            'f': \"40\",\n        },\n{\n            'v': 150133.0,\n            'f': \"150133.0\",\n        },\n\"0\",\n\"1\",\n\"0\",\n\"0\",\n{\n            'v': 11.6,\n            'f': \"11.6\",\n        },\n{\n            'v': 1,\n            'f': \"1\",\n        },\n{\n            'v': 1,\n            'f': \"1\",\n        },\n{\n            'v': 1,\n            'f': \"1\",\n        },\n{\n            'v': 0,\n            'f': \"0\",\n        },\n{\n            'v': 160108.0,\n            'f': \"160108.0\",\n        },\n{\n            'v': 11.6084466305,\n            'f': \"11.6084466305\",\n        },\n\"Normal\",\n{\n            'v': 1,\n            'f': \"1\",\n        }],\n [{\n            'v': 4,\n            'f': \"4\",\n        },\n{\n            'v': 3,\n            'f': \"3\",\n        },\n\"1/14/2020\",\n\"F\",\n{\n            'v': 50,\n            'f': \"50\",\n        },\n{\n            'v': 160101.0,\n            'f': \"160101.0\",\n        },\n\"0\",\n\"1\",\n\"0\",\n\"0\",\n{\n            'v': 12.5,\n            'f': \"12.5\",\n        },\n{\n            'v': 1,\n            'f': \"1\",\n        },\n{\n            'v': 1,\n            'f': \"1\",\n        },\n{\n            'v': 0,\n            'f': \"0\",\n        },\n{\n            'v': 0,\n            'f': \"0\",\n        },\n{\n            'v': 160108.0,\n            'f': \"160108.0\",\n        },\n{\n            'v': 12.5084466305,\n            'f': \"12.5084466305\",\n        },\n\"Normal\",\n{\n            'v': 1,\n            'f': \"1\",\n        }]],\n        columns: [[\"number\", \"index\"], [\"number\", \"Renipress\"], [\"string\", \"FechaAtencion\"], [\"string\", \"Sexo\"], [\"number\", \"EdadMeses\"], [\"number\", \"UbigeoPN\"], [\"string\", \"Juntos\"], [\"string\", \"SIS\"], [\"string\", \"Pin\"], [\"string\", \"Qaliwarma\"], [\"number\", \"Hemoglobina\"], [\"number\", \"Cred\"], [\"number\", \"Suplementacion\"], [\"number\", \"Consejeria\"], [\"number\", \"Sesion\"], [\"number\", \"UbigeoREN\"], [\"number\", \"HBC\"], [\"string\", \"Dx_Anemia\"], [\"number\", \"counter\"]],\n        columnOptions: [{\"width\": \"1px\", \"className\": \"index_column\"}],\n        rowsPerPage: 25,\n        helpUrl: \"https://colab.research.google.com/notebooks/data_table.ipynb\",\n        suppressOutputScrolling: true,\n        minimumWidth: undefined,\n      });\n    "
          },
          "metadata": {},
          "execution_count": 61
        }
      ]
    },
    {
      "cell_type": "markdown",
      "source": [
        "Se procede a exportar los datos"
      ],
      "metadata": {
        "id": "61gpbUDW8f9i"
      }
    },
    {
      "cell_type": "code",
      "source": [
        "path = '/content/drive/MyDrive/Colab Notebooks/Portafolio/Data/'#Guardar el DataSet en la carpeta ../Data\n",
        "os.chdir(path)"
      ],
      "metadata": {
        "id": "rTg7szVU8duL"
      },
      "execution_count": 62,
      "outputs": []
    },
    {
      "cell_type": "code",
      "source": [
        "combined_lite.to_csv( \"combined_HB_Lite.csv\", index=False, encoding='utf-8-sig')"
      ],
      "metadata": {
        "id": "Msz56ln-eWON"
      },
      "execution_count": 63,
      "outputs": []
    },
    {
      "cell_type": "markdown",
      "source": [
        "#Importar data Ubigeo (Distrital)\n",
        "* url: https://www.datosabiertos.gob.pe/dataset/codigos-equivalentes-de-ubigeo-del-peru\n",
        "* Fuente: Ministerio de Salud\n",
        "* Fecha Lanzamiento: 2021-08-13"
      ],
      "metadata": {
        "id": "KZ3BNjsKE0_u"
      }
    },
    {
      "cell_type": "code",
      "source": [
        "path = '/content/drive/MyDrive/Colab Notebooks/Portafolio/Data/'\n",
        "filename = 'TB_UBIGEOS'\n",
        "ubg = pd.read_csv(path + filename + '.csv')\n",
        "ubg.columns"
      ],
      "metadata": {
        "colab": {
          "base_uri": "https://localhost:8080/"
        },
        "id": "MVsE2oDaE60F",
        "outputId": "bfac6d6b-acfd-4539-f3f6-3421a69b4c9f"
      },
      "execution_count": 33,
      "outputs": [
        {
          "output_type": "execute_result",
          "data": {
            "text/plain": [
              "Index(['id_ubigeo', 'ubigeo_reniec', 'ubigeo_inei', 'departamento_inei',\n",
              "       'departamento', 'provincia_inei', 'provincia', 'distrito', 'region',\n",
              "       'macroregion_inei', 'macroregion_minsa', 'iso_3166_2', 'fips',\n",
              "       'superficie', 'altitud', 'latitud', 'longitud'],\n",
              "      dtype='object')"
            ]
          },
          "metadata": {},
          "execution_count": 33
        }
      ]
    },
    {
      "cell_type": "code",
      "source": [
        "ubg = ubg[['ubigeo_inei', 'departamento', 'provincia', 'distrito', 'region',\n",
        "       'macroregion_inei', 'altitud', 'latitud', 'longitud']]"
      ],
      "metadata": {
        "id": "WZb37dt-E60L"
      },
      "execution_count": 34,
      "outputs": []
    },
    {
      "cell_type": "markdown",
      "source": [
        "## Validar nulos"
      ],
      "metadata": {
        "id": "SQBrw6OR2H2N"
      }
    },
    {
      "cell_type": "code",
      "source": [
        "Nulls_By_Var(ubg)"
      ],
      "metadata": {
        "colab": {
          "base_uri": "https://localhost:8080/",
          "height": 177
        },
        "id": "tDdLQ3RP2D6a",
        "outputId": "60876e5a-b6f4-4957-8fb5-ef599506f2b0"
      },
      "execution_count": 35,
      "outputs": [
        {
          "output_type": "execute_result",
          "data": {
            "text/plain": [
              "         Nulos  Variable % Nulos\n",
              "0  ubigeo_inei         1   0.05%\n",
              "1      altitud        19   1.00%\n",
              "2      latitud        19   1.00%\n",
              "3     longitud        19   1.00%"
            ],
            "text/html": [
              "\n",
              "  <div id=\"df-7bca0e07-a59c-41ab-870e-4baf9ae3f5d0\">\n",
              "    <div class=\"colab-df-container\">\n",
              "      <div>\n",
              "<style scoped>\n",
              "    .dataframe tbody tr th:only-of-type {\n",
              "        vertical-align: middle;\n",
              "    }\n",
              "\n",
              "    .dataframe tbody tr th {\n",
              "        vertical-align: top;\n",
              "    }\n",
              "\n",
              "    .dataframe thead th {\n",
              "        text-align: right;\n",
              "    }\n",
              "</style>\n",
              "<table border=\"1\" class=\"dataframe\">\n",
              "  <thead>\n",
              "    <tr style=\"text-align: right;\">\n",
              "      <th></th>\n",
              "      <th>Nulos</th>\n",
              "      <th>Variable</th>\n",
              "      <th>% Nulos</th>\n",
              "    </tr>\n",
              "  </thead>\n",
              "  <tbody>\n",
              "    <tr>\n",
              "      <th>0</th>\n",
              "      <td>ubigeo_inei</td>\n",
              "      <td>1</td>\n",
              "      <td>0.05%</td>\n",
              "    </tr>\n",
              "    <tr>\n",
              "      <th>1</th>\n",
              "      <td>altitud</td>\n",
              "      <td>19</td>\n",
              "      <td>1.00%</td>\n",
              "    </tr>\n",
              "    <tr>\n",
              "      <th>2</th>\n",
              "      <td>latitud</td>\n",
              "      <td>19</td>\n",
              "      <td>1.00%</td>\n",
              "    </tr>\n",
              "    <tr>\n",
              "      <th>3</th>\n",
              "      <td>longitud</td>\n",
              "      <td>19</td>\n",
              "      <td>1.00%</td>\n",
              "    </tr>\n",
              "  </tbody>\n",
              "</table>\n",
              "</div>\n",
              "      <button class=\"colab-df-convert\" onclick=\"convertToInteractive('df-7bca0e07-a59c-41ab-870e-4baf9ae3f5d0')\"\n",
              "              title=\"Convert this dataframe to an interactive table.\"\n",
              "              style=\"display:none;\">\n",
              "        \n",
              "  <svg xmlns=\"http://www.w3.org/2000/svg\" height=\"24px\"viewBox=\"0 0 24 24\"\n",
              "       width=\"24px\">\n",
              "    <path d=\"M0 0h24v24H0V0z\" fill=\"none\"/>\n",
              "    <path d=\"M18.56 5.44l.94 2.06.94-2.06 2.06-.94-2.06-.94-.94-2.06-.94 2.06-2.06.94zm-11 1L8.5 8.5l.94-2.06 2.06-.94-2.06-.94L8.5 2.5l-.94 2.06-2.06.94zm10 10l.94 2.06.94-2.06 2.06-.94-2.06-.94-.94-2.06-.94 2.06-2.06.94z\"/><path d=\"M17.41 7.96l-1.37-1.37c-.4-.4-.92-.59-1.43-.59-.52 0-1.04.2-1.43.59L10.3 9.45l-7.72 7.72c-.78.78-.78 2.05 0 2.83L4 21.41c.39.39.9.59 1.41.59.51 0 1.02-.2 1.41-.59l7.78-7.78 2.81-2.81c.8-.78.8-2.07 0-2.86zM5.41 20L4 18.59l7.72-7.72 1.47 1.35L5.41 20z\"/>\n",
              "  </svg>\n",
              "      </button>\n",
              "      \n",
              "  <style>\n",
              "    .colab-df-container {\n",
              "      display:flex;\n",
              "      flex-wrap:wrap;\n",
              "      gap: 12px;\n",
              "    }\n",
              "\n",
              "    .colab-df-convert {\n",
              "      background-color: #E8F0FE;\n",
              "      border: none;\n",
              "      border-radius: 50%;\n",
              "      cursor: pointer;\n",
              "      display: none;\n",
              "      fill: #1967D2;\n",
              "      height: 32px;\n",
              "      padding: 0 0 0 0;\n",
              "      width: 32px;\n",
              "    }\n",
              "\n",
              "    .colab-df-convert:hover {\n",
              "      background-color: #E2EBFA;\n",
              "      box-shadow: 0px 1px 2px rgba(60, 64, 67, 0.3), 0px 1px 3px 1px rgba(60, 64, 67, 0.15);\n",
              "      fill: #174EA6;\n",
              "    }\n",
              "\n",
              "    [theme=dark] .colab-df-convert {\n",
              "      background-color: #3B4455;\n",
              "      fill: #D2E3FC;\n",
              "    }\n",
              "\n",
              "    [theme=dark] .colab-df-convert:hover {\n",
              "      background-color: #434B5C;\n",
              "      box-shadow: 0px 1px 3px 1px rgba(0, 0, 0, 0.15);\n",
              "      filter: drop-shadow(0px 1px 2px rgba(0, 0, 0, 0.3));\n",
              "      fill: #FFFFFF;\n",
              "    }\n",
              "  </style>\n",
              "\n",
              "      <script>\n",
              "        const buttonEl =\n",
              "          document.querySelector('#df-7bca0e07-a59c-41ab-870e-4baf9ae3f5d0 button.colab-df-convert');\n",
              "        buttonEl.style.display =\n",
              "          google.colab.kernel.accessAllowed ? 'block' : 'none';\n",
              "\n",
              "        async function convertToInteractive(key) {\n",
              "          const element = document.querySelector('#df-7bca0e07-a59c-41ab-870e-4baf9ae3f5d0');\n",
              "          const dataTable =\n",
              "            await google.colab.kernel.invokeFunction('convertToInteractive',\n",
              "                                                     [key], {});\n",
              "          if (!dataTable) return;\n",
              "\n",
              "          const docLinkHtml = 'Like what you see? Visit the ' +\n",
              "            '<a target=\"_blank\" href=https://colab.research.google.com/notebooks/data_table.ipynb>data table notebook</a>'\n",
              "            + ' to learn more about interactive tables.';\n",
              "          element.innerHTML = '';\n",
              "          dataTable['output_type'] = 'display_data';\n",
              "          await google.colab.output.renderOutput(dataTable, element);\n",
              "          const docLink = document.createElement('div');\n",
              "          docLink.innerHTML = docLinkHtml;\n",
              "          element.appendChild(docLink);\n",
              "        }\n",
              "      </script>\n",
              "    </div>\n",
              "  </div>\n",
              "  "
            ],
            "application/vnd.google.colaboratory.module+javascript": "\n      import \"https://ssl.gstatic.com/colaboratory/data_table/f872b2c2305463fd/data_table.js\";\n\n      window.createDataTable({\n        data: [[{\n            'v': 0,\n            'f': \"0\",\n        },\n\"ubigeo_inei\",\n{\n            'v': 1,\n            'f': \"1\",\n        },\n\"0.05%\"],\n [{\n            'v': 1,\n            'f': \"1\",\n        },\n\"altitud\",\n{\n            'v': 19,\n            'f': \"19\",\n        },\n\"1.00%\"],\n [{\n            'v': 2,\n            'f': \"2\",\n        },\n\"latitud\",\n{\n            'v': 19,\n            'f': \"19\",\n        },\n\"1.00%\"],\n [{\n            'v': 3,\n            'f': \"3\",\n        },\n\"longitud\",\n{\n            'v': 19,\n            'f': \"19\",\n        },\n\"1.00%\"]],\n        columns: [[\"number\", \"index\"], [\"string\", \"Nulos\"], [\"number\", \"Variable\"], [\"string\", \"% Nulos\"]],\n        columnOptions: [{\"width\": \"1px\", \"className\": \"index_column\"}],\n        rowsPerPage: 25,\n        helpUrl: \"https://colab.research.google.com/notebooks/data_table.ipynb\",\n        suppressOutputScrolling: true,\n        minimumWidth: undefined,\n      });\n    "
          },
          "metadata": {},
          "execution_count": 35
        }
      ]
    },
    {
      "cell_type": "markdown",
      "source": [
        "Se omite el dato que no cuenta con ubigeo ya que se utilizará para llevar la data a la tabla combined"
      ],
      "metadata": {
        "id": "-yuzZi6M2KG9"
      }
    },
    {
      "cell_type": "code",
      "source": [
        "ubg = ubg[ubg['ubigeo_inei'].isnull() == False]"
      ],
      "metadata": {
        "id": "5jk4NOJdOTOB"
      },
      "execution_count": 36,
      "outputs": []
    },
    {
      "cell_type": "code",
      "source": [
        "ubg.head()"
      ],
      "metadata": {
        "colab": {
          "base_uri": "https://localhost:8080/",
          "height": 199
        },
        "id": "zNrhJm61H0VH",
        "outputId": "2dc8f3a3-a8bc-4d34-a9b3-e21496ad1c88"
      },
      "execution_count": 37,
      "outputs": [
        {
          "output_type": "execute_result",
          "data": {
            "text/plain": [
              "   ubigeo_inei departamento    provincia     distrito    region  \\\n",
              "0      10101.0     AMAZONAS  CHACHAPOYAS  CHACHAPOYAS  AMAZONAS   \n",
              "1      10102.0     AMAZONAS  CHACHAPOYAS     ASUNCION  AMAZONAS   \n",
              "2      10103.0     AMAZONAS  CHACHAPOYAS       BALSAS  AMAZONAS   \n",
              "3      10104.0     AMAZONAS  CHACHAPOYAS        CHETO  AMAZONAS   \n",
              "4      10105.0     AMAZONAS  CHACHAPOYAS    CHILIQUIN  AMAZONAS   \n",
              "\n",
              "  macroregion_inei  altitud  latitud  longitud  \n",
              "0          ORIENTE   2338.0  -6.2294  -77.8728  \n",
              "1          ORIENTE   2823.0  -6.0325  -77.7108  \n",
              "2          ORIENTE    859.0  -6.8358  -78.0197  \n",
              "3          ORIENTE   2143.0  -6.2556  -77.7008  \n",
              "4          ORIENTE   2677.0  -6.0783  -77.7375  "
            ],
            "text/html": [
              "\n",
              "  <div id=\"df-f79b386f-4010-4cd6-a81f-62bc4ca7cde5\">\n",
              "    <div class=\"colab-df-container\">\n",
              "      <div>\n",
              "<style scoped>\n",
              "    .dataframe tbody tr th:only-of-type {\n",
              "        vertical-align: middle;\n",
              "    }\n",
              "\n",
              "    .dataframe tbody tr th {\n",
              "        vertical-align: top;\n",
              "    }\n",
              "\n",
              "    .dataframe thead th {\n",
              "        text-align: right;\n",
              "    }\n",
              "</style>\n",
              "<table border=\"1\" class=\"dataframe\">\n",
              "  <thead>\n",
              "    <tr style=\"text-align: right;\">\n",
              "      <th></th>\n",
              "      <th>ubigeo_inei</th>\n",
              "      <th>departamento</th>\n",
              "      <th>provincia</th>\n",
              "      <th>distrito</th>\n",
              "      <th>region</th>\n",
              "      <th>macroregion_inei</th>\n",
              "      <th>altitud</th>\n",
              "      <th>latitud</th>\n",
              "      <th>longitud</th>\n",
              "    </tr>\n",
              "  </thead>\n",
              "  <tbody>\n",
              "    <tr>\n",
              "      <th>0</th>\n",
              "      <td>10101.0</td>\n",
              "      <td>AMAZONAS</td>\n",
              "      <td>CHACHAPOYAS</td>\n",
              "      <td>CHACHAPOYAS</td>\n",
              "      <td>AMAZONAS</td>\n",
              "      <td>ORIENTE</td>\n",
              "      <td>2338.0</td>\n",
              "      <td>-6.2294</td>\n",
              "      <td>-77.8728</td>\n",
              "    </tr>\n",
              "    <tr>\n",
              "      <th>1</th>\n",
              "      <td>10102.0</td>\n",
              "      <td>AMAZONAS</td>\n",
              "      <td>CHACHAPOYAS</td>\n",
              "      <td>ASUNCION</td>\n",
              "      <td>AMAZONAS</td>\n",
              "      <td>ORIENTE</td>\n",
              "      <td>2823.0</td>\n",
              "      <td>-6.0325</td>\n",
              "      <td>-77.7108</td>\n",
              "    </tr>\n",
              "    <tr>\n",
              "      <th>2</th>\n",
              "      <td>10103.0</td>\n",
              "      <td>AMAZONAS</td>\n",
              "      <td>CHACHAPOYAS</td>\n",
              "      <td>BALSAS</td>\n",
              "      <td>AMAZONAS</td>\n",
              "      <td>ORIENTE</td>\n",
              "      <td>859.0</td>\n",
              "      <td>-6.8358</td>\n",
              "      <td>-78.0197</td>\n",
              "    </tr>\n",
              "    <tr>\n",
              "      <th>3</th>\n",
              "      <td>10104.0</td>\n",
              "      <td>AMAZONAS</td>\n",
              "      <td>CHACHAPOYAS</td>\n",
              "      <td>CHETO</td>\n",
              "      <td>AMAZONAS</td>\n",
              "      <td>ORIENTE</td>\n",
              "      <td>2143.0</td>\n",
              "      <td>-6.2556</td>\n",
              "      <td>-77.7008</td>\n",
              "    </tr>\n",
              "    <tr>\n",
              "      <th>4</th>\n",
              "      <td>10105.0</td>\n",
              "      <td>AMAZONAS</td>\n",
              "      <td>CHACHAPOYAS</td>\n",
              "      <td>CHILIQUIN</td>\n",
              "      <td>AMAZONAS</td>\n",
              "      <td>ORIENTE</td>\n",
              "      <td>2677.0</td>\n",
              "      <td>-6.0783</td>\n",
              "      <td>-77.7375</td>\n",
              "    </tr>\n",
              "  </tbody>\n",
              "</table>\n",
              "</div>\n",
              "      <button class=\"colab-df-convert\" onclick=\"convertToInteractive('df-f79b386f-4010-4cd6-a81f-62bc4ca7cde5')\"\n",
              "              title=\"Convert this dataframe to an interactive table.\"\n",
              "              style=\"display:none;\">\n",
              "        \n",
              "  <svg xmlns=\"http://www.w3.org/2000/svg\" height=\"24px\"viewBox=\"0 0 24 24\"\n",
              "       width=\"24px\">\n",
              "    <path d=\"M0 0h24v24H0V0z\" fill=\"none\"/>\n",
              "    <path d=\"M18.56 5.44l.94 2.06.94-2.06 2.06-.94-2.06-.94-.94-2.06-.94 2.06-2.06.94zm-11 1L8.5 8.5l.94-2.06 2.06-.94-2.06-.94L8.5 2.5l-.94 2.06-2.06.94zm10 10l.94 2.06.94-2.06 2.06-.94-2.06-.94-.94-2.06-.94 2.06-2.06.94z\"/><path d=\"M17.41 7.96l-1.37-1.37c-.4-.4-.92-.59-1.43-.59-.52 0-1.04.2-1.43.59L10.3 9.45l-7.72 7.72c-.78.78-.78 2.05 0 2.83L4 21.41c.39.39.9.59 1.41.59.51 0 1.02-.2 1.41-.59l7.78-7.78 2.81-2.81c.8-.78.8-2.07 0-2.86zM5.41 20L4 18.59l7.72-7.72 1.47 1.35L5.41 20z\"/>\n",
              "  </svg>\n",
              "      </button>\n",
              "      \n",
              "  <style>\n",
              "    .colab-df-container {\n",
              "      display:flex;\n",
              "      flex-wrap:wrap;\n",
              "      gap: 12px;\n",
              "    }\n",
              "\n",
              "    .colab-df-convert {\n",
              "      background-color: #E8F0FE;\n",
              "      border: none;\n",
              "      border-radius: 50%;\n",
              "      cursor: pointer;\n",
              "      display: none;\n",
              "      fill: #1967D2;\n",
              "      height: 32px;\n",
              "      padding: 0 0 0 0;\n",
              "      width: 32px;\n",
              "    }\n",
              "\n",
              "    .colab-df-convert:hover {\n",
              "      background-color: #E2EBFA;\n",
              "      box-shadow: 0px 1px 2px rgba(60, 64, 67, 0.3), 0px 1px 3px 1px rgba(60, 64, 67, 0.15);\n",
              "      fill: #174EA6;\n",
              "    }\n",
              "\n",
              "    [theme=dark] .colab-df-convert {\n",
              "      background-color: #3B4455;\n",
              "      fill: #D2E3FC;\n",
              "    }\n",
              "\n",
              "    [theme=dark] .colab-df-convert:hover {\n",
              "      background-color: #434B5C;\n",
              "      box-shadow: 0px 1px 3px 1px rgba(0, 0, 0, 0.15);\n",
              "      filter: drop-shadow(0px 1px 2px rgba(0, 0, 0, 0.3));\n",
              "      fill: #FFFFFF;\n",
              "    }\n",
              "  </style>\n",
              "\n",
              "      <script>\n",
              "        const buttonEl =\n",
              "          document.querySelector('#df-f79b386f-4010-4cd6-a81f-62bc4ca7cde5 button.colab-df-convert');\n",
              "        buttonEl.style.display =\n",
              "          google.colab.kernel.accessAllowed ? 'block' : 'none';\n",
              "\n",
              "        async function convertToInteractive(key) {\n",
              "          const element = document.querySelector('#df-f79b386f-4010-4cd6-a81f-62bc4ca7cde5');\n",
              "          const dataTable =\n",
              "            await google.colab.kernel.invokeFunction('convertToInteractive',\n",
              "                                                     [key], {});\n",
              "          if (!dataTable) return;\n",
              "\n",
              "          const docLinkHtml = 'Like what you see? Visit the ' +\n",
              "            '<a target=\"_blank\" href=https://colab.research.google.com/notebooks/data_table.ipynb>data table notebook</a>'\n",
              "            + ' to learn more about interactive tables.';\n",
              "          element.innerHTML = '';\n",
              "          dataTable['output_type'] = 'display_data';\n",
              "          await google.colab.output.renderOutput(dataTable, element);\n",
              "          const docLink = document.createElement('div');\n",
              "          docLink.innerHTML = docLinkHtml;\n",
              "          element.appendChild(docLink);\n",
              "        }\n",
              "      </script>\n",
              "    </div>\n",
              "  </div>\n",
              "  "
            ],
            "application/vnd.google.colaboratory.module+javascript": "\n      import \"https://ssl.gstatic.com/colaboratory/data_table/f872b2c2305463fd/data_table.js\";\n\n      window.createDataTable({\n        data: [[{\n            'v': 0,\n            'f': \"0\",\n        },\n{\n            'v': 10101.0,\n            'f': \"10101.0\",\n        },\n\"AMAZONAS\",\n\"CHACHAPOYAS\",\n\"CHACHAPOYAS\",\n\"AMAZONAS\",\n\"ORIENTE\",\n{\n            'v': 2338.0,\n            'f': \"2338.0\",\n        },\n{\n            'v': -6.2294,\n            'f': \"-6.2294\",\n        },\n{\n            'v': -77.8728,\n            'f': \"-77.8728\",\n        }],\n [{\n            'v': 1,\n            'f': \"1\",\n        },\n{\n            'v': 10102.0,\n            'f': \"10102.0\",\n        },\n\"AMAZONAS\",\n\"CHACHAPOYAS\",\n\"ASUNCION\",\n\"AMAZONAS\",\n\"ORIENTE\",\n{\n            'v': 2823.0,\n            'f': \"2823.0\",\n        },\n{\n            'v': -6.0325,\n            'f': \"-6.0325\",\n        },\n{\n            'v': -77.7108,\n            'f': \"-77.7108\",\n        }],\n [{\n            'v': 2,\n            'f': \"2\",\n        },\n{\n            'v': 10103.0,\n            'f': \"10103.0\",\n        },\n\"AMAZONAS\",\n\"CHACHAPOYAS\",\n\"BALSAS\",\n\"AMAZONAS\",\n\"ORIENTE\",\n{\n            'v': 859.0,\n            'f': \"859.0\",\n        },\n{\n            'v': -6.8358,\n            'f': \"-6.8358\",\n        },\n{\n            'v': -78.0197,\n            'f': \"-78.0197\",\n        }],\n [{\n            'v': 3,\n            'f': \"3\",\n        },\n{\n            'v': 10104.0,\n            'f': \"10104.0\",\n        },\n\"AMAZONAS\",\n\"CHACHAPOYAS\",\n\"CHETO\",\n\"AMAZONAS\",\n\"ORIENTE\",\n{\n            'v': 2143.0,\n            'f': \"2143.0\",\n        },\n{\n            'v': -6.2556,\n            'f': \"-6.2556\",\n        },\n{\n            'v': -77.7008,\n            'f': \"-77.7008\",\n        }],\n [{\n            'v': 4,\n            'f': \"4\",\n        },\n{\n            'v': 10105.0,\n            'f': \"10105.0\",\n        },\n\"AMAZONAS\",\n\"CHACHAPOYAS\",\n\"CHILIQUIN\",\n\"AMAZONAS\",\n\"ORIENTE\",\n{\n            'v': 2677.0,\n            'f': \"2677.0\",\n        },\n{\n            'v': -6.0783,\n            'f': \"-6.0783\",\n        },\n{\n            'v': -77.7375,\n            'f': \"-77.7375\",\n        }]],\n        columns: [[\"number\", \"index\"], [\"number\", \"ubigeo_inei\"], [\"string\", \"departamento\"], [\"string\", \"provincia\"], [\"string\", \"distrito\"], [\"string\", \"region\"], [\"string\", \"macroregion_inei\"], [\"number\", \"altitud\"], [\"number\", \"latitud\"], [\"number\", \"longitud\"]],\n        columnOptions: [{\"width\": \"1px\", \"className\": \"index_column\"}],\n        rowsPerPage: 25,\n        helpUrl: \"https://colab.research.google.com/notebooks/data_table.ipynb\",\n        suppressOutputScrolling: true,\n        minimumWidth: undefined,\n      });\n    "
          },
          "metadata": {},
          "execution_count": 37
        }
      ]
    },
    {
      "cell_type": "markdown",
      "source": [
        "## Validar Tipos de Dato"
      ],
      "metadata": {
        "id": "s2JSYdXb7EmS"
      }
    },
    {
      "cell_type": "code",
      "source": [
        "ubg.dtypes"
      ],
      "metadata": {
        "colab": {
          "base_uri": "https://localhost:8080/"
        },
        "id": "L-TjltTs7CtP",
        "outputId": "8602f6aa-21e7-4533-d049-9329e4161d95"
      },
      "execution_count": 55,
      "outputs": [
        {
          "output_type": "execute_result",
          "data": {
            "text/plain": [
              "ubigeo_inei         float64\n",
              "departamento         object\n",
              "provincia            object\n",
              "distrito             object\n",
              "region               object\n",
              "macroregion_inei     object\n",
              "altitud             float64\n",
              "latitud             float64\n",
              "longitud            float64\n",
              "dtype: object"
            ]
          },
          "metadata": {},
          "execution_count": 55
        }
      ]
    },
    {
      "cell_type": "markdown",
      "source": [
        "## Exportar datos"
      ],
      "metadata": {
        "id": "OhGM2sO92axV"
      }
    },
    {
      "cell_type": "code",
      "source": [
        "path = '/content/drive/MyDrive/Colab Notebooks/Portafolio/Data/'#Guardar el DataSet en la carpeta ../Data\n",
        "os.chdir(path)"
      ],
      "metadata": {
        "id": "wnTMpnQA2axV"
      },
      "execution_count": 38,
      "outputs": []
    },
    {
      "cell_type": "code",
      "source": [
        "ubg.to_csv( filename + '_utf8_.csv', index=False, encoding='utf-8-sig')"
      ],
      "metadata": {
        "id": "BD3h-2nUFd9d"
      },
      "execution_count": 39,
      "outputs": []
    },
    {
      "cell_type": "markdown",
      "source": [
        "#Importar data Población\n",
        "* url: https://www.datosabiertos.gob.pe/dataset/poblaci%C3%B3n-peru\n",
        "* Fuente: Ministerio de Salud\n",
        "* Fecha Lanzamiento: 2021-08-17"
      ],
      "metadata": {
        "id": "YyP-A5iKEv4P"
      }
    },
    {
      "cell_type": "markdown",
      "source": [
        "Se obtiene un dataframe de la población 0 a 5 años por ubigeo y sexo"
      ],
      "metadata": {
        "id": "7v6nBAWbGp5c"
      }
    },
    {
      "cell_type": "code",
      "source": [
        "path = '/content/drive/MyDrive/Colab Notebooks/Portafolio/Data/'\n",
        "filename = 'TB_POBLACION_INEI'\n",
        "pop = pd.read_csv(path + filename + '.csv')"
      ],
      "metadata": {
        "id": "tG46_QX1Cnlj"
      },
      "execution_count": 40,
      "outputs": []
    },
    {
      "cell_type": "code",
      "source": [
        "pop.columns"
      ],
      "metadata": {
        "colab": {
          "base_uri": "https://localhost:8080/"
        },
        "id": "EzvkeHtLDb2z",
        "outputId": "c7c6b912-a374-42f8-da27-f418db98620a"
      },
      "execution_count": 41,
      "outputs": [
        {
          "output_type": "execute_result",
          "data": {
            "text/plain": [
              "Index(['ubigeo_reniec', 'ubigeo_inei', 'Departamento', 'Provincia', 'Distrito',\n",
              "       'Edad_Anio', 'Sexo', 'Cantidad'],\n",
              "      dtype='object')"
            ]
          },
          "metadata": {},
          "execution_count": 41
        }
      ]
    },
    {
      "cell_type": "markdown",
      "source": [
        "Generar una nueva variable conteniendo la población de 0 a 5 años"
      ],
      "metadata": {
        "id": "MLFYNIeq38qP"
      }
    },
    {
      "cell_type": "code",
      "source": [
        "rango = [str(n) for n in range(6)]\n",
        "print(rango) # 0 a 5 años"
      ],
      "metadata": {
        "id": "OmvTNkNsEEN_",
        "colab": {
          "base_uri": "https://localhost:8080/"
        },
        "outputId": "98c31f39-7871-496a-d776-61a198fda196"
      },
      "execution_count": 42,
      "outputs": [
        {
          "output_type": "stream",
          "name": "stdout",
          "text": [
            "['0', '1', '2', '3', '4', '5']\n"
          ]
        }
      ]
    },
    {
      "cell_type": "code",
      "source": [
        "pop['pob. 0 a 5 años'] = [pop['Cantidad'].loc[i] if pop['Edad_Anio'].loc[i] in rango else 0 for i in range(pop.shape[0])]"
      ],
      "metadata": {
        "id": "3UVkosU3ZbgW"
      },
      "execution_count": 43,
      "outputs": []
    },
    {
      "cell_type": "code",
      "source": [
        "#pop = pop[pop['Edad_Anio'].isin([str(n) for n in range(6)])][['ubigeo_inei','Sexo', 'Cantidad']].groupby(['ubigeo_inei','Sexo']).agg({'Cantidad':'sum'}).rename(columns={'Cantidad':'Población'}).reset_index()\n",
        "pop = pop[['ubigeo_inei','Sexo', 'Cantidad', 'pob. 0 a 5 años']].groupby(['ubigeo_inei','Sexo']).agg({'Cantidad':'sum','pob. 0 a 5 años':'sum'}).rename(columns={'Cantidad':'Población'}).reset_index()"
      ],
      "metadata": {
        "id": "Gf3ETCVKDo3z"
      },
      "execution_count": 44,
      "outputs": []
    },
    {
      "cell_type": "code",
      "source": [
        "pop.head()"
      ],
      "metadata": {
        "colab": {
          "base_uri": "https://localhost:8080/",
          "height": 199
        },
        "id": "4A5v1I1QEM9E",
        "outputId": "89489442-d925-4af0-ec97-f80dede83881"
      },
      "execution_count": 45,
      "outputs": [
        {
          "output_type": "execute_result",
          "data": {
            "text/plain": [
              "   ubigeo_inei Sexo  Población  pob. 0 a 5 años\n",
              "0        10101    F      13734             1068\n",
              "1        10101    M      15307             1078\n",
              "2        10102    F        152               13\n",
              "3        10102    M        139               11\n",
              "4        10103    F        866               98"
            ],
            "text/html": [
              "\n",
              "  <div id=\"df-eb2c404d-eeef-4d35-ae1d-a171fe16de6d\">\n",
              "    <div class=\"colab-df-container\">\n",
              "      <div>\n",
              "<style scoped>\n",
              "    .dataframe tbody tr th:only-of-type {\n",
              "        vertical-align: middle;\n",
              "    }\n",
              "\n",
              "    .dataframe tbody tr th {\n",
              "        vertical-align: top;\n",
              "    }\n",
              "\n",
              "    .dataframe thead th {\n",
              "        text-align: right;\n",
              "    }\n",
              "</style>\n",
              "<table border=\"1\" class=\"dataframe\">\n",
              "  <thead>\n",
              "    <tr style=\"text-align: right;\">\n",
              "      <th></th>\n",
              "      <th>ubigeo_inei</th>\n",
              "      <th>Sexo</th>\n",
              "      <th>Población</th>\n",
              "      <th>pob. 0 a 5 años</th>\n",
              "    </tr>\n",
              "  </thead>\n",
              "  <tbody>\n",
              "    <tr>\n",
              "      <th>0</th>\n",
              "      <td>10101</td>\n",
              "      <td>F</td>\n",
              "      <td>13734</td>\n",
              "      <td>1068</td>\n",
              "    </tr>\n",
              "    <tr>\n",
              "      <th>1</th>\n",
              "      <td>10101</td>\n",
              "      <td>M</td>\n",
              "      <td>15307</td>\n",
              "      <td>1078</td>\n",
              "    </tr>\n",
              "    <tr>\n",
              "      <th>2</th>\n",
              "      <td>10102</td>\n",
              "      <td>F</td>\n",
              "      <td>152</td>\n",
              "      <td>13</td>\n",
              "    </tr>\n",
              "    <tr>\n",
              "      <th>3</th>\n",
              "      <td>10102</td>\n",
              "      <td>M</td>\n",
              "      <td>139</td>\n",
              "      <td>11</td>\n",
              "    </tr>\n",
              "    <tr>\n",
              "      <th>4</th>\n",
              "      <td>10103</td>\n",
              "      <td>F</td>\n",
              "      <td>866</td>\n",
              "      <td>98</td>\n",
              "    </tr>\n",
              "  </tbody>\n",
              "</table>\n",
              "</div>\n",
              "      <button class=\"colab-df-convert\" onclick=\"convertToInteractive('df-eb2c404d-eeef-4d35-ae1d-a171fe16de6d')\"\n",
              "              title=\"Convert this dataframe to an interactive table.\"\n",
              "              style=\"display:none;\">\n",
              "        \n",
              "  <svg xmlns=\"http://www.w3.org/2000/svg\" height=\"24px\"viewBox=\"0 0 24 24\"\n",
              "       width=\"24px\">\n",
              "    <path d=\"M0 0h24v24H0V0z\" fill=\"none\"/>\n",
              "    <path d=\"M18.56 5.44l.94 2.06.94-2.06 2.06-.94-2.06-.94-.94-2.06-.94 2.06-2.06.94zm-11 1L8.5 8.5l.94-2.06 2.06-.94-2.06-.94L8.5 2.5l-.94 2.06-2.06.94zm10 10l.94 2.06.94-2.06 2.06-.94-2.06-.94-.94-2.06-.94 2.06-2.06.94z\"/><path d=\"M17.41 7.96l-1.37-1.37c-.4-.4-.92-.59-1.43-.59-.52 0-1.04.2-1.43.59L10.3 9.45l-7.72 7.72c-.78.78-.78 2.05 0 2.83L4 21.41c.39.39.9.59 1.41.59.51 0 1.02-.2 1.41-.59l7.78-7.78 2.81-2.81c.8-.78.8-2.07 0-2.86zM5.41 20L4 18.59l7.72-7.72 1.47 1.35L5.41 20z\"/>\n",
              "  </svg>\n",
              "      </button>\n",
              "      \n",
              "  <style>\n",
              "    .colab-df-container {\n",
              "      display:flex;\n",
              "      flex-wrap:wrap;\n",
              "      gap: 12px;\n",
              "    }\n",
              "\n",
              "    .colab-df-convert {\n",
              "      background-color: #E8F0FE;\n",
              "      border: none;\n",
              "      border-radius: 50%;\n",
              "      cursor: pointer;\n",
              "      display: none;\n",
              "      fill: #1967D2;\n",
              "      height: 32px;\n",
              "      padding: 0 0 0 0;\n",
              "      width: 32px;\n",
              "    }\n",
              "\n",
              "    .colab-df-convert:hover {\n",
              "      background-color: #E2EBFA;\n",
              "      box-shadow: 0px 1px 2px rgba(60, 64, 67, 0.3), 0px 1px 3px 1px rgba(60, 64, 67, 0.15);\n",
              "      fill: #174EA6;\n",
              "    }\n",
              "\n",
              "    [theme=dark] .colab-df-convert {\n",
              "      background-color: #3B4455;\n",
              "      fill: #D2E3FC;\n",
              "    }\n",
              "\n",
              "    [theme=dark] .colab-df-convert:hover {\n",
              "      background-color: #434B5C;\n",
              "      box-shadow: 0px 1px 3px 1px rgba(0, 0, 0, 0.15);\n",
              "      filter: drop-shadow(0px 1px 2px rgba(0, 0, 0, 0.3));\n",
              "      fill: #FFFFFF;\n",
              "    }\n",
              "  </style>\n",
              "\n",
              "      <script>\n",
              "        const buttonEl =\n",
              "          document.querySelector('#df-eb2c404d-eeef-4d35-ae1d-a171fe16de6d button.colab-df-convert');\n",
              "        buttonEl.style.display =\n",
              "          google.colab.kernel.accessAllowed ? 'block' : 'none';\n",
              "\n",
              "        async function convertToInteractive(key) {\n",
              "          const element = document.querySelector('#df-eb2c404d-eeef-4d35-ae1d-a171fe16de6d');\n",
              "          const dataTable =\n",
              "            await google.colab.kernel.invokeFunction('convertToInteractive',\n",
              "                                                     [key], {});\n",
              "          if (!dataTable) return;\n",
              "\n",
              "          const docLinkHtml = 'Like what you see? Visit the ' +\n",
              "            '<a target=\"_blank\" href=https://colab.research.google.com/notebooks/data_table.ipynb>data table notebook</a>'\n",
              "            + ' to learn more about interactive tables.';\n",
              "          element.innerHTML = '';\n",
              "          dataTable['output_type'] = 'display_data';\n",
              "          await google.colab.output.renderOutput(dataTable, element);\n",
              "          const docLink = document.createElement('div');\n",
              "          docLink.innerHTML = docLinkHtml;\n",
              "          element.appendChild(docLink);\n",
              "        }\n",
              "      </script>\n",
              "    </div>\n",
              "  </div>\n",
              "  "
            ],
            "application/vnd.google.colaboratory.module+javascript": "\n      import \"https://ssl.gstatic.com/colaboratory/data_table/f872b2c2305463fd/data_table.js\";\n\n      window.createDataTable({\n        data: [[{\n            'v': 0,\n            'f': \"0\",\n        },\n{\n            'v': 10101,\n            'f': \"10101\",\n        },\n\"F\",\n{\n            'v': 13734,\n            'f': \"13734\",\n        },\n{\n            'v': 1068,\n            'f': \"1068\",\n        }],\n [{\n            'v': 1,\n            'f': \"1\",\n        },\n{\n            'v': 10101,\n            'f': \"10101\",\n        },\n\"M\",\n{\n            'v': 15307,\n            'f': \"15307\",\n        },\n{\n            'v': 1078,\n            'f': \"1078\",\n        }],\n [{\n            'v': 2,\n            'f': \"2\",\n        },\n{\n            'v': 10102,\n            'f': \"10102\",\n        },\n\"F\",\n{\n            'v': 152,\n            'f': \"152\",\n        },\n{\n            'v': 13,\n            'f': \"13\",\n        }],\n [{\n            'v': 3,\n            'f': \"3\",\n        },\n{\n            'v': 10102,\n            'f': \"10102\",\n        },\n\"M\",\n{\n            'v': 139,\n            'f': \"139\",\n        },\n{\n            'v': 11,\n            'f': \"11\",\n        }],\n [{\n            'v': 4,\n            'f': \"4\",\n        },\n{\n            'v': 10103,\n            'f': \"10103\",\n        },\n\"F\",\n{\n            'v': 866,\n            'f': \"866\",\n        },\n{\n            'v': 98,\n            'f': \"98\",\n        }]],\n        columns: [[\"number\", \"index\"], [\"number\", \"ubigeo_inei\"], [\"string\", \"Sexo\"], [\"number\", \"Poblaci\\u00f3n\"], [\"number\", \"pob. 0 a 5 a\\u00f1os\"]],\n        columnOptions: [{\"width\": \"1px\", \"className\": \"index_column\"}],\n        rowsPerPage: 25,\n        helpUrl: \"https://colab.research.google.com/notebooks/data_table.ipynb\",\n        suppressOutputScrolling: true,\n        minimumWidth: undefined,\n      });\n    "
          },
          "metadata": {},
          "execution_count": 45
        }
      ]
    },
    {
      "cell_type": "markdown",
      "source": [
        "Sólo se tomará el dato de la población de 0 a 5 años"
      ],
      "metadata": {
        "id": "maLwFAIH5uM2"
      }
    },
    {
      "cell_type": "code",
      "source": [
        "pop.drop(['Población'],axis=1,inplace=True)\n",
        "pop.head()"
      ],
      "metadata": {
        "colab": {
          "base_uri": "https://localhost:8080/",
          "height": 199
        },
        "id": "pPEtk41R5tk6",
        "outputId": "b3b647a0-7fd6-4056-a67b-61337f541eef"
      },
      "execution_count": 46,
      "outputs": [
        {
          "output_type": "execute_result",
          "data": {
            "text/plain": [
              "   ubigeo_inei Sexo  pob. 0 a 5 años\n",
              "0        10101    F             1068\n",
              "1        10101    M             1078\n",
              "2        10102    F               13\n",
              "3        10102    M               11\n",
              "4        10103    F               98"
            ],
            "text/html": [
              "\n",
              "  <div id=\"df-c82c7747-7992-4d16-852c-4b892fdfc7fe\">\n",
              "    <div class=\"colab-df-container\">\n",
              "      <div>\n",
              "<style scoped>\n",
              "    .dataframe tbody tr th:only-of-type {\n",
              "        vertical-align: middle;\n",
              "    }\n",
              "\n",
              "    .dataframe tbody tr th {\n",
              "        vertical-align: top;\n",
              "    }\n",
              "\n",
              "    .dataframe thead th {\n",
              "        text-align: right;\n",
              "    }\n",
              "</style>\n",
              "<table border=\"1\" class=\"dataframe\">\n",
              "  <thead>\n",
              "    <tr style=\"text-align: right;\">\n",
              "      <th></th>\n",
              "      <th>ubigeo_inei</th>\n",
              "      <th>Sexo</th>\n",
              "      <th>pob. 0 a 5 años</th>\n",
              "    </tr>\n",
              "  </thead>\n",
              "  <tbody>\n",
              "    <tr>\n",
              "      <th>0</th>\n",
              "      <td>10101</td>\n",
              "      <td>F</td>\n",
              "      <td>1068</td>\n",
              "    </tr>\n",
              "    <tr>\n",
              "      <th>1</th>\n",
              "      <td>10101</td>\n",
              "      <td>M</td>\n",
              "      <td>1078</td>\n",
              "    </tr>\n",
              "    <tr>\n",
              "      <th>2</th>\n",
              "      <td>10102</td>\n",
              "      <td>F</td>\n",
              "      <td>13</td>\n",
              "    </tr>\n",
              "    <tr>\n",
              "      <th>3</th>\n",
              "      <td>10102</td>\n",
              "      <td>M</td>\n",
              "      <td>11</td>\n",
              "    </tr>\n",
              "    <tr>\n",
              "      <th>4</th>\n",
              "      <td>10103</td>\n",
              "      <td>F</td>\n",
              "      <td>98</td>\n",
              "    </tr>\n",
              "  </tbody>\n",
              "</table>\n",
              "</div>\n",
              "      <button class=\"colab-df-convert\" onclick=\"convertToInteractive('df-c82c7747-7992-4d16-852c-4b892fdfc7fe')\"\n",
              "              title=\"Convert this dataframe to an interactive table.\"\n",
              "              style=\"display:none;\">\n",
              "        \n",
              "  <svg xmlns=\"http://www.w3.org/2000/svg\" height=\"24px\"viewBox=\"0 0 24 24\"\n",
              "       width=\"24px\">\n",
              "    <path d=\"M0 0h24v24H0V0z\" fill=\"none\"/>\n",
              "    <path d=\"M18.56 5.44l.94 2.06.94-2.06 2.06-.94-2.06-.94-.94-2.06-.94 2.06-2.06.94zm-11 1L8.5 8.5l.94-2.06 2.06-.94-2.06-.94L8.5 2.5l-.94 2.06-2.06.94zm10 10l.94 2.06.94-2.06 2.06-.94-2.06-.94-.94-2.06-.94 2.06-2.06.94z\"/><path d=\"M17.41 7.96l-1.37-1.37c-.4-.4-.92-.59-1.43-.59-.52 0-1.04.2-1.43.59L10.3 9.45l-7.72 7.72c-.78.78-.78 2.05 0 2.83L4 21.41c.39.39.9.59 1.41.59.51 0 1.02-.2 1.41-.59l7.78-7.78 2.81-2.81c.8-.78.8-2.07 0-2.86zM5.41 20L4 18.59l7.72-7.72 1.47 1.35L5.41 20z\"/>\n",
              "  </svg>\n",
              "      </button>\n",
              "      \n",
              "  <style>\n",
              "    .colab-df-container {\n",
              "      display:flex;\n",
              "      flex-wrap:wrap;\n",
              "      gap: 12px;\n",
              "    }\n",
              "\n",
              "    .colab-df-convert {\n",
              "      background-color: #E8F0FE;\n",
              "      border: none;\n",
              "      border-radius: 50%;\n",
              "      cursor: pointer;\n",
              "      display: none;\n",
              "      fill: #1967D2;\n",
              "      height: 32px;\n",
              "      padding: 0 0 0 0;\n",
              "      width: 32px;\n",
              "    }\n",
              "\n",
              "    .colab-df-convert:hover {\n",
              "      background-color: #E2EBFA;\n",
              "      box-shadow: 0px 1px 2px rgba(60, 64, 67, 0.3), 0px 1px 3px 1px rgba(60, 64, 67, 0.15);\n",
              "      fill: #174EA6;\n",
              "    }\n",
              "\n",
              "    [theme=dark] .colab-df-convert {\n",
              "      background-color: #3B4455;\n",
              "      fill: #D2E3FC;\n",
              "    }\n",
              "\n",
              "    [theme=dark] .colab-df-convert:hover {\n",
              "      background-color: #434B5C;\n",
              "      box-shadow: 0px 1px 3px 1px rgba(0, 0, 0, 0.15);\n",
              "      filter: drop-shadow(0px 1px 2px rgba(0, 0, 0, 0.3));\n",
              "      fill: #FFFFFF;\n",
              "    }\n",
              "  </style>\n",
              "\n",
              "      <script>\n",
              "        const buttonEl =\n",
              "          document.querySelector('#df-c82c7747-7992-4d16-852c-4b892fdfc7fe button.colab-df-convert');\n",
              "        buttonEl.style.display =\n",
              "          google.colab.kernel.accessAllowed ? 'block' : 'none';\n",
              "\n",
              "        async function convertToInteractive(key) {\n",
              "          const element = document.querySelector('#df-c82c7747-7992-4d16-852c-4b892fdfc7fe');\n",
              "          const dataTable =\n",
              "            await google.colab.kernel.invokeFunction('convertToInteractive',\n",
              "                                                     [key], {});\n",
              "          if (!dataTable) return;\n",
              "\n",
              "          const docLinkHtml = 'Like what you see? Visit the ' +\n",
              "            '<a target=\"_blank\" href=https://colab.research.google.com/notebooks/data_table.ipynb>data table notebook</a>'\n",
              "            + ' to learn more about interactive tables.';\n",
              "          element.innerHTML = '';\n",
              "          dataTable['output_type'] = 'display_data';\n",
              "          await google.colab.output.renderOutput(dataTable, element);\n",
              "          const docLink = document.createElement('div');\n",
              "          docLink.innerHTML = docLinkHtml;\n",
              "          element.appendChild(docLink);\n",
              "        }\n",
              "      </script>\n",
              "    </div>\n",
              "  </div>\n",
              "  "
            ],
            "application/vnd.google.colaboratory.module+javascript": "\n      import \"https://ssl.gstatic.com/colaboratory/data_table/f872b2c2305463fd/data_table.js\";\n\n      window.createDataTable({\n        data: [[{\n            'v': 0,\n            'f': \"0\",\n        },\n{\n            'v': 10101,\n            'f': \"10101\",\n        },\n\"F\",\n{\n            'v': 1068,\n            'f': \"1068\",\n        }],\n [{\n            'v': 1,\n            'f': \"1\",\n        },\n{\n            'v': 10101,\n            'f': \"10101\",\n        },\n\"M\",\n{\n            'v': 1078,\n            'f': \"1078\",\n        }],\n [{\n            'v': 2,\n            'f': \"2\",\n        },\n{\n            'v': 10102,\n            'f': \"10102\",\n        },\n\"F\",\n{\n            'v': 13,\n            'f': \"13\",\n        }],\n [{\n            'v': 3,\n            'f': \"3\",\n        },\n{\n            'v': 10102,\n            'f': \"10102\",\n        },\n\"M\",\n{\n            'v': 11,\n            'f': \"11\",\n        }],\n [{\n            'v': 4,\n            'f': \"4\",\n        },\n{\n            'v': 10103,\n            'f': \"10103\",\n        },\n\"F\",\n{\n            'v': 98,\n            'f': \"98\",\n        }]],\n        columns: [[\"number\", \"index\"], [\"number\", \"ubigeo_inei\"], [\"string\", \"Sexo\"], [\"number\", \"pob. 0 a 5 a\\u00f1os\"]],\n        columnOptions: [{\"width\": \"1px\", \"className\": \"index_column\"}],\n        rowsPerPage: 25,\n        helpUrl: \"https://colab.research.google.com/notebooks/data_table.ipynb\",\n        suppressOutputScrolling: true,\n        minimumWidth: undefined,\n      });\n    "
          },
          "metadata": {},
          "execution_count": 46
        }
      ]
    },
    {
      "cell_type": "code",
      "source": [
        "pop = pop.rename(columns={'pob. 0 a 5 años':'Población'})\n",
        "pop.head()"
      ],
      "metadata": {
        "colab": {
          "base_uri": "https://localhost:8080/",
          "height": 199
        },
        "id": "44q-tecB59IJ",
        "outputId": "9366a21a-7074-4d51-a250-0150d5ec052f"
      },
      "execution_count": 48,
      "outputs": [
        {
          "output_type": "execute_result",
          "data": {
            "text/plain": [
              "   ubigeo_inei Sexo  Población\n",
              "0        10101    F       1068\n",
              "1        10101    M       1078\n",
              "2        10102    F         13\n",
              "3        10102    M         11\n",
              "4        10103    F         98"
            ],
            "text/html": [
              "\n",
              "  <div id=\"df-b61222d3-d68f-442b-a113-7f9eb16c6230\">\n",
              "    <div class=\"colab-df-container\">\n",
              "      <div>\n",
              "<style scoped>\n",
              "    .dataframe tbody tr th:only-of-type {\n",
              "        vertical-align: middle;\n",
              "    }\n",
              "\n",
              "    .dataframe tbody tr th {\n",
              "        vertical-align: top;\n",
              "    }\n",
              "\n",
              "    .dataframe thead th {\n",
              "        text-align: right;\n",
              "    }\n",
              "</style>\n",
              "<table border=\"1\" class=\"dataframe\">\n",
              "  <thead>\n",
              "    <tr style=\"text-align: right;\">\n",
              "      <th></th>\n",
              "      <th>ubigeo_inei</th>\n",
              "      <th>Sexo</th>\n",
              "      <th>Población</th>\n",
              "    </tr>\n",
              "  </thead>\n",
              "  <tbody>\n",
              "    <tr>\n",
              "      <th>0</th>\n",
              "      <td>10101</td>\n",
              "      <td>F</td>\n",
              "      <td>1068</td>\n",
              "    </tr>\n",
              "    <tr>\n",
              "      <th>1</th>\n",
              "      <td>10101</td>\n",
              "      <td>M</td>\n",
              "      <td>1078</td>\n",
              "    </tr>\n",
              "    <tr>\n",
              "      <th>2</th>\n",
              "      <td>10102</td>\n",
              "      <td>F</td>\n",
              "      <td>13</td>\n",
              "    </tr>\n",
              "    <tr>\n",
              "      <th>3</th>\n",
              "      <td>10102</td>\n",
              "      <td>M</td>\n",
              "      <td>11</td>\n",
              "    </tr>\n",
              "    <tr>\n",
              "      <th>4</th>\n",
              "      <td>10103</td>\n",
              "      <td>F</td>\n",
              "      <td>98</td>\n",
              "    </tr>\n",
              "  </tbody>\n",
              "</table>\n",
              "</div>\n",
              "      <button class=\"colab-df-convert\" onclick=\"convertToInteractive('df-b61222d3-d68f-442b-a113-7f9eb16c6230')\"\n",
              "              title=\"Convert this dataframe to an interactive table.\"\n",
              "              style=\"display:none;\">\n",
              "        \n",
              "  <svg xmlns=\"http://www.w3.org/2000/svg\" height=\"24px\"viewBox=\"0 0 24 24\"\n",
              "       width=\"24px\">\n",
              "    <path d=\"M0 0h24v24H0V0z\" fill=\"none\"/>\n",
              "    <path d=\"M18.56 5.44l.94 2.06.94-2.06 2.06-.94-2.06-.94-.94-2.06-.94 2.06-2.06.94zm-11 1L8.5 8.5l.94-2.06 2.06-.94-2.06-.94L8.5 2.5l-.94 2.06-2.06.94zm10 10l.94 2.06.94-2.06 2.06-.94-2.06-.94-.94-2.06-.94 2.06-2.06.94z\"/><path d=\"M17.41 7.96l-1.37-1.37c-.4-.4-.92-.59-1.43-.59-.52 0-1.04.2-1.43.59L10.3 9.45l-7.72 7.72c-.78.78-.78 2.05 0 2.83L4 21.41c.39.39.9.59 1.41.59.51 0 1.02-.2 1.41-.59l7.78-7.78 2.81-2.81c.8-.78.8-2.07 0-2.86zM5.41 20L4 18.59l7.72-7.72 1.47 1.35L5.41 20z\"/>\n",
              "  </svg>\n",
              "      </button>\n",
              "      \n",
              "  <style>\n",
              "    .colab-df-container {\n",
              "      display:flex;\n",
              "      flex-wrap:wrap;\n",
              "      gap: 12px;\n",
              "    }\n",
              "\n",
              "    .colab-df-convert {\n",
              "      background-color: #E8F0FE;\n",
              "      border: none;\n",
              "      border-radius: 50%;\n",
              "      cursor: pointer;\n",
              "      display: none;\n",
              "      fill: #1967D2;\n",
              "      height: 32px;\n",
              "      padding: 0 0 0 0;\n",
              "      width: 32px;\n",
              "    }\n",
              "\n",
              "    .colab-df-convert:hover {\n",
              "      background-color: #E2EBFA;\n",
              "      box-shadow: 0px 1px 2px rgba(60, 64, 67, 0.3), 0px 1px 3px 1px rgba(60, 64, 67, 0.15);\n",
              "      fill: #174EA6;\n",
              "    }\n",
              "\n",
              "    [theme=dark] .colab-df-convert {\n",
              "      background-color: #3B4455;\n",
              "      fill: #D2E3FC;\n",
              "    }\n",
              "\n",
              "    [theme=dark] .colab-df-convert:hover {\n",
              "      background-color: #434B5C;\n",
              "      box-shadow: 0px 1px 3px 1px rgba(0, 0, 0, 0.15);\n",
              "      filter: drop-shadow(0px 1px 2px rgba(0, 0, 0, 0.3));\n",
              "      fill: #FFFFFF;\n",
              "    }\n",
              "  </style>\n",
              "\n",
              "      <script>\n",
              "        const buttonEl =\n",
              "          document.querySelector('#df-b61222d3-d68f-442b-a113-7f9eb16c6230 button.colab-df-convert');\n",
              "        buttonEl.style.display =\n",
              "          google.colab.kernel.accessAllowed ? 'block' : 'none';\n",
              "\n",
              "        async function convertToInteractive(key) {\n",
              "          const element = document.querySelector('#df-b61222d3-d68f-442b-a113-7f9eb16c6230');\n",
              "          const dataTable =\n",
              "            await google.colab.kernel.invokeFunction('convertToInteractive',\n",
              "                                                     [key], {});\n",
              "          if (!dataTable) return;\n",
              "\n",
              "          const docLinkHtml = 'Like what you see? Visit the ' +\n",
              "            '<a target=\"_blank\" href=https://colab.research.google.com/notebooks/data_table.ipynb>data table notebook</a>'\n",
              "            + ' to learn more about interactive tables.';\n",
              "          element.innerHTML = '';\n",
              "          dataTable['output_type'] = 'display_data';\n",
              "          await google.colab.output.renderOutput(dataTable, element);\n",
              "          const docLink = document.createElement('div');\n",
              "          docLink.innerHTML = docLinkHtml;\n",
              "          element.appendChild(docLink);\n",
              "        }\n",
              "      </script>\n",
              "    </div>\n",
              "  </div>\n",
              "  "
            ],
            "application/vnd.google.colaboratory.module+javascript": "\n      import \"https://ssl.gstatic.com/colaboratory/data_table/f872b2c2305463fd/data_table.js\";\n\n      window.createDataTable({\n        data: [[{\n            'v': 0,\n            'f': \"0\",\n        },\n{\n            'v': 10101,\n            'f': \"10101\",\n        },\n\"F\",\n{\n            'v': 1068,\n            'f': \"1068\",\n        }],\n [{\n            'v': 1,\n            'f': \"1\",\n        },\n{\n            'v': 10101,\n            'f': \"10101\",\n        },\n\"M\",\n{\n            'v': 1078,\n            'f': \"1078\",\n        }],\n [{\n            'v': 2,\n            'f': \"2\",\n        },\n{\n            'v': 10102,\n            'f': \"10102\",\n        },\n\"F\",\n{\n            'v': 13,\n            'f': \"13\",\n        }],\n [{\n            'v': 3,\n            'f': \"3\",\n        },\n{\n            'v': 10102,\n            'f': \"10102\",\n        },\n\"M\",\n{\n            'v': 11,\n            'f': \"11\",\n        }],\n [{\n            'v': 4,\n            'f': \"4\",\n        },\n{\n            'v': 10103,\n            'f': \"10103\",\n        },\n\"F\",\n{\n            'v': 98,\n            'f': \"98\",\n        }]],\n        columns: [[\"number\", \"index\"], [\"number\", \"ubigeo_inei\"], [\"string\", \"Sexo\"], [\"number\", \"Poblaci\\u00f3n\"]],\n        columnOptions: [{\"width\": \"1px\", \"className\": \"index_column\"}],\n        rowsPerPage: 25,\n        helpUrl: \"https://colab.research.google.com/notebooks/data_table.ipynb\",\n        suppressOutputScrolling: true,\n        minimumWidth: undefined,\n      });\n    "
          },
          "metadata": {},
          "execution_count": 48
        }
      ]
    },
    {
      "cell_type": "code",
      "source": [
        "print('Población Total {}'.format(pop['Población'].sum()))\n",
        "pop.groupby(['Sexo']).agg({'Población':'sum'}).reset_index()\n",
        "#3367766\n",
        "#F: 1714283\n",
        "#M: 1653483"
      ],
      "metadata": {
        "colab": {
          "base_uri": "https://localhost:8080/",
          "height": 151
        },
        "id": "GVqe_ohuEPZ7",
        "outputId": "8c7c942a-c693-4956-8da8-955bfab93f47"
      },
      "execution_count": 50,
      "outputs": [
        {
          "output_type": "stream",
          "name": "stdout",
          "text": [
            "Población Total 3367766\n"
          ]
        },
        {
          "output_type": "execute_result",
          "data": {
            "text/plain": [
              "  Sexo  Población\n",
              "0    F    1714283\n",
              "1    M    1653483"
            ],
            "text/html": [
              "\n",
              "  <div id=\"df-bf245dc5-cf41-4e9c-a2ae-34f5e74ff88b\">\n",
              "    <div class=\"colab-df-container\">\n",
              "      <div>\n",
              "<style scoped>\n",
              "    .dataframe tbody tr th:only-of-type {\n",
              "        vertical-align: middle;\n",
              "    }\n",
              "\n",
              "    .dataframe tbody tr th {\n",
              "        vertical-align: top;\n",
              "    }\n",
              "\n",
              "    .dataframe thead th {\n",
              "        text-align: right;\n",
              "    }\n",
              "</style>\n",
              "<table border=\"1\" class=\"dataframe\">\n",
              "  <thead>\n",
              "    <tr style=\"text-align: right;\">\n",
              "      <th></th>\n",
              "      <th>Sexo</th>\n",
              "      <th>Población</th>\n",
              "    </tr>\n",
              "  </thead>\n",
              "  <tbody>\n",
              "    <tr>\n",
              "      <th>0</th>\n",
              "      <td>F</td>\n",
              "      <td>1714283</td>\n",
              "    </tr>\n",
              "    <tr>\n",
              "      <th>1</th>\n",
              "      <td>M</td>\n",
              "      <td>1653483</td>\n",
              "    </tr>\n",
              "  </tbody>\n",
              "</table>\n",
              "</div>\n",
              "      <button class=\"colab-df-convert\" onclick=\"convertToInteractive('df-bf245dc5-cf41-4e9c-a2ae-34f5e74ff88b')\"\n",
              "              title=\"Convert this dataframe to an interactive table.\"\n",
              "              style=\"display:none;\">\n",
              "        \n",
              "  <svg xmlns=\"http://www.w3.org/2000/svg\" height=\"24px\"viewBox=\"0 0 24 24\"\n",
              "       width=\"24px\">\n",
              "    <path d=\"M0 0h24v24H0V0z\" fill=\"none\"/>\n",
              "    <path d=\"M18.56 5.44l.94 2.06.94-2.06 2.06-.94-2.06-.94-.94-2.06-.94 2.06-2.06.94zm-11 1L8.5 8.5l.94-2.06 2.06-.94-2.06-.94L8.5 2.5l-.94 2.06-2.06.94zm10 10l.94 2.06.94-2.06 2.06-.94-2.06-.94-.94-2.06-.94 2.06-2.06.94z\"/><path d=\"M17.41 7.96l-1.37-1.37c-.4-.4-.92-.59-1.43-.59-.52 0-1.04.2-1.43.59L10.3 9.45l-7.72 7.72c-.78.78-.78 2.05 0 2.83L4 21.41c.39.39.9.59 1.41.59.51 0 1.02-.2 1.41-.59l7.78-7.78 2.81-2.81c.8-.78.8-2.07 0-2.86zM5.41 20L4 18.59l7.72-7.72 1.47 1.35L5.41 20z\"/>\n",
              "  </svg>\n",
              "      </button>\n",
              "      \n",
              "  <style>\n",
              "    .colab-df-container {\n",
              "      display:flex;\n",
              "      flex-wrap:wrap;\n",
              "      gap: 12px;\n",
              "    }\n",
              "\n",
              "    .colab-df-convert {\n",
              "      background-color: #E8F0FE;\n",
              "      border: none;\n",
              "      border-radius: 50%;\n",
              "      cursor: pointer;\n",
              "      display: none;\n",
              "      fill: #1967D2;\n",
              "      height: 32px;\n",
              "      padding: 0 0 0 0;\n",
              "      width: 32px;\n",
              "    }\n",
              "\n",
              "    .colab-df-convert:hover {\n",
              "      background-color: #E2EBFA;\n",
              "      box-shadow: 0px 1px 2px rgba(60, 64, 67, 0.3), 0px 1px 3px 1px rgba(60, 64, 67, 0.15);\n",
              "      fill: #174EA6;\n",
              "    }\n",
              "\n",
              "    [theme=dark] .colab-df-convert {\n",
              "      background-color: #3B4455;\n",
              "      fill: #D2E3FC;\n",
              "    }\n",
              "\n",
              "    [theme=dark] .colab-df-convert:hover {\n",
              "      background-color: #434B5C;\n",
              "      box-shadow: 0px 1px 3px 1px rgba(0, 0, 0, 0.15);\n",
              "      filter: drop-shadow(0px 1px 2px rgba(0, 0, 0, 0.3));\n",
              "      fill: #FFFFFF;\n",
              "    }\n",
              "  </style>\n",
              "\n",
              "      <script>\n",
              "        const buttonEl =\n",
              "          document.querySelector('#df-bf245dc5-cf41-4e9c-a2ae-34f5e74ff88b button.colab-df-convert');\n",
              "        buttonEl.style.display =\n",
              "          google.colab.kernel.accessAllowed ? 'block' : 'none';\n",
              "\n",
              "        async function convertToInteractive(key) {\n",
              "          const element = document.querySelector('#df-bf245dc5-cf41-4e9c-a2ae-34f5e74ff88b');\n",
              "          const dataTable =\n",
              "            await google.colab.kernel.invokeFunction('convertToInteractive',\n",
              "                                                     [key], {});\n",
              "          if (!dataTable) return;\n",
              "\n",
              "          const docLinkHtml = 'Like what you see? Visit the ' +\n",
              "            '<a target=\"_blank\" href=https://colab.research.google.com/notebooks/data_table.ipynb>data table notebook</a>'\n",
              "            + ' to learn more about interactive tables.';\n",
              "          element.innerHTML = '';\n",
              "          dataTable['output_type'] = 'display_data';\n",
              "          await google.colab.output.renderOutput(dataTable, element);\n",
              "          const docLink = document.createElement('div');\n",
              "          docLink.innerHTML = docLinkHtml;\n",
              "          element.appendChild(docLink);\n",
              "        }\n",
              "      </script>\n",
              "    </div>\n",
              "  </div>\n",
              "  "
            ],
            "application/vnd.google.colaboratory.module+javascript": "\n      import \"https://ssl.gstatic.com/colaboratory/data_table/f872b2c2305463fd/data_table.js\";\n\n      window.createDataTable({\n        data: [[{\n            'v': 0,\n            'f': \"0\",\n        },\n\"F\",\n{\n            'v': 1714283,\n            'f': \"1714283\",\n        }],\n [{\n            'v': 1,\n            'f': \"1\",\n        },\n\"M\",\n{\n            'v': 1653483,\n            'f': \"1653483\",\n        }]],\n        columns: [[\"number\", \"index\"], [\"string\", \"Sexo\"], [\"number\", \"Poblaci\\u00f3n\"]],\n        columnOptions: [{\"width\": \"1px\", \"className\": \"index_column\"}],\n        rowsPerPage: 25,\n        helpUrl: \"https://colab.research.google.com/notebooks/data_table.ipynb\",\n        suppressOutputScrolling: true,\n        minimumWidth: undefined,\n      });\n    "
          },
          "metadata": {},
          "execution_count": 50
        }
      ]
    },
    {
      "cell_type": "markdown",
      "source": [
        "## Validar Nulos"
      ],
      "metadata": {
        "id": "qbPqtRck6mQM"
      }
    },
    {
      "cell_type": "code",
      "source": [
        "Nulls_By_Var(pop)"
      ],
      "metadata": {
        "colab": {
          "base_uri": "https://localhost:8080/",
          "height": 90
        },
        "id": "_Kn0MybW6tK2",
        "outputId": "87702a7b-a29e-4013-cc18-e2e25d98b014"
      },
      "execution_count": 52,
      "outputs": [
        {
          "output_type": "execute_result",
          "data": {
            "text/plain": [
              "Empty DataFrame\n",
              "Columns: [Nulos, Variable, % Nulos]\n",
              "Index: []"
            ],
            "text/html": [
              "\n",
              "  <div id=\"df-07e78ad6-3f91-4ff6-908f-5251cbf334c8\">\n",
              "    <div class=\"colab-df-container\">\n",
              "      <div>\n",
              "<style scoped>\n",
              "    .dataframe tbody tr th:only-of-type {\n",
              "        vertical-align: middle;\n",
              "    }\n",
              "\n",
              "    .dataframe tbody tr th {\n",
              "        vertical-align: top;\n",
              "    }\n",
              "\n",
              "    .dataframe thead th {\n",
              "        text-align: right;\n",
              "    }\n",
              "</style>\n",
              "<table border=\"1\" class=\"dataframe\">\n",
              "  <thead>\n",
              "    <tr style=\"text-align: right;\">\n",
              "      <th></th>\n",
              "      <th>Nulos</th>\n",
              "      <th>Variable</th>\n",
              "      <th>% Nulos</th>\n",
              "    </tr>\n",
              "  </thead>\n",
              "  <tbody>\n",
              "  </tbody>\n",
              "</table>\n",
              "</div>\n",
              "      <button class=\"colab-df-convert\" onclick=\"convertToInteractive('df-07e78ad6-3f91-4ff6-908f-5251cbf334c8')\"\n",
              "              title=\"Convert this dataframe to an interactive table.\"\n",
              "              style=\"display:none;\">\n",
              "        \n",
              "  <svg xmlns=\"http://www.w3.org/2000/svg\" height=\"24px\"viewBox=\"0 0 24 24\"\n",
              "       width=\"24px\">\n",
              "    <path d=\"M0 0h24v24H0V0z\" fill=\"none\"/>\n",
              "    <path d=\"M18.56 5.44l.94 2.06.94-2.06 2.06-.94-2.06-.94-.94-2.06-.94 2.06-2.06.94zm-11 1L8.5 8.5l.94-2.06 2.06-.94-2.06-.94L8.5 2.5l-.94 2.06-2.06.94zm10 10l.94 2.06.94-2.06 2.06-.94-2.06-.94-.94-2.06-.94 2.06-2.06.94z\"/><path d=\"M17.41 7.96l-1.37-1.37c-.4-.4-.92-.59-1.43-.59-.52 0-1.04.2-1.43.59L10.3 9.45l-7.72 7.72c-.78.78-.78 2.05 0 2.83L4 21.41c.39.39.9.59 1.41.59.51 0 1.02-.2 1.41-.59l7.78-7.78 2.81-2.81c.8-.78.8-2.07 0-2.86zM5.41 20L4 18.59l7.72-7.72 1.47 1.35L5.41 20z\"/>\n",
              "  </svg>\n",
              "      </button>\n",
              "      \n",
              "  <style>\n",
              "    .colab-df-container {\n",
              "      display:flex;\n",
              "      flex-wrap:wrap;\n",
              "      gap: 12px;\n",
              "    }\n",
              "\n",
              "    .colab-df-convert {\n",
              "      background-color: #E8F0FE;\n",
              "      border: none;\n",
              "      border-radius: 50%;\n",
              "      cursor: pointer;\n",
              "      display: none;\n",
              "      fill: #1967D2;\n",
              "      height: 32px;\n",
              "      padding: 0 0 0 0;\n",
              "      width: 32px;\n",
              "    }\n",
              "\n",
              "    .colab-df-convert:hover {\n",
              "      background-color: #E2EBFA;\n",
              "      box-shadow: 0px 1px 2px rgba(60, 64, 67, 0.3), 0px 1px 3px 1px rgba(60, 64, 67, 0.15);\n",
              "      fill: #174EA6;\n",
              "    }\n",
              "\n",
              "    [theme=dark] .colab-df-convert {\n",
              "      background-color: #3B4455;\n",
              "      fill: #D2E3FC;\n",
              "    }\n",
              "\n",
              "    [theme=dark] .colab-df-convert:hover {\n",
              "      background-color: #434B5C;\n",
              "      box-shadow: 0px 1px 3px 1px rgba(0, 0, 0, 0.15);\n",
              "      filter: drop-shadow(0px 1px 2px rgba(0, 0, 0, 0.3));\n",
              "      fill: #FFFFFF;\n",
              "    }\n",
              "  </style>\n",
              "\n",
              "      <script>\n",
              "        const buttonEl =\n",
              "          document.querySelector('#df-07e78ad6-3f91-4ff6-908f-5251cbf334c8 button.colab-df-convert');\n",
              "        buttonEl.style.display =\n",
              "          google.colab.kernel.accessAllowed ? 'block' : 'none';\n",
              "\n",
              "        async function convertToInteractive(key) {\n",
              "          const element = document.querySelector('#df-07e78ad6-3f91-4ff6-908f-5251cbf334c8');\n",
              "          const dataTable =\n",
              "            await google.colab.kernel.invokeFunction('convertToInteractive',\n",
              "                                                     [key], {});\n",
              "          if (!dataTable) return;\n",
              "\n",
              "          const docLinkHtml = 'Like what you see? Visit the ' +\n",
              "            '<a target=\"_blank\" href=https://colab.research.google.com/notebooks/data_table.ipynb>data table notebook</a>'\n",
              "            + ' to learn more about interactive tables.';\n",
              "          element.innerHTML = '';\n",
              "          dataTable['output_type'] = 'display_data';\n",
              "          await google.colab.output.renderOutput(dataTable, element);\n",
              "          const docLink = document.createElement('div');\n",
              "          docLink.innerHTML = docLinkHtml;\n",
              "          element.appendChild(docLink);\n",
              "        }\n",
              "      </script>\n",
              "    </div>\n",
              "  </div>\n",
              "  "
            ],
            "application/vnd.google.colaboratory.module+javascript": "\n      import \"https://ssl.gstatic.com/colaboratory/data_table/f872b2c2305463fd/data_table.js\";\n\n      window.createDataTable({\n        data: [],\n        columns: [[\"number\", \"index\"], [\"number\", \"Nulos\"], [\"number\", \"Variable\"], [\"number\", \"% Nulos\"]],\n        columnOptions: [{\"width\": \"1px\", \"className\": \"index_column\"}],\n        rowsPerPage: 25,\n        helpUrl: \"https://colab.research.google.com/notebooks/data_table.ipynb\",\n        suppressOutputScrolling: true,\n        minimumWidth: undefined,\n      });\n    "
          },
          "metadata": {},
          "execution_count": 52
        }
      ]
    },
    {
      "cell_type": "markdown",
      "source": [
        "## Validar Tipos de Dato"
      ],
      "metadata": {
        "id": "qJYjAq0o6wqY"
      }
    },
    {
      "cell_type": "code",
      "source": [
        "pop.dtypes"
      ],
      "metadata": {
        "colab": {
          "base_uri": "https://localhost:8080/"
        },
        "id": "XBqXPp0UZGwq",
        "outputId": "0607b235-40ea-4b6b-f8cc-d6da59c2f8d5"
      },
      "execution_count": 53,
      "outputs": [
        {
          "output_type": "execute_result",
          "data": {
            "text/plain": [
              "ubigeo_inei     int64\n",
              "Sexo           object\n",
              "Población       int64\n",
              "dtype: object"
            ]
          },
          "metadata": {},
          "execution_count": 53
        }
      ]
    },
    {
      "cell_type": "markdown",
      "source": [
        "Se corrige el tipo de dato de ubigeo"
      ],
      "metadata": {
        "id": "TmgRT4Ng6zZx"
      }
    },
    {
      "cell_type": "code",
      "source": [
        "pop['ubigeo_inei'] = pop['ubigeo_inei'].astype(float)"
      ],
      "metadata": {
        "id": "PxriR4TvZIyp"
      },
      "execution_count": 54,
      "outputs": []
    },
    {
      "cell_type": "markdown",
      "source": [
        "## Exportar datos"
      ],
      "metadata": {
        "id": "AgFIIFlL7Kcj"
      }
    },
    {
      "cell_type": "code",
      "source": [
        "path = '/content/drive/MyDrive/Colab Notebooks/Portafolio/Data/'#Guardar el DataSet en la carpeta ../Data\n",
        "os.chdir(path)"
      ],
      "metadata": {
        "id": "KHWNDb1S7Kck"
      },
      "execution_count": 56,
      "outputs": []
    },
    {
      "cell_type": "code",
      "source": [
        "pop.to_csv( filename + '_utf8_.csv', index=False, encoding='utf-8-sig')"
      ],
      "metadata": {
        "id": "YYtbJ7osDMiP"
      },
      "execution_count": 57,
      "outputs": []
    },
    {
      "cell_type": "markdown",
      "source": [
        "# Generación del Dahsboard\n",
        "Se utiliza Tableau para generar un dashboard descriptivo de la data\n",
        "* URL: https://public.tableau.com/app/profile/cesar.oporto/viz/SIEN_Anemia_2020_v2/Historia1"
      ],
      "metadata": {
        "id": "qVqJwVV-8pxN"
      }
    }
  ]
}